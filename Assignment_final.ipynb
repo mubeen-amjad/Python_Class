{
 "cells": [
  {
   "cell_type": "markdown",
   "id": "0dbae9c7",
   "metadata": {},
   "source": [
    "### Q1:   What is a vector?\n",
    "#### Ans:\n",
    "\n",
    "A vector is a one dimentional array of list."
   ]
  },
  {
   "cell_type": "markdown",
   "id": "e3236bd6",
   "metadata": {},
   "source": [
    "### Q2: How do you represent vectors using a Python list? Give an example\n",
    "#### Ans:\n",
    "\n",
    "Numpy library will be required.\n",
    "    \n",
    "list1 = [1, 3, 5, 7, 9]\n",
    "\n",
    "list2 = [2, 4, 6, 8, 10]\n",
    "\n",
    "vct1 = np.array(list1)\n",
    "\n",
    "vct2 = np.array(list2)\n",
    "\n",
    "To view the result, print() function will be used with the following syntax,\n",
    "\n",
    "print(\"Vector created from list1:  \", (vct1))\n",
    "\n",
    "print (\"Vector created from list2:  \", (vct2))"
   ]
  },
  {
   "cell_type": "markdown",
   "id": "927d2cb1",
   "metadata": {},
   "source": [
    "### Example of Q2"
   ]
  },
  {
   "cell_type": "code",
   "execution_count": 1,
   "id": "a683d606",
   "metadata": {},
   "outputs": [
    {
     "name": "stdout",
     "output_type": "stream",
     "text": [
      "Vector created from list1:   [1 3 5 7 9]\n",
      "Vector created from list2:   [ 2  4  6  8 10]\n"
     ]
    }
   ],
   "source": [
    "# example of Q2\n",
    "import numpy as np\n",
    "    \n",
    "list1 = [1, 3, 5, 7, 9]\n",
    "\n",
    "list2 = [2, 4, 6, 8, 10]\n",
    "\n",
    "vct1 = np.array(list1)\n",
    "\n",
    "vct2 = np.array(list2)\n",
    "\n",
    "print(\"Vector created from list1:  \", (vct1))\n",
    "\n",
    "print (\"Vector created from list2:  \", (vct2))"
   ]
  },
  {
   "cell_type": "markdown",
   "id": "0a44f2d9",
   "metadata": {},
   "source": [
    "### Q3: What is a dot product of two vectors?\n",
    "#### Ans:\n",
    "\n",
    "The dot product is the multiplication of two equal vectors.\n",
    "\n",
    "It is the sum of the product of corresponding elements of vectors.\n",
    "\n",
    "vct3 = np.array ([a, b, c, d])\n",
    "\n",
    "vct4 = np.array ([e, f, g, h])\n",
    "\n",
    "the dot product of vct3 * vct4 (multiplying crossponding elements of vectors and\n",
    "\n",
    "adding the product of vectors = (a * e)  + (b * f) + (c * g) + (d * h) "
   ]
  },
  {
   "cell_type": "markdown",
   "id": "52dfe94b",
   "metadata": {},
   "source": [
    "### Q4:  Write a function to compute the dot product of two vectors\n",
    "#### Ans:\n",
    "\n",
    "Answer is given below;"
   ]
  },
  {
   "cell_type": "code",
   "execution_count": 8,
   "id": "27838b94",
   "metadata": {},
   "outputs": [
    {
     "name": "stdout",
     "output_type": "stream",
     "text": [
      "684\n"
     ]
    }
   ],
   "source": [
    "#Ans Q4:\n",
    "\n",
    "import numpy as np\n",
    "vct3 = ([1, 5, 10, 15])\n",
    "vct4 = ([4, 8, 16, 32])\n",
    "#the dot product of vct3 * vct4 (multiplying crossponding elements of vectors and adding the product\n",
    "#the dot() function will be used to calculate the product of vectors in python\n",
    "\n",
    "print (np. dot(vct3, vct4))"
   ]
  },
  {
   "cell_type": "markdown",
   "id": "f518c565",
   "metadata": {},
   "source": [
    "### Q5: What is Numpy"
   ]
  },
  {
   "cell_type": "markdown",
   "id": "4d4ec2b0",
   "metadata": {},
   "source": [
    "#### Ans:\n",
    "\n",
    "Numpy is a Python library (short for numerical python). It is suitable to store more data in less memory and used for scientific computing and can perform mathematical and logical operations on arrays and linear algebra calculations etc.  "
   ]
  },
  {
   "cell_type": "markdown",
   "id": "51f26d86",
   "metadata": {},
   "source": [
    "### Q6: How do you install Numpy?"
   ]
  },
  {
   "cell_type": "markdown",
   "id": "0776792d",
   "metadata": {},
   "source": [
    "#### Ans:\n",
    "\n",
    "The sytax to install numpy is;\n",
    "    \n",
    "!pip install numpy"
   ]
  },
  {
   "cell_type": "markdown",
   "id": "83a06ae2",
   "metadata": {},
   "source": [
    "### Q7: How do you import the numpy module?\n",
    "#### Ans:\n",
    "\n",
    "To import numpy library, following syntax is used,\n",
    "\n",
    "import numpy \n",
    "\n",
    "or\n",
    "\n",
    "import numpy as np \n",
    "\n",
    "(Note: np is the alias keyword of numpy)"
   ]
  },
  {
   "cell_type": "markdown",
   "id": "0c8a5ff6",
   "metadata": {},
   "source": [
    "### Q8: What does it mean to import a module with an alias? Give an example\n",
    "#### Ans: \n",
    "\n",
    "It is best practice to import module with an alias of short keywords so that it can be used easily while in coding and save time to repeat module name every time when required.\n",
    "\n",
    "For example if we import numpy as np, we will use np keyword every time insted of typing numpy.\n",
    "\n",
    "e.g \n",
    "\n",
    "import numpy as np\n",
    "\n",
    "arr1 = np.array ([1 ,2, 3, 4, 5])\n",
    "\n",
    "otherwise we have to type arr1 = numpy.array ([1, 2, 3, 4, 5])"
   ]
  },
  {
   "cell_type": "markdown",
   "id": "6099df44",
   "metadata": {},
   "source": [
    "### Q9: What is the commonly used alias for numpy?\n",
    "#### Ans:\n",
    "\n",
    "The commonly used alias for numpy library module is np"
   ]
  },
  {
   "cell_type": "markdown",
   "id": "24a8e71c",
   "metadata": {},
   "source": [
    "### Q10: What is a Numpy array? \n",
    "#### Ans:\n",
    "\n",
    "A numpy array is a grid of value indexed by a tuple of +ive integers. Arrays can have more than one dimentions.\n",
    "\n",
    "The number of dimensions is the rank of the array.\n",
    "\n",
    "The shape of an array is a tuple of integers giving the size of the array along each dimension."
   ]
  },
  {
   "cell_type": "markdown",
   "id": "de751e1f",
   "metadata": {},
   "source": [
    "### Q11: How do you create a Numpy array? Give an example.\n",
    "#### Ans:\n",
    "\n",
    "\n",
    "Numpy array can be created using the array constructor, numpy.array() or np.array() if alias np is being used.\n",
    "\n",
    "import numpy as np\n",
    "\n",
    "arr = np.array(seq, dtype)\n",
    "\n",
    "arr = np.array([])             \n",
    "\n",
    "to create an empty array"
   ]
  },
  {
   "cell_type": "markdown",
   "id": "b5a0ce6a",
   "metadata": {},
   "source": [
    "### Q12: What is the type of Numpy arrays?\n",
    "#### Ans:\n",
    "\n",
    "The default type of numpy array is float, however other types are integer, boolean, complex float etc. "
   ]
  },
  {
   "cell_type": "markdown",
   "id": "f63b38f2",
   "metadata": {},
   "source": [
    "### Q13: How do you access the elements of a Numpy array?\n",
    "#### Ans:\n",
    "\n",
    "The elements of the array can be accessed with their relevant index numbers (starting from 0)"
   ]
  },
  {
   "cell_type": "markdown",
   "id": "beedc74e",
   "metadata": {},
   "source": [
    "### Q14: How do you compute the dot product of two vectors using Numpy?\n",
    "#### Ans:\n",
    "\n",
    "First of all we need to import numpy module as np, then we need to create vectors with the help of np.array and then  calculate the dot product of two vectors by adding the product of their respective elements.\n",
    "\n",
    "e.g.\n",
    "\n",
    "import numpy as np\n",
    "\n",
    "vct1 = np.array([13, 5, 10, 7])\n",
    "vct2 = np.array([8, 9, 11, 55])\n",
    "\n",
    "#dot product of vct1 and vct2 with the help of dot() function\n",
    "\n",
    "print (np.dot(vct1, vct2))\n",
    "\n",
    "Note: a complete example is given below"
   ]
  },
  {
   "cell_type": "code",
   "execution_count": 45,
   "id": "c82b6a71",
   "metadata": {},
   "outputs": [
    {
     "name": "stdout",
     "output_type": "stream",
     "text": [
      "4494\n"
     ]
    }
   ],
   "source": [
    "# Example of dot() function\n",
    "\n",
    "import numpy as np\n",
    "\n",
    "vct1 = np.array([13, 5, 10, 77])\n",
    "vct2 = np.array([8, 9, 11, 55])\n",
    "\n",
    "#dot product of vct1 and vct2 with the help of dot() function\n",
    "#print (np. dot(vct3, vct4))\n",
    "\n",
    "print (np. dot(vct1, vct2))"
   ]
  },
  {
   "cell_type": "markdown",
   "id": "daf06701",
   "metadata": {},
   "source": [
    "### Q15: What happens if you try to compute the dot product of two vectors which have different sizes?\n",
    "#### Ans:\n",
    "\n",
    "Since the dot product of vectors is the multiplication of elements at the same position, therefore two vectors must have the same length. \n",
    "\n",
    "If we try to obtain dot product of vectors having differen size of length, the programm will give an error."
   ]
  },
  {
   "cell_type": "markdown",
   "id": "82f29309",
   "metadata": {},
   "source": [
    "### Q16: How do you compute the element-wise product of two Numpy arrays?\n",
    "#### Ans:\n",
    "\n",
    "The element wise product of two numpy arrays can be obtained with the help of multiply() function.\n",
    "\n",
    "the example is given below:"
   ]
  },
  {
   "cell_type": "code",
   "execution_count": 20,
   "id": "941e8c7b",
   "metadata": {},
   "outputs": [
    {
     "name": "stdout",
     "output_type": "stream",
     "text": [
      "The product of two arrays:   [135 330 462 792]\n"
     ]
    }
   ],
   "source": [
    "# Example of multiply() function\n",
    "\n",
    "import numpy as np\n",
    "arr5 = np.array ([3, 5, 6, 9])\n",
    "arr6 = np.array ([45, 66, 77, 88])\n",
    "mlpy = np.multiply (arr5, arr6)\n",
    "print (\"The product of two arrays:  \",mlpy)\n",
    "\n"
   ]
  },
  {
   "cell_type": "markdown",
   "id": "2d4f2efa",
   "metadata": {},
   "source": [
    "### Q17: How do you compute the sum of all the elements in a Numpy array?\n",
    "#### Ans:\n",
    "\n",
    "The sum() function is used to calculate the sum of all elements in the numpy array as shown in the below example."
   ]
  },
  {
   "cell_type": "code",
   "execution_count": 50,
   "id": "31114a23",
   "metadata": {},
   "outputs": [
    {
     "name": "stdout",
     "output_type": "stream",
     "text": [
      "Sum of all elements in the array =   234\n"
     ]
    }
   ],
   "source": [
    "# Example of sum() function\n",
    "\n",
    "import numpy as np\n",
    "arr7 = np.array ([11, 43, 55, 47, 78])\n",
    "\n",
    "print(\"Sum of all elements in the array =  \",np.sum(arr7))"
   ]
  },
  {
   "cell_type": "markdown",
   "id": "85e76f4e",
   "metadata": {},
   "source": [
    "### Q18: What are the benefits of using Numpy arrays over Python lists for operating on numerical data?\n",
    "#### Ans:\n",
    "\n",
    "Using Numpy arrays makes program more efficient as commpare to using Python Lists because Numpy arrays are stored at one continuous place in the memory where as data in a list stored in random areas of memory which makes it slower to access.\n",
    "\n",
    "This behavior is called locality of reference in computer science.\n",
    "\n",
    "This is the main reason why NumPy is faster than lists. Also it is optimized to work with latest CPU architectures."
   ]
  },
  {
   "cell_type": "markdown",
   "id": "16a7c68c",
   "metadata": {},
   "source": [
    "### Q19: Why do Numpy array operations have better performance compared to Python functions and loops?\n",
    "#### Ans:\n",
    "\n",
    "The numpy is optimized for certain operations, whereas lists are created as  generic. When numpy performs a calculation on an array it knows exactly what it contains (integers or floats - actual values stored in memory in arranged manner), and  also know the size of the array but when Python performs calculation in the list it knows that it contains objects, and it has further steps to adopt before it is able to execute an operation. Therefore, there are significant performance differences."
   ]
  },
  {
   "cell_type": "markdown",
   "id": "cc1c9780",
   "metadata": {},
   "source": [
    "### Q20: Illustrate the performance difference between Numpy array operations and Python loops using an example. \n",
    "\n",
    "#### Ans:\n",
    "\n",
    " Following is the calcualted comparison of list and array\n"
   ]
  },
  {
   "cell_type": "code",
   "execution_count": 64,
   "id": "d64192b7",
   "metadata": {},
   "outputs": [
    {
     "name": "stdout",
     "output_type": "stream",
     "text": [
      "(Python List occupying memory)\n",
      "Size of each element of list in bytes:  48\n",
      "Size of the whole list in bytes:  240000\n",
      "\n",
      "(numpy Array occupying memory)\n",
      "Size of each element of the Numpy array in bytes:  4\n",
      "Size of the whole Numpy array in bytes:  20000\n"
     ]
    }
   ],
   "source": [
    "#Example for Q20:\n",
    "\n",
    "import numpy as np\n",
    "import sys\n",
    "\n",
    "list1= range(5000)\n",
    "\n",
    "print(\"(Python List occupying memory)\")\n",
    "\n",
    "# printing size of each element of the list\n",
    "print(\"Size of each element of list in bytes: \",sys.getsizeof(list1))\n",
    "\n",
    "\n",
    "# printing size of the whole list\n",
    "print(\"Size of the whole list in bytes: \",sys.getsizeof(list1)*len(list1))\n",
    "print()\n",
    "\n",
    "print(\"(numpy Array occupying memory)\")\n",
    "array = np.arange(5000)\n",
    "\n",
    "# printing size of each element of the Numpy array\n",
    "print(\"Size of each element of the Numpy array in bytes: \",array.itemsize)\n",
    "\n",
    "# printing size of the whole Numpy array\n",
    "print(\"Size of the whole Numpy array in bytes: \",array.size*array.itemsize)\n"
   ]
  },
  {
   "cell_type": "code",
   "execution_count": 66,
   "id": "7e130474",
   "metadata": {},
   "outputs": [
    {
     "name": "stdout",
     "output_type": "stream",
     "text": [
      "22.4089422999823\n",
      "0.06902080000145361\n"
     ]
    }
   ],
   "source": [
    "#Code copied from some other website\n",
    "\n",
    "import numpy as np\n",
    "import timeit\n",
    "\n",
    "\n",
    "def sum_with_for_loop(array) -> int:\n",
    "    sum = 0\n",
    "    for i in array:\n",
    "        sum += i\n",
    "    return sum\n",
    "\n",
    "\n",
    "def sum_with_np_sum(array) -> int:\n",
    "    return np.sum(array)\n",
    "\n",
    "\n",
    "if __name__ == \"__main__\":\n",
    "    array = np.random.randint(0, 100, 1000000)\n",
    "\n",
    "    # print time for for loop\n",
    "    print(timeit.timeit(lambda: sum_with_for_loop(array), number=100))\n",
    "\n",
    "    # print time for np.sum\n",
    "    print(timeit.timeit(lambda: sum_with_np_sum(array), number=100))"
   ]
  },
  {
   "cell_type": "markdown",
   "id": "413d2e40",
   "metadata": {},
   "source": [
    "### Q21: What are multi-dimensional Numpy arrays? \n",
    "#### Ans:\n",
    "\n",
    "A multi-dimensional array is an array with more than one level or dimension. These arrays are also called matrices and  are powerfull data structure in Python."
   ]
  },
  {
   "cell_type": "markdown",
   "id": "8743eb31",
   "metadata": {},
   "source": [
    "### Q22: Illustrate the creation of Numpy arrays with 2, 3, and 4 dimensions.\n",
    "#### Ans:\n",
    "\n",
    "Following are the examples of creating multidimension arrays; "
   ]
  },
  {
   "cell_type": "code",
   "execution_count": 108,
   "id": "56d883f7",
   "metadata": {},
   "outputs": [
    {
     "name": "stdout",
     "output_type": "stream",
     "text": [
      "Calculate dimensions of the array 'mdarr1' =   2\n",
      "\n",
      "Calculate dimensions of the array 'mdarr2' =   3\n",
      "\n",
      "Calculate dimensions of the array 'mdarr3' =   4\n"
     ]
    }
   ],
   "source": [
    "import numpy as np\n",
    "\n",
    "# mdarr stands for multidimension array\n",
    "mdarr1 = np.array([[1, 13, 15, 20], [11, 12, 13, 14]]) # example of 2D array creation\n",
    "\n",
    "mdarr2 = np.array([[[1, 13, 15, 20], [11, 12, 13, 14], [22, 23, 24, 25]]]) # example of 3D array creation\n",
    "\n",
    "mdarr3 = np.array([[[[1, 13, 15, 20], [11, 12, 13, 14], [22, 23, 24, 25], [33, 44, 55, 66]]]]) # example of 4D array creation\n",
    "\n",
    "print (\"Calculate dimensions of the array 'mdarr1' =  \" , (mdarr1.ndim))\n",
    "print()\n",
    "print (\"Calculate dimensions of the array 'mdarr2' =  \" , (mdarr2.ndim))\n",
    "print()\n",
    "print (\"Calculate dimensions of the array 'mdarr3' =  \" , (mdarr3.ndim))  "
   ]
  },
  {
   "cell_type": "markdown",
   "id": "1118fa63",
   "metadata": {},
   "source": [
    "### Q23: How do you inspect the number of dimensions and the length along each dimension in a Numpy array?\n",
    "#### Ans:\n",
    "\n",
    "We use following attribute to find out the dimensions of Numpy Array;\n",
    "\n",
    "array_name.ndim \n",
    "\n",
    "We use following length function to find out the length of Array;\n",
    "\n",
    "length = array_name.__len__()"
   ]
  },
  {
   "cell_type": "markdown",
   "id": "50ac8d69",
   "metadata": {
    "collapsed": true
   },
   "source": [
    "### Q24: Can the elements of a Numpy array have different data types? \n",
    "#### Ans:\n",
    "No.\n",
    "\n",
    "(infact all elements of the array are of same data type and should be homogeneous) "
   ]
  },
  {
   "cell_type": "markdown",
   "id": "628ea3b4",
   "metadata": {},
   "source": [
    "### Q25: How do you check the data type of the elements of a Numpy array?\n",
    "#### Ans:\n",
    "\n",
    "dtype attribute is used to check the data type of an array.\n",
    "\n",
    "following is the example,"
   ]
  },
  {
   "cell_type": "code",
   "execution_count": 127,
   "id": "0941426b",
   "metadata": {},
   "outputs": [
    {
     "name": "stdout",
     "output_type": "stream",
     "text": [
      "Array: ['a' 'b' 'c' 'd' 'e']\n",
      "Datatype: <U1\n",
      "\n",
      "Array: [1 3 5 7 9]\n",
      "Datatype: int32\n"
     ]
    }
   ],
   "source": [
    "import numpy as np\n",
    "arr1 = np.array(['a' , 'b', 'c', 'd', 'e'])\n",
    "arr2 = np.array([1, 3, 5, 7, 9])\n",
    "print('Array:', arr1)\n",
    "print('Datatype:', arr1.dtype)\n",
    "print()\n",
    "print('Array:', arr2)\n",
    "print('Datatype:', arr2.dtype)\n",
    "\n"
   ]
  },
  {
   "cell_type": "markdown",
   "id": "8ce25596",
   "metadata": {},
   "source": [
    "### Q26: What is the data type of a Numpy array? \n",
    "#### Ans:\n",
    "\n",
    " Numpy array can be of one of the follwoing basic data types,\n",
    " \n",
    " Bool\n",
    " \n",
    " int (int8, int32, int64)\n",
    " \n",
    " float (float16, float32, float64, float128)\n",
    " \n",
    " object\n",
    " \n",
    " string\n",
    " \n",
    " unicode \n",
    " \n",
    " etc.\n",
    " "
   ]
  },
  {
   "cell_type": "markdown",
   "id": "ad68967e",
   "metadata": {},
   "source": [
    "### Q27: What is the difference between a matrix and a 2D Numpy array? \n",
    "#### Ans:\n",
    "\n",
    "Numpy arrays are 1D, 2D, 3D, 4D........nD (dimensions) but matrices are only 2 dimensional only.\n",
    "\n",
    "Matrix elements are subclass of nd-array."
   ]
  },
  {
   "cell_type": "markdown",
   "id": "cbc584de",
   "metadata": {},
   "source": [
    "### Q28: How do you perform matrix multiplication using Numpy?\n",
    "#### Ans:\n",
    "\n",
    "The multplying of matrices can be done in Numpy with the help of vectorisation of matrices"
   ]
  },
  {
   "cell_type": "markdown",
   "id": "506f8a9b",
   "metadata": {},
   "source": [
    "### Q29: What is the @ operator used for in Numpy?\n",
    "#### Ans:\n",
    "\n",
    "The @ operator is used for matrix multiplications\n"
   ]
  },
  {
   "cell_type": "markdown",
   "id": "ee9223c5",
   "metadata": {},
   "source": [
    "### Q30: What is the CSV file format? \n",
    "#### Ans:\n",
    "\n",
    "csv stands for comma seperated value file format."
   ]
  },
  {
   "cell_type": "markdown",
   "id": "8aa89295",
   "metadata": {},
   "source": [
    "### Q31: How do you read data from a CSV file using Numpy?\n",
    "#### Ans:\n",
    "\n",
    "First of all we need to install and import panda library.\n",
    "\n",
    "We can use read_csv() function to read the csv file according to the following syntax;\n",
    "\n",
    "!pip install pandas\n",
    "\n",
    "import pandas as pd\n",
    "\n",
    "spreadsheet = pd.read_csv(filename.csv)\n",
    "\n",
    "spreadsheet.head() is used to view the file"
   ]
  },
  {
   "cell_type": "markdown",
   "id": "bc8e600d",
   "metadata": {},
   "source": [
    "### Q32: How do you concatenate two Numpy arrays?\n",
    "#### Ans:\n",
    "\n",
    "Numpy arrays can be concatenated with the help of concatenate() function."
   ]
  },
  {
   "cell_type": "code",
   "execution_count": 9,
   "id": "16808cae",
   "metadata": {},
   "outputs": [
    {
     "name": "stdout",
     "output_type": "stream",
     "text": [
      "[11 12 13 14 15 16]\n"
     ]
    }
   ],
   "source": [
    "#Example of Q 32\n",
    "\n",
    "\n",
    "import numpy as np\n",
    "\n",
    "arr11 = np.array([11, 12, 13])\n",
    "\n",
    "arr12 = np.array([14, 15, 16])\n",
    "\n",
    "arr = np.concatenate((arr11, arr12))\n",
    "\n",
    "print(arr)"
   ]
  },
  {
   "cell_type": "markdown",
   "id": "c33d5e8d",
   "metadata": {},
   "source": [
    "### Q33: What is the purpose of the axis argument of np.concatenate?\n",
    "#### Ans:\n",
    "\n",
    "Concatenating of Numpy arrays is like stacking of arrays. The axis perameter we define along with the stack of the arrays.\n",
    "\n",
    "If axis = 0 it run vertically down the rows."
   ]
  },
  {
   "cell_type": "markdown",
   "id": "612efa32",
   "metadata": {},
   "source": [
    "### Q34:  When are two Numpy arrays compatible for concatenation?\n",
    "#### Ans:\n",
    "\n",
    "The arrays of the same shape are compatible for concatenation, except in the dimension corresponding to axis.\n",
    "\n",
    "To check if all elements of two NumPy arrays are equal: np. array_equal() , np. array_equiv() You can check if all elements of two NumPy arrays are equal with == and np."
   ]
  },
  {
   "cell_type": "markdown",
   "id": "8aa52b57",
   "metadata": {},
   "source": [
    "### Q35: Give an example of two Numpy arrays that can be concatenated.\n",
    "#### Ans:\n",
    "\n",
    "For example \n",
    "\n",
    "arr13 = np.array([[1, 2, 3], [4, 5, 6]])\n",
    "\n",
    "arr14 = np.array([[7, 8, 9], [10, 11, 12]])\n",
    "\n"
   ]
  },
  {
   "cell_type": "code",
   "execution_count": 11,
   "id": "8a3addc5",
   "metadata": {},
   "outputs": [
    {
     "name": "stdout",
     "output_type": "stream",
     "text": [
      "First numpy arrays:\n",
      " [[1 2 3]\n",
      " [4 5 6]]\n",
      "Second numpy arrays:\n",
      " [[ 7  8  9]\n",
      " [10 11 12]]\n",
      "After concatenating the array along axis 1:\n",
      " [[ 1  2  3  7  8  9]\n",
      " [ 4  5  6 10 11 12]]\n"
     ]
    }
   ],
   "source": [
    "# Example of compatible numpy arrays\n",
    "\n",
    "import numpy as np\n",
    "\n",
    "arr13 = np.array([[1, 2, 3],\n",
    "                  [4, 5, 6]])\n",
    "print(\"First numpy arrays:\\n\", arr13)\n",
    "arr14 = np.array([[7, 8, 9],\n",
    "                  [10, 11, 12]])\n",
    "print(\"Second numpy arrays:\\n\", arr14)\n",
    "\n",
    "result = np.concatenate((arr13, arr14), axis=1)\n",
    "print(\"After concatenating the array along axis 1:\\n\", result)"
   ]
  },
  {
   "cell_type": "markdown",
   "id": "c4f45c3b",
   "metadata": {},
   "source": [
    "### Q36: Give an example of two Numpy arrays that cannot be concatenated\n",
    "#### Ans:\n",
    "\n",
    "The arrays having NumPy \"ValueError: zero-dimensional arrays cannot be concatenated\" occurs when you pass a single one-dimensional array to the numpy. concatenate() method."
   ]
  },
  {
   "cell_type": "markdown",
   "id": "cade2a31",
   "metadata": {},
   "source": [
    "### Q37: What is the purpose of the np.reshape function?\n",
    "#### Ans:\n",
    "\n",
    "We can add or remove dimensions or change number of elements in each dimension with the help of reshape function."
   ]
  },
  {
   "cell_type": "markdown",
   "id": "28f7fdbd",
   "metadata": {},
   "source": [
    "### Q38: What does it mean to “reshape” a Numpy array?\n",
    "#### Ans:\n",
    "\n",
    "Reshaping means changing the shape of an array. The shape of an array is the number of elements in each dimension. Number of elements or dimensions can be added or removed to reshape the Numpy arrays.\n"
   ]
  },
  {
   "cell_type": "markdown",
   "id": "b6626024",
   "metadata": {},
   "source": [
    "### Q39: How do you write a numpy array into a CSV file?\n",
    "#### Ans:\n",
    "\n",
    "With the help of panda library we can write Numpy array into csv file as per follwoing steps;\n",
    "\n",
    "import numpy as np \n",
    "\n",
    "import pandas as pd.\n",
    "\n",
    "Create a 2D numpy array data = np. array([[1, 2, 3], [4, 5, 6], [7, 8, 9]]) e.g\n",
    "\n",
    "Convert numpy array to pandas DataFrame df = pd. DataFrame(data)\n",
    "\n",
    "Save DataFrame to .csv df. to_csv('data.csv', index=False)"
   ]
  },
  {
   "cell_type": "markdown",
   "id": "f1c5a65d",
   "metadata": {},
   "source": [
    "### Q40: Give some examples of Numpy functions for performing mathematical operations\n",
    "#### Ans:\n",
    "Python has a wide range of standard arithmetic operations like addition, subtraction, multiplication, and divisions etc.\n",
    "There are specific functions in NumPy for performing arithmetic operations. "
   ]
  },
  {
   "cell_type": "code",
   "execution_count": 13,
   "id": "5b8c86ba",
   "metadata": {},
   "outputs": [
    {
     "name": "stdout",
     "output_type": "stream",
     "text": [
      "[ 13  24 105 206 507]\n"
     ]
    }
   ],
   "source": [
    "# examples of Q40\n",
    "\n",
    "#NumPy Add function\n",
    "\n",
    "import numpy as np\n",
    "a = np.array([10,20,100,200,500])\n",
    "b = np.array([3,4,5,6,7])\n",
    "print(np.add(a, b))\n"
   ]
  },
  {
   "cell_type": "code",
   "execution_count": 15,
   "id": "62d40edb",
   "metadata": {},
   "outputs": [
    {
     "name": "stdout",
     "output_type": "stream",
     "text": [
      "[  7  16  95 194 493]\n"
     ]
    }
   ],
   "source": [
    "# examples of Q40 (Contn..)\n",
    "#NumPy Subtract function\n",
    "\n",
    "import numpy as np\n",
    "a = np.array([10,20,100,200,500])\n",
    "b = np.array([3,4,5,6,7])\n",
    "print(np.subtract(a, b))\n"
   ]
  },
  {
   "cell_type": "code",
   "execution_count": 16,
   "id": "54ea6812",
   "metadata": {},
   "outputs": [
    {
     "name": "stdout",
     "output_type": "stream",
     "text": [
      "[21 12 20 30  7]\n"
     ]
    }
   ],
   "source": [
    "# examples of Q40 (Contn..)\n",
    "\n",
    "#NumPy Multiply function\n",
    "\n",
    "import numpy as np\n",
    "a = np.array([7,3,4,5,1])\n",
    "b = np.array([3,4,5,6,7])\n",
    "print (np.multiply(a, b))\n"
   ]
  },
  {
   "cell_type": "code",
   "execution_count": 17,
   "id": "3f84321a",
   "metadata": {},
   "outputs": [
    {
     "name": "stdout",
     "output_type": "stream",
     "text": [
      "[2.33333333 0.75       0.8        0.83333333 0.14285714]\n"
     ]
    }
   ],
   "source": [
    "# examples of Q40 (Contn..)\n",
    "\n",
    "#NumPy Divide Function\n",
    "\n",
    "import numpy as np\n",
    "a = np.array([7,3,4,5,1])\n",
    "b = np.array([3,4,5,6,7])\n",
    "print(np.divide(a,b))"
   ]
  },
  {
   "cell_type": "code",
   "execution_count": 18,
   "id": "8b96aa88",
   "metadata": {},
   "outputs": [
    {
     "name": "stdout",
     "output_type": "stream",
     "text": [
      "[1 3 4 5 1]\n"
     ]
    }
   ],
   "source": [
    "#NumPy Remainder Function\n",
    "import numpy as np\n",
    "a = np.array([7,3,4,5,1])\n",
    "b = np.array([3,4,5,6,7])\n",
    "print(np.remainder(a,b))"
   ]
  },
  {
   "cell_type": "code",
   "execution_count": 20,
   "id": "b78cf0a6",
   "metadata": {},
   "outputs": [
    {
     "name": "stdout",
     "output_type": "stream",
     "text": [
      "[1 3 4 5 1]\n"
     ]
    }
   ],
   "source": [
    "# examples of Q40 (Contn..)\n",
    "\n",
    "#NumPy Mod Function\n",
    "import numpy as np\n",
    "a = np.array([7,3,4,5,1])\n",
    "b = np.array([3,4,5,6,7])\n",
    "print(np.mod(a,b))"
   ]
  },
  {
   "cell_type": "markdown",
   "id": "d49340e9",
   "metadata": {},
   "source": [
    "### Q41: Give some examples of Numpy functions for performing array manipulation\n",
    "#### Ans:\n",
    "\n",
    "We can manipulate arrays by changing thier order or by reshaping them,\n",
    "\n",
    "\n",
    "numpy. reshape()\n",
    "\n",
    "numpy. flip()\n",
    "\n",
    "numpy. transpose()"
   ]
  },
  {
   "cell_type": "code",
   "execution_count": 29,
   "id": "c4eae7f5",
   "metadata": {},
   "outputs": [
    {
     "name": "stdout",
     "output_type": "stream",
     "text": [
      "[[ 1  2  3  4]\n",
      " [ 5  6  7  8]\n",
      " [ 9 10 11 12]\n",
      " [13 14 15 16]]\n"
     ]
    }
   ],
   "source": [
    "# example of Q41\n",
    "\n",
    "# The numpy. reshape() function to reshape a array\n",
    "\n",
    "import numpy as np\n",
    "\n",
    "arr13 = np.array([1, 2, 3, 4, 5, 6, 7, 8, 9, 10, 11, 12, 13, 14, 15, 16])\n",
    "\n",
    "arr14 = arr13.reshape(4, 4)\n",
    "\n",
    "print(arr14)\n"
   ]
  },
  {
   "cell_type": "code",
   "execution_count": 28,
   "id": "1063013f",
   "metadata": {},
   "outputs": [
    {
     "name": "stdout",
     "output_type": "stream",
     "text": [
      "[16 15 14 13 12 11]\n"
     ]
    }
   ],
   "source": [
    "# example of Q41 (cont.)\n",
    "\n",
    "#The numpy. flip() function reverses the order of array elements along the specified axis\n",
    "\n",
    "import numpy as np\n",
    "\n",
    "# Create an 1D input array  \n",
    "arr15 = np.array([2, 4, 6, 8, 10])\n",
    "\n",
    "# Use numpy flip() function on 1-d array\n",
    "arr16= np.flip(arr)\n",
    "print(arr16)"
   ]
  },
  {
   "cell_type": "code",
   "execution_count": 27,
   "id": "b2d23e59",
   "metadata": {},
   "outputs": [
    {
     "name": "stdout",
     "output_type": "stream",
     "text": [
      "[[3 5]\n",
      " [2 4]]\n"
     ]
    }
   ],
   "source": [
    "# example of Q41 (cont.)\n",
    "\n",
    "#The numpy. transpose() function swap the axix of arrays\n",
    "\n",
    "import numpy as np\n",
    "\n",
    "orgarr = np.array([[3, 2], [5, 4]])\n",
    "\n",
    "# swaps the rows and columns of an array\n",
    "transposedArray = np.transpose(orgarr)\n",
    "\n",
    "print(transposedArray)"
   ]
  },
  {
   "cell_type": "markdown",
   "id": "e5cbbf74",
   "metadata": {},
   "source": [
    "### Q42: Give some examples of Numpy functions for performing linear algebra\n",
    "#### Ans:\n",
    "\n",
    "Numpy can perform linear algebric function such as,\n",
    "\n",
    "\n",
    "dot()\tcalculates product of two arrays\n",
    "\n",
    "inner()\tcalculates inner product of arrays\n",
    "\n",
    "outer()\tcalculates outer product of arrays\n",
    "\n",
    "det()\tcalculates determinant of a matrix\n",
    "\n",
    "solve()\tsolves linear matrix equation\n",
    "\n",
    "inv()\tcalculates the multiplicative inverse of the matrix\n",
    "\n",
    "trace() calculates the sum of diagonal elements\n",
    "\n",
    "etc"
   ]
  },
  {
   "cell_type": "code",
   "execution_count": 30,
   "id": "5395ef9a",
   "metadata": {},
   "outputs": [
    {
     "name": "stdout",
     "output_type": "stream",
     "text": [
      "44\n"
     ]
    }
   ],
   "source": [
    "# Example of Q42 (cont.)\n",
    "# dot()    calculates product of two arrays (Al)\n",
    "import numpy as np\n",
    "\n",
    "arr17 = np.array([1, 3, 5])\n",
    "arr18 = np.array([2, 4, 6])\n",
    "\n",
    "# use of dot() to perform array multiplication\n",
    "result = np.dot(arr17, arr18)\n",
    "\n",
    "print(result)"
   ]
  },
  {
   "cell_type": "code",
   "execution_count": 31,
   "id": "e450ac8b",
   "metadata": {},
   "outputs": [
    {
     "name": "stdout",
     "output_type": "stream",
     "text": [
      "[[14 30]\n",
      " [38 86]]\n"
     ]
    }
   ],
   "source": [
    "# Example of Q42 (cont.)\n",
    "# inner()   calculates inner product of arrays\n",
    "import numpy as np\n",
    "\n",
    "arr19 = np.array([[1, 3], \n",
    "                   [5, 7]])\n",
    "arr20 = np.array([[2, 4], \n",
    "                   [6, 8]])\n",
    "\n",
    "# inner() for 2D arrays\n",
    "result = np.inner(arr19, arr20)\n",
    "\n",
    "print(result)"
   ]
  },
  {
   "cell_type": "code",
   "execution_count": 34,
   "id": "8e7166f4",
   "metadata": {},
   "outputs": [
    {
     "name": "stdout",
     "output_type": "stream",
     "text": [
      "12\n"
     ]
    }
   ],
   "source": [
    "# Example of Q42 (cont.)\n",
    "# trace()   calculates the sum of diagonal elements\n",
    "import numpy as np\n",
    "\n",
    "# define a 3x3 matrix\n",
    "arr21 = np.array([[6, 3, 5], \n",
    "                   [9, 2, 1], \n",
    "                   [7, 8, 4]])\n",
    "\n",
    "# compute the trace of the matrix\n",
    "result = np.trace(arr21)\n",
    "\n",
    "print(result)"
   ]
  },
  {
   "cell_type": "markdown",
   "id": "15233d55",
   "metadata": {},
   "source": [
    "### Q43: Give some examples of Numpy functions for performing statistical operations\n",
    "#### Ans:\n",
    "\n",
    "\n",
    "Numpy can perform linear algebric function such as,\n",
    "\n",
    "median()\treturn the median of an array\n",
    "\n",
    "mean()\treturn the mean of an array\n",
    "\n",
    "std()\treturn the standard deviation of an array\n",
    "\n",
    "percentile()\treturn the nth percentile of elements in an array\n",
    "\n",
    "min()\treturn the minimum element of an array\n",
    "\n",
    "max()\treturn the maximum element of an array\n",
    "\n",
    "etc."
   ]
  },
  {
   "cell_type": "code",
   "execution_count": 36,
   "id": "f33255e1",
   "metadata": {},
   "outputs": [
    {
     "name": "stdout",
     "output_type": "stream",
     "text": [
      "3.0\n"
     ]
    }
   ],
   "source": [
    "# Example of Q43 (cont.)\n",
    "\n",
    "# median()   return the median of an array\n",
    "import numpy as np\n",
    "\n",
    "# create a 1D array with 5 elements\n",
    "arr22 = np.array([1, 2, 3, 4, 7])\n",
    "                                                                                                           \n",
    "# calculate the median\n",
    "median = np.median(arr22)\n",
    "\n",
    "print(median) "
   ]
  },
  {
   "cell_type": "code",
   "execution_count": 2,
   "id": "fc17bec6",
   "metadata": {},
   "outputs": [
    {
     "name": "stdout",
     "output_type": "stream",
     "text": [
      "76.0\n"
     ]
    }
   ],
   "source": [
    "# Example of Q43 (cont.)\n",
    "\n",
    "# mean() return the mean of an array\n",
    "\n",
    "import numpy as np\n",
    "\n",
    "# create a numpy array\n",
    "marks = np.array([70, 74, 81, 67, 88])\n",
    "\n",
    "# compute the mean of marks\n",
    "mean_marks = np.mean(marks)\n",
    "\n",
    "print(mean_marks)"
   ]
  },
  {
   "cell_type": "code",
   "execution_count": 4,
   "id": "ca02d533",
   "metadata": {},
   "outputs": [
    {
     "name": "stdout",
     "output_type": "stream",
     "text": [
      "6.013318551349163\n"
     ]
    }
   ],
   "source": [
    "# Example of Q43 (cont.)\n",
    "\n",
    "#std() return the standard deviation of an array\n",
    "\n",
    "import numpy as np\n",
    "\n",
    "# create a numpy array\n",
    "marks = np.array([77, 87, 91, 77, 89])\n",
    "# compute the standard deviation of marks\n",
    "std_marks = np.std(marks)\n",
    "print(std_marks)"
   ]
  },
  {
   "cell_type": "markdown",
   "id": "3ca6ebc3",
   "metadata": {},
   "source": [
    "### Q44: How do you find the right Numpy function for a specific operation or use case?\n",
    "#### Ans:\n",
    "\n",
    "1. Understand the problem:\n",
    "\n",
    "It is essential to understand the problem this will help to determine what kind of function be needed.\n",
    "\n",
    "2. Numpy Documentation:\n",
    "\n",
    "The Numpy documentation is a great resource for finding the right function. It also provides a comprehensive list of functions, along with their parameters and examples of how to use them.\n",
    "\n",
    "3. Search online:\n",
    "\n",
    "There are many online resources available, including forums, blogs, and tutorials, where examples are present explaining  how to use Numpy functions for specific use cases.\n",
    "\n",
    "4. Experiment:\n",
    "\n",
    "Sometimes, the best way to find the right function is to do experiment with different functions and see which one works best for the specific case. \n",
    "\n",
    "5. Ask for help:\n",
    "\n",
    "If there is still ambiguity in selecting the right function, a senior / expert could provide help and guide lines to select the right function and solve the problem."
   ]
  },
  {
   "cell_type": "markdown",
   "id": "cb4d7781",
   "metadata": {},
   "source": [
    "### Q45: Where can you see a list of all the Numpy array functions and operations?\n",
    "#### Ans:\n",
    "\n",
    "With the help of dir() function we can find all list of "
   ]
  },
  {
   "cell_type": "code",
   "execution_count": 10,
   "id": "b8558883",
   "metadata": {},
   "outputs": [
    {
     "name": "stdout",
     "output_type": "stream",
     "text": [
      "['ALLOW_THREADS' 'AxisError' 'BUFSIZE' 'CLIP' 'ComplexWarning'\n",
      " 'DataSource' 'ERR_CALL' 'ERR_DEFAULT' 'ERR_IGNORE' 'ERR_LOG' 'ERR_PRINT'\n",
      " 'ERR_RAISE' 'ERR_WARN' 'FLOATING_POINT_SUPPORT' 'FPE_DIVIDEBYZERO'\n",
      " 'FPE_INVALID' 'FPE_OVERFLOW' 'FPE_UNDERFLOW' 'False_' 'Inf' 'Infinity'\n",
      " 'MAXDIMS' 'MAY_SHARE_BOUNDS' 'MAY_SHARE_EXACT' 'ModuleDeprecationWarning'\n",
      " 'NAN' 'NINF' 'NZERO' 'NaN' 'PINF' 'PZERO' 'RAISE' 'RankWarning'\n",
      " 'SHIFT_DIVIDEBYZERO' 'SHIFT_INVALID' 'SHIFT_OVERFLOW' 'SHIFT_UNDERFLOW'\n",
      " 'ScalarType' 'Tester' 'TooHardError' 'True_' 'UFUNC_BUFSIZE_DEFAULT'\n",
      " 'UFUNC_PYVALS_NAME' 'VisibleDeprecationWarning' 'WRAP' '_CopyMode'\n",
      " '_NoValue' '_UFUNC_API' '__NUMPY_SETUP__' '__all__' '__builtins__'\n",
      " '__cached__' '__config__' '__deprecated_attrs__' '__dir__' '__doc__'\n",
      " '__expired_functions__' '__file__' '__former_attrs__'\n",
      " '__future_scalars__' '__getattr__' '__git_version__' '__loader__'\n",
      " '__mkl_version__' '__name__' '__package__' '__path__' '__spec__'\n",
      " '__version__' '_add_newdoc_ufunc' '_builtins' '_distributor_init'\n",
      " '_financial_names' '_get_promotion_state' '_globals' '_int_extended_msg'\n",
      " '_mat' '_no_nep50_warning' '_pyinstaller_hooks_dir' '_pytesttester'\n",
      " '_set_promotion_state' '_specific_msg' '_version' 'abs' 'absolute' 'add'\n",
      " 'add_docstring' 'add_newdoc' 'add_newdoc_ufunc' 'all' 'allclose'\n",
      " 'alltrue' 'amax' 'amin' 'angle' 'any' 'append' 'apply_along_axis'\n",
      " 'apply_over_axes' 'arange' 'arccos' 'arccosh' 'arcsin' 'arcsinh' 'arctan'\n",
      " 'arctan2' 'arctanh' 'argmax' 'argmin' 'argpartition' 'argsort' 'argwhere'\n",
      " 'around' 'array' 'array2string' 'array_equal' 'array_equiv' 'array_repr'\n",
      " 'array_split' 'array_str' 'asanyarray' 'asarray' 'asarray_chkfinite'\n",
      " 'ascontiguousarray' 'asfarray' 'asfortranarray' 'asmatrix' 'atleast_1d'\n",
      " 'atleast_2d' 'atleast_3d' 'average' 'bartlett' 'base_repr' 'binary_repr'\n",
      " 'bincount' 'bitwise_and' 'bitwise_not' 'bitwise_or' 'bitwise_xor'\n",
      " 'blackman' 'block' 'bmat' 'bool_' 'broadcast' 'broadcast_arrays'\n",
      " 'broadcast_shapes' 'broadcast_to' 'busday_count' 'busday_offset'\n",
      " 'busdaycalendar' 'byte' 'byte_bounds' 'bytes_' 'c_' 'can_cast' 'cast'\n",
      " 'cbrt' 'cdouble' 'ceil' 'cfloat' 'char' 'character' 'chararray' 'choose'\n",
      " 'clip' 'clongdouble' 'clongfloat' 'column_stack' 'common_type'\n",
      " 'compare_chararrays' 'compat' 'complex128' 'complex64' 'complex_'\n",
      " 'complexfloating' 'compress' 'concatenate' 'conj' 'conjugate' 'convolve'\n",
      " 'copy' 'copysign' 'copyto' 'corrcoef' 'correlate' 'cos' 'cosh'\n",
      " 'count_nonzero' 'cov' 'cross' 'csingle' 'ctypeslib' 'cumprod'\n",
      " 'cumproduct' 'cumsum' 'datetime64' 'datetime_as_string' 'datetime_data'\n",
      " 'deg2rad' 'degrees' 'delete' 'deprecate' 'deprecate_with_doc' 'diag'\n",
      " 'diag_indices' 'diag_indices_from' 'diagflat' 'diagonal' 'diff'\n",
      " 'digitize' 'disp' 'divide' 'divmod' 'dot' 'double' 'dsplit' 'dstack'\n",
      " 'dtype' 'e' 'ediff1d' 'einsum' 'einsum_path' 'emath' 'empty' 'empty_like'\n",
      " 'equal' 'errstate' 'euler_gamma' 'exp' 'exp2' 'expand_dims' 'expm1'\n",
      " 'extract' 'eye' 'fabs' 'fastCopyAndTranspose' 'fft' 'fill_diagonal'\n",
      " 'find_common_type' 'finfo' 'fix' 'flatiter' 'flatnonzero' 'flexible'\n",
      " 'flip' 'fliplr' 'flipud' 'float16' 'float32' 'float64' 'float_'\n",
      " 'float_power' 'floating' 'floor' 'floor_divide' 'fmax' 'fmin' 'fmod'\n",
      " 'format_float_positional' 'format_float_scientific' 'format_parser'\n",
      " 'frexp' 'from_dlpack' 'frombuffer' 'fromfile' 'fromfunction' 'fromiter'\n",
      " 'frompyfunc' 'fromregex' 'fromstring' 'full' 'full_like' 'gcd' 'generic'\n",
      " 'genfromtxt' 'geomspace' 'get_array_wrap' 'get_include'\n",
      " 'get_printoptions' 'getbufsize' 'geterr' 'geterrcall' 'geterrobj'\n",
      " 'gradient' 'greater' 'greater_equal' 'half' 'hamming' 'hanning'\n",
      " 'heaviside' 'histogram' 'histogram2d' 'histogram_bin_edges' 'histogramdd'\n",
      " 'hsplit' 'hstack' 'hypot' 'i0' 'identity' 'iinfo' 'imag' 'in1d'\n",
      " 'index_exp' 'indices' 'inexact' 'inf' 'info' 'infty' 'inner' 'insert'\n",
      " 'int16' 'int32' 'int64' 'int8' 'int_' 'intc' 'integer' 'interp'\n",
      " 'intersect1d' 'intp' 'invert' 'is_busday' 'isclose' 'iscomplex'\n",
      " 'iscomplexobj' 'isfinite' 'isfortran' 'isin' 'isinf' 'isnan' 'isnat'\n",
      " 'isneginf' 'isposinf' 'isreal' 'isrealobj' 'isscalar' 'issctype'\n",
      " 'issubclass_' 'issubdtype' 'issubsctype' 'iterable' 'ix_' 'kaiser' 'kron'\n",
      " 'lcm' 'ldexp' 'left_shift' 'less' 'less_equal' 'lexsort' 'lib' 'linalg'\n",
      " 'linspace' 'little_endian' 'load' 'loadtxt' 'log' 'log10' 'log1p' 'log2'\n",
      " 'logaddexp' 'logaddexp2' 'logical_and' 'logical_not' 'logical_or'\n",
      " 'logical_xor' 'logspace' 'longcomplex' 'longdouble' 'longfloat'\n",
      " 'longlong' 'lookfor' 'ma' 'mask_indices' 'mat' 'math' 'matmul' 'matrix'\n",
      " 'max' 'maximum' 'maximum_sctype' 'may_share_memory' 'mean' 'median'\n",
      " 'memmap' 'meshgrid' 'mgrid' 'min' 'min_scalar_type' 'minimum'\n",
      " 'mintypecode' 'mkl' 'mod' 'modf' 'moveaxis' 'msort' 'multiply' 'nan'\n",
      " 'nan_to_num' 'nanargmax' 'nanargmin' 'nancumprod' 'nancumsum' 'nanmax'\n",
      " 'nanmean' 'nanmedian' 'nanmin' 'nanpercentile' 'nanprod' 'nanquantile'\n",
      " 'nanstd' 'nansum' 'nanvar' 'nbytes' 'ndarray' 'ndenumerate' 'ndim'\n",
      " 'ndindex' 'nditer' 'negative' 'nested_iters' 'newaxis' 'nextafter'\n",
      " 'nonzero' 'not_equal' 'numarray' 'number' 'obj2sctype' 'object_' 'ogrid'\n",
      " 'oldnumeric' 'ones' 'ones_like' 'outer' 'packbits' 'pad' 'partition'\n",
      " 'percentile' 'pi' 'piecewise' 'place' 'poly' 'poly1d' 'polyadd' 'polyder'\n",
      " 'polydiv' 'polyfit' 'polyint' 'polymul' 'polynomial' 'polysub' 'polyval'\n",
      " 'positive' 'power' 'printoptions' 'prod' 'product' 'promote_types' 'ptp'\n",
      " 'put' 'put_along_axis' 'putmask' 'quantile' 'r_' 'rad2deg' 'radians'\n",
      " 'random' 'ravel' 'ravel_multi_index' 'real' 'real_if_close' 'rec'\n",
      " 'recarray' 'recfromcsv' 'recfromtxt' 'reciprocal' 'record' 'remainder'\n",
      " 'repeat' 'require' 'reshape' 'resize' 'result_type' 'right_shift' 'rint'\n",
      " 'roll' 'rollaxis' 'roots' 'rot90' 'round' 'round_' 'row_stack' 's_'\n",
      " 'safe_eval' 'save' 'savetxt' 'savez' 'savez_compressed' 'sctype2char'\n",
      " 'sctypeDict' 'sctypes' 'searchsorted' 'select' 'set_numeric_ops'\n",
      " 'set_printoptions' 'set_string_function' 'setbufsize' 'setdiff1d'\n",
      " 'seterr' 'seterrcall' 'seterrobj' 'setxor1d' 'shape' 'shares_memory'\n",
      " 'short' 'show_config' 'show_runtime' 'sign' 'signbit' 'signedinteger'\n",
      " 'sin' 'sinc' 'single' 'singlecomplex' 'sinh' 'size' 'sometrue' 'sort'\n",
      " 'sort_complex' 'source' 'spacing' 'split' 'sqrt' 'square' 'squeeze'\n",
      " 'stack' 'std' 'str_' 'string_' 'subtract' 'sum' 'swapaxes' 'take'\n",
      " 'take_along_axis' 'tan' 'tanh' 'tensordot' 'test' 'testing' 'tile'\n",
      " 'timedelta64' 'trace' 'tracemalloc_domain' 'transpose' 'trapz' 'tri'\n",
      " 'tril' 'tril_indices' 'tril_indices_from' 'trim_zeros' 'triu'\n",
      " 'triu_indices' 'triu_indices_from' 'true_divide' 'trunc' 'typecodes'\n",
      " 'typename' 'ubyte' 'ufunc' 'uint' 'uint16' 'uint32' 'uint64' 'uint8'\n",
      " 'uintc' 'uintp' 'ulonglong' 'unicode_' 'union1d' 'unique' 'unpackbits'\n",
      " 'unravel_index' 'unsignedinteger' 'unwrap' 'use_hugepage' 'ushort'\n",
      " 'vander' 'var' 'vdot' 'vectorize' 'version' 'void' 'vsplit' 'vstack'\n",
      " 'where' 'who' 'zeros' 'zeros_like']\n"
     ]
    }
   ],
   "source": [
    "import numpy as np\n",
    "\n",
    "dir(np)\n",
    "x=np.array(dir(np))\n",
    "print (x)"
   ]
  },
  {
   "cell_type": "markdown",
   "id": "30b56404",
   "metadata": {},
   "source": [
    "### Q46: What are the arithmetic operators supported by Numpy arrays? Illustrate with examples.\n",
    "#### Ans:\n",
    "\n",
    "Following are the arithmatic  operators supported by Numpy Arrays:\n",
    "\n",
    "\n",
    "Addition\t+\tadd()\n",
    "\n",
    "Subtraction\t-\tsubtract()\n",
    "\n",
    "Multiplication\t*\tmultiply()\n",
    "\n",
    "Division\t/\tdivide()\n",
    "\n",
    "Exponentiation\t**\tpower()\n",
    "\n",
    "Modulus\t%\tmod()"
   ]
  },
  {
   "cell_type": "code",
   "execution_count": 11,
   "id": "0f56fd79",
   "metadata": {},
   "outputs": [
    {
     "name": "stdout",
     "output_type": "stream",
     "text": [
      "Using the + operator: [ 3  7 11 15]\n",
      "Using the add() function: [ 3  7 11 15]\n"
     ]
    }
   ],
   "source": [
    "# Example of Q46 (cont.)\n",
    "# Addition + add() function in Numpy array \n",
    "import numpy as np\n",
    "\n",
    "first_array = np.array([1, 3, 5, 7])\n",
    "second_array = np.array([2, 4, 6, 8])\n",
    "\n",
    "# using the + operator\n",
    "result1 = first_array + second_array\n",
    "print(\"Using the + operator:\",result1) \n",
    "\n",
    "# using the add() function\n",
    "result2 = np.add(first_array, second_array)\n",
    "print(\"Using the add() function:\",result2) "
   ]
  },
  {
   "cell_type": "code",
   "execution_count": 12,
   "id": "3d46855e",
   "metadata": {},
   "outputs": [
    {
     "name": "stdout",
     "output_type": "stream",
     "text": [
      "Using the - operator: [ 1  5 19 65]\n",
      "Using the subtract() function: [ 1  5 19 65]\n"
     ]
    }
   ],
   "source": [
    "# Example of Q46 (cont.)\n",
    "# Subtraction - subtract() function in Numpy array\n",
    "\n",
    "import numpy as np\n",
    "\n",
    "first_array = np.array([3, 9, 27, 81])\n",
    "second_array = np.array([2, 4, 8, 16])\n",
    "\n",
    "# using the - operator\n",
    "result1 = first_array - second_array\n",
    "print(\"Using the - operator:\",result1) \n",
    "\n",
    "# using the subtract() function\n",
    "result2 = np.subtract(first_array, second_array)\n",
    "print(\"Using the subtract() function:\",result2) "
   ]
  },
  {
   "cell_type": "code",
   "execution_count": 13,
   "id": "95e01a7f",
   "metadata": {},
   "outputs": [
    {
     "name": "stdout",
     "output_type": "stream",
     "text": [
      "Using the * operator: [ 2 12 30 56]\n",
      "Using the multiply() function: [ 2 12 30 56]\n"
     ]
    }
   ],
   "source": [
    "# Example of Q46 (cont.)\n",
    "# Multiplication * multiply() function in Numpy array\n",
    "\n",
    "import numpy as np\n",
    "\n",
    "first_array = np.array([1, 3, 5, 7])\n",
    "second_array = np.array([2, 4, 6, 8])\n",
    "\n",
    "# using the * operator\n",
    "result1 = first_array * second_array\n",
    "print(\"Using the * operator:\",result1) \n",
    "\n",
    "# using the multiply() function\n",
    "result2 = np.multiply(first_array, second_array)\n",
    "print(\"Using the multiply() function:\",result2) "
   ]
  },
  {
   "cell_type": "markdown",
   "id": "b24ab8a5",
   "metadata": {},
   "source": [
    "### Q47: What is array broadcasting? How is it useful? Illustrate with an example\n",
    "#### Ans:\n",
    "\n",
    "\n",
    "Broadcasting describes how NumPy treats arrays with different shapes during arithmetic operations.\n",
    "\n",
    "The two arrays are compatible in a dimension if they have the same size in the dimension or if one of the arrays has size 1 in that dimension. The arrays can be broadcast together if they are compatible with all dimensions.\n",
    "\n",
    "numpy.broadcast() \n",
    "\n"
   ]
  },
  {
   "cell_type": "code",
   "execution_count": 14,
   "id": "6688bf41",
   "metadata": {},
   "outputs": [
    {
     "data": {
      "text/plain": [
       "0"
      ]
     },
     "execution_count": 14,
     "metadata": {},
     "output_type": "execute_result"
    }
   ],
   "source": [
    "# Example of Q47\n",
    "# an example of broadcasting is Vector Quantization\n",
    "\n",
    "from numpy import array, argmin, sqrt, sum\n",
    "observation = array([111.0, 188.0])\n",
    "codes = array([[102.0, 203.0],\n",
    "               [132.0, 193.0],\n",
    "               [45.0, 155.0],\n",
    "               [57.0, 173.0]])\n",
    "diff = codes - observation    # the broadcast happens here\n",
    "dist = sqrt(sum(diff**2,axis=-1))\n",
    "argmin(dist)"
   ]
  },
  {
   "cell_type": "markdown",
   "id": "b3ef4a72",
   "metadata": {},
   "source": [
    "### Q48:  Give some examples of arrays that are compatible for broadcasting?\n",
    "#### Ans:\n",
    "\n",
    "When operating on two arrays, NumPy compares their shapes element-wise. It starts with the trailing (i.e. rightmost) dimension and works its way left. Two dimensions are compatible when\n",
    "\n",
    "\n",
    "they are equal, or\n",
    "\n",
    "one of them is 1."
   ]
  },
  {
   "cell_type": "code",
   "execution_count": 16,
   "id": "16f73e86",
   "metadata": {},
   "outputs": [
    {
     "name": "stdout",
     "output_type": "stream",
     "text": [
      "[[ 4  5]\n",
      " [ 8 10]\n",
      " [12 15]]\n",
      "[[2 4 6]\n",
      " [5 7 9]]\n",
      "[[ 5  6  7]\n",
      " [ 9 10 11]]\n",
      "[[ 5  6  7]\n",
      " [ 9 10 11]]\n",
      "[[ 2  4  6]\n",
      " [ 8 10 12]]\n"
     ]
    }
   ],
   "source": [
    "# Example of Q48\n",
    "# an example of broadcasting\n",
    "import numpy as np\n",
    "\n",
    "v = np.array([1, 2, 3]) \n",
    "w = np.array([4, 5]) \n",
    "\n",
    "# To compute an outer product we first \n",
    "# reshape v to a column vector of shape 3x1\n",
    "# then broadcast it against w to yield an output\n",
    "# of shape 3x2 which is the outer product of v and w\n",
    "print(np.reshape(v, (3, 1)) * w)\n",
    "\n",
    "x = np.array([[1, 2, 3], [4, 5, 6]])\n",
    "\n",
    "# x has shape 2x3 and v has shape (3,)\n",
    "# so they broadcast to 2x3,\n",
    "print(x + v)\n",
    "\n",
    "# Add a vector to each column of a matrix X has\n",
    "# shape 2x3 and w has shape (2, ) If we transpose X\n",
    "# then it has shape 3x2 and can be broadcast against w \n",
    "# to yield a result of shape 3x2.\n",
    "\n",
    "# Transposing this yields the final result \n",
    "# of shape 2x3 which is the matrix.\n",
    "print((x.T + w).T)\n",
    "\n",
    "# Another solution is to reshape w to be a column\n",
    "# vector of shape 2X1 we can then broadcast it \n",
    "# directly against X to produce the same output.\n",
    "print(x + np.reshape(w, (2, 1)))\n",
    "\n",
    "# Multiply a matrix by a constant, X has shape 2x3.\n",
    "# Numpy treats scalars as arrays of shape(); \n",
    "# these can be broadcast together to shape 2x3.\n",
    "print(x * 2)\n"
   ]
  },
  {
   "cell_type": "markdown",
   "id": "7f67aac6",
   "metadata": {},
   "source": [
    "### Q49: Give some examples of arrays that are not compatible for broadcasting?\n",
    "#### Ans:\n",
    "Here are some examples of arrays that are not compatible for broadcasting:\n",
    "\n",
    "\n",
    "- Arrays of different shapes;\n",
    "\n",
    "           Array 1: Shape (3, 4)\n",
    "   \n",
    "           Array 2: Shape (2, 3)\n",
    "           \n",
    "  \n",
    "  \n",
    "\n",
    "- Arrays of different dimensions;\n",
    "\n",
    "           Array 1: Shape (3, 4)\n",
    "\n",
    "           Array 2: Shape (3, 1, 4)\n",
    "           \n",
    "\n",
    "   \n",
    "\n",
    "- Arrays with different size;\n",
    "\n",
    "           Array 1: Shape (3, 4)\n",
    "\n",
    "           Array 2: Shape (3, 5)\n",
    "   \n",
    "etc."
   ]
  },
  {
   "cell_type": "markdown",
   "id": "3ab0d4dd",
   "metadata": {},
   "source": [
    "### Q50: What are the comparison operators supported by Numpy arrays? Illustrate with examples.\n",
    "#### Ans:\n",
    "\n",
    "comparison operators in Numpy Arrays can compare the elements of two NumPy arrays.\n",
    "\n",
    "\n",
    "- \"<\" (less than)\treturns True if element of the first array is less than the second one\n",
    "\n",
    "- \"<=\" (less than or equal to)\treturns True if element of the first array is less than or equal to the second one\n",
    "\n",
    "- \">\" (greater than)\treturns True if element of the first array is greater than the second one\n",
    "\n",
    "- \">=\"   (greater than or equal to)\treturns True if element of the first array is greater than or equal to the second one\n",
    "\n",
    "- \"==\" (equal to)\treturns True if the element of the first array is equal to the second one\n",
    "\n",
    "- \"!=\" (not equal to)\treturns True if the element of the first array is not equal to the second one"
   ]
  },
  {
   "cell_type": "code",
   "execution_count": 19,
   "id": "02f45fab",
   "metadata": {},
   "outputs": [
    {
     "name": "stdout",
     "output_type": "stream",
     "text": [
      "Using less(): [ True False False]\n",
      "Using less_equal(): [ True  True False]\n",
      "Using greater(): [False False  True]\n",
      "Using greater_equal(): [False  True  True]\n",
      "Using equal(): [False  True False]\n",
      "Using not_equal(): [ True False  True]\n"
     ]
    }
   ],
   "source": [
    "#example of Q50:\n",
    "\n",
    "import numpy as np\n",
    "\n",
    "arr23 = np.array([9, 12, 21])\n",
    "arr24 = np.array([21, 12, 9])\n",
    "\n",
    "# use of less()\n",
    "result = np.less(arr23, arr24)\n",
    "print(\"Using less():\",result)    # Output: [ True False False]\n",
    "\n",
    "# use of less_equal()\n",
    "result = np.less_equal(arr23, arr24)\n",
    "print(\"Using less_equal():\",result)     # Output: [ True  True False]\n",
    "\n",
    "# use of greater()\n",
    "result = np.greater(arr23, arr24)\n",
    "print(\"Using greater():\",result)    # Output: [False False  True]\n",
    "\n",
    "# use of greater_equal()\n",
    "result = np.greater_equal(arr23, arr24)\n",
    "print(\"Using greater_equal():\",result)    # Output: [False  True  True]\n",
    "\n",
    "# use of equal()\n",
    "result = np.equal(arr23, arr24)\n",
    "print(\"Using equal():\",result)    # Output: [False  True False]\n",
    "\n",
    "# use of not_equal()\n",
    "result = np.not_equal(arr23, arr24)\n",
    "print(\"Using not_equal():\",result)    # Output: [ True False  True]"
   ]
  },
  {
   "cell_type": "markdown",
   "id": "721e4a4c",
   "metadata": {},
   "source": [
    "### Q51: How do you access a specific subarray or slice from a Numpy array?\n",
    "#### Ans:\n",
    "Subarrays in an array can be accessed by using the slicing notation.\n",
    "\n",
    "The slice of a Numpy array is done using the syntax below;\n",
    "\n",
    "step=1, the start=0, and the stop= size of the array."
   ]
  },
  {
   "cell_type": "code",
   "execution_count": 21,
   "id": "f968865a",
   "metadata": {},
   "outputs": [
    {
     "name": "stdout",
     "output_type": "stream",
     "text": [
      "6\n"
     ]
    }
   ],
   "source": [
    "# example of Q51\n",
    "\n",
    "arr25 = np.array([[[1, 2, 3], [4, 5, 6]], [[7, 8, 9], [10, 11, 12]]])\n",
    "\n",
    "print(arr25[0, 1, 2])"
   ]
  },
  {
   "cell_type": "markdown",
   "id": "8a549c82",
   "metadata": {},
   "source": [
    "### Q52: Illustrate array indexing and slicing in multi-dimensional Numpy arrays with some examples.\n",
    "#### Ans:\n",
    "\n",
    "- Follwoing is a multidimentional array\n",
    "\n",
    "arr26 = np.array([[[4,, 12, 13], [14, 25, 36]], [[47, 59, 49], [30, 40, 50]]])\n",
    "\n",
    "Define the step, like this: [start:end:step]\n"
   ]
  },
  {
   "cell_type": "code",
   "execution_count": 31,
   "id": "431922fd",
   "metadata": {},
   "outputs": [
    {
     "name": "stdout",
     "output_type": "stream",
     "text": [
      "40\n"
     ]
    }
   ],
   "source": [
    "# example of Q51\n",
    "#Follwoing is a multidimentional array\n",
    "arr26 = np.array([[[4, 12, 13], [14, 25, 36]], [[47, 59, 49], [30, 40, 50]]])\n",
    "\n",
    "print(arr26[1, 1, 1])"
   ]
  },
  {
   "cell_type": "markdown",
   "id": "1cce1d69",
   "metadata": {},
   "source": [
    "### Q53:  How do you create a Numpy array with a given shape containing all zeros?\n",
    "#### Ans:\n",
    "To create a NumPy array with zeros the numpy.zeros() function is used which returns a new array of given shape and type, with zeros as shown in the example below;"
   ]
  },
  {
   "cell_type": "code",
   "execution_count": 34,
   "id": "e6c8ab72",
   "metadata": {},
   "outputs": [
    {
     "name": "stdout",
     "output_type": "stream",
     "text": [
      "[[[0. 0. 0.]\n",
      "  [0. 0. 0.]\n",
      "  [0. 0. 0.]]\n",
      "\n",
      " [[0. 0. 0.]\n",
      "  [0. 0. 0.]\n",
      "  [0. 0. 0.]]\n",
      "\n",
      " [[0. 0. 0.]\n",
      "  [0. 0. 0.]\n",
      "  [0. 0. 0.]]]\n"
     ]
    }
   ],
   "source": [
    "#example of Q 53\n",
    "\n",
    "import numpy as np\n",
    "\n",
    "# creating 3D array\n",
    "arr27 = np.zeros((3, 3, 3))\n",
    "\n",
    "print(arr27)\n"
   ]
  },
  {
   "cell_type": "markdown",
   "id": "223ee03e",
   "metadata": {},
   "source": [
    "### Q54:How do you create a Numpy array with a given shape containing all ones?\n",
    "#### Ans:\n",
    "\n",
    "With the help of numpy.ones numpy array(s) ould be created containing all ones as shown in the bleow example,\n"
   ]
  },
  {
   "cell_type": "code",
   "execution_count": 39,
   "id": "56b18339",
   "metadata": {},
   "outputs": [
    {
     "name": "stdout",
     "output_type": "stream",
     "text": [
      "[1. 1. 1.]\n",
      "\n",
      "[[1. 1. 1.]\n",
      " [1. 1. 1.]]\n"
     ]
    }
   ],
   "source": [
    "#example of Q 54\n",
    "import numpy as np\n",
    "\n",
    "arr28 = np.ones(3) # 1D array\n",
    "print(arr28)\n",
    "print()\n",
    "arr29 = np.ones((2, 3)) #2D Array\n",
    "print(arr29)\n",
    "\n"
   ]
  },
  {
   "cell_type": "markdown",
   "id": "213b7827",
   "metadata": {},
   "source": [
    "### Q55: How do you create an identity matrix of a given shape?\n",
    "#### Ans:\n",
    "\n",
    "The function Numpy. identity() is used to creat identity matrix as described in steps below,\n",
    "\n",
    "Step 1: Import numpy\n",
    "\n",
    "Step 2: Take dimensions as input from the user\n",
    "\n",
    "Step 3: Print the identity matrix using numpy.identity() function\n",
    "\n",
    "Following is the example of identity matrix;"
   ]
  },
  {
   "cell_type": "code",
   "execution_count": 9,
   "id": "10e78699",
   "metadata": {},
   "outputs": [
    {
     "name": "stdout",
     "output_type": "stream",
     "text": [
      "[[1 0 0]\n",
      " [0 1 0]\n",
      " [0 0 1]]\n"
     ]
    }
   ],
   "source": [
    "#example of Q 55\n",
    "import numpy as np\n",
    "\n",
    "dimension = int(3)\n",
    "identity_matrix = np.identity(dimension, dtype=\"int\")\n",
    "print(identity_matrix)"
   ]
  },
  {
   "cell_type": "code",
   "execution_count": 8,
   "id": "bee4954e",
   "metadata": {},
   "outputs": [
    {
     "name": "stdout",
     "output_type": "stream",
     "text": [
      "[[1 0 0 0 0 0 0]\n",
      " [0 1 0 0 0 0 0]\n",
      " [0 0 1 0 0 0 0]\n",
      " [0 0 0 1 0 0 0]\n",
      " [0 0 0 0 1 0 0]\n",
      " [0 0 0 0 0 1 0]\n",
      " [0 0 0 0 0 0 1]]\n"
     ]
    }
   ],
   "source": [
    "#example of Q 55 (Cont.)\n",
    "\n",
    "import numpy as np\n",
    "\n",
    "dimension = int(7)\n",
    "identity_matrix = np.identity(dimension, dtype=\"int\")\n",
    "print(identity_matrix)"
   ]
  },
  {
   "cell_type": "markdown",
   "id": "ef238bd2",
   "metadata": {},
   "source": [
    "### Q56: How do you create a random vector of a given length?\n",
    "#### Ans:\n",
    "An array of random integers can be generated using the randint() NumPy function.\n",
    "\n",
    "This function takes three arguments, the lower end of the range, the upper end of the range, and the number of integer values to generate or the size of the array as shown in the following example;"
   ]
  },
  {
   "cell_type": "code",
   "execution_count": 14,
   "id": "39cdb0b1",
   "metadata": {},
   "outputs": [
    {
     "name": "stdout",
     "output_type": "stream",
     "text": [
      "Original array:\n",
      "[0.04505134 0.25006462 0.76204536 0.88465134 0.38267104 0.10279787\n",
      " 0.36632994 0.97155393 0.96999203 0.46507624]\n",
      "Sorted array:\n",
      "[0.04505134 0.10279787 0.25006462 0.36632994 0.38267104 0.46507624\n",
      " 0.76204536 0.88465134 0.96999203 0.97155393]\n"
     ]
    }
   ],
   "source": [
    "import numpy as np\n",
    "x = np.random.random(10)\n",
    "print(\"Original array:\")\n",
    "print(x)\n",
    "x.sort()\n",
    "print(\"Sorted array:\")\n",
    "print(x)"
   ]
  },
  {
   "cell_type": "markdown",
   "id": "3646dfba",
   "metadata": {},
   "source": [
    "### Q57: How do you create a Numpy array with a given shape with a fixed value for each element?\n",
    "#### Ans:\n",
    "\n",
    "To create a NumPy array with a given shape and a fixed value for each element, the numpy.full() function is used which takes the shape of array and desired value as an argument and returns  anew desired array.\n",
    "\n",
    "eg\n",
    "shape = (3, 4) and value = 5\n"
   ]
  },
  {
   "cell_type": "code",
   "execution_count": 19,
   "id": "de974c23",
   "metadata": {},
   "outputs": [
    {
     "name": "stdout",
     "output_type": "stream",
     "text": [
      "[[4 4 4 4 4]\n",
      " [4 4 4 4 4]\n",
      " [4 4 4 4 4]\n",
      " [4 4 4 4 4]]\n",
      "\n",
      "[[7 7 7]\n",
      " [7 7 7]]\n"
     ]
    }
   ],
   "source": [
    "# exapmple of Q 57\n",
    "\n",
    "import numpy as np\n",
    "\n",
    "shape = (4, 5)\n",
    "value = 4\n",
    "\n",
    "arr30 = np.full(shape, value)\n",
    "print(arr30)\n",
    "\n",
    "print()\n",
    "\n",
    "shape = (2, 3)\n",
    "value = 7\n",
    "arr31 = (np.full(shape, value))\n",
    "print (arr31)"
   ]
  },
  {
   "cell_type": "markdown",
   "id": "d53b588a",
   "metadata": {},
   "source": [
    "### Q58: How do you create a Numpy array with a given shape containing randomly initialized elements?\n",
    "#### Ans:\n",
    "To create a NumPy array with a given shape containing randomly initialized elements, the numpy.random module is used which provides several functions for generatingrandom numbers and arrays.\n",
    "\n",
    "Example is given below;"
   ]
  },
  {
   "cell_type": "code",
   "execution_count": 27,
   "id": "dbfe1277",
   "metadata": {},
   "outputs": [
    {
     "name": "stdout",
     "output_type": "stream",
     "text": [
      "[[0.33104117 0.18391464 0.07363847 0.18483008]\n",
      " [0.74557129 0.14636224 0.80997263 0.14449633]\n",
      " [0.09781439 0.68257011 0.75941672 0.02175231]]\n"
     ]
    }
   ],
   "source": [
    "# example of Q 58\n",
    "\n",
    "import numpy as np\n",
    "\n",
    "shape = (3, 4)\n",
    "\n",
    "arr32 = np.random.random(shape)\n",
    "print(arr32)"
   ]
  },
  {
   "cell_type": "markdown",
   "id": "e825509a",
   "metadata": {},
   "source": [
    "### Q59: What is the difference between np.random.rand and np.random.randn? Illustrate with examples.\n",
    "#### Ans:\n",
    "\n",
    "The main difference between np.random.rand and np.random.randn is the type of distribution they generate random numbers from.\n",
    "np.random.rand`:\n",
    "   - Generates random numbers from a uniform distribution between 0 and 1.\n",
    "   - Takes the shape of the desired output as arguments.\n",
    "   - All generated numbers are equally likely to occur.\n",
    "   - Example:\n",
    "\n",
    "Examples are given below;"
   ]
  },
  {
   "cell_type": "code",
   "execution_count": 28,
   "id": "84b8ccec",
   "metadata": {},
   "outputs": [
    {
     "name": "stdout",
     "output_type": "stream",
     "text": [
      "[[0.29250228 0.80400204 0.92930254 0.36900915]\n",
      " [0.61582514 0.31761466 0.11942399 0.74021377]\n",
      " [0.17690172 0.55322603 0.10618323 0.28556484]]\n"
     ]
    }
   ],
   "source": [
    "# example of Q 59 (cont.)\n",
    "\n",
    "#    np.random.rand generates random numbers from a uniform distribution between 0 and 1. it takes the shape of the desired output as arguments.\n",
    "#    all generated numbers are equally likely to occur.\n",
    "  \n",
    "import numpy as np\n",
    "\n",
    "shape = (3, 4)\n",
    "\n",
    "arr33 = np.random.rand(*shape)\n",
    "print(arr33)"
   ]
  },
  {
   "cell_type": "code",
   "execution_count": 29,
   "id": "345e44df",
   "metadata": {},
   "outputs": [
    {
     "name": "stdout",
     "output_type": "stream",
     "text": [
      "[[ 1.61157468  0.77790533  0.82777994 -2.11214387]\n",
      " [ 0.35383385  0.97153652  2.16832282  0.506048  ]\n",
      " [-1.17815652  1.13310982 -0.88527851  0.25839672]]\n"
     ]
    }
   ],
   "source": [
    "# example of Q 59 (cont.)\n",
    "\n",
    "# np.random.randn generates random numbers from a standard normal distribution (mean 0, standard deviation 1). It Takes\n",
    "# the shape of the desired output as arguments. The generated numbers follow a bell-shaped curve around the mean of 0.\n",
    "  \n",
    "import numpy as np\n",
    "\n",
    "shape = (3, 4)\n",
    "\n",
    "arr34 = np.random.randn(*shape)\n",
    "print(arr34)"
   ]
  },
  {
   "cell_type": "markdown",
   "id": "bdd45d9a",
   "metadata": {},
   "source": [
    "### Q60: What is the difference between np.arange and np.linspace? Illustrate with examples.\n",
    "#### Ans:\n",
    "\n",
    "The main differrence between np.arange and np.linspace is as follows;\n",
    "\n",
    "1- arange allows you to specify the size of the steps\n",
    "\n",
    "2- linspace allows you to specify the number of steps\n",
    "\n",
    "Furthe ilustration and example s are given below;"
   ]
  },
  {
   "cell_type": "code",
   "execution_count": 34,
   "id": "b85658f1",
   "metadata": {},
   "outputs": [
    {
     "name": "stdout",
     "output_type": "stream",
     "text": [
      "[0 2 4 6 8]\n"
     ]
    }
   ],
   "source": [
    "# example of Q 60 (cont.)\n",
    "\n",
    "# np.arange generates a sequence of numbers with a specified start, stop, and step size. It takes the start, \n",
    "# stop, and step size as arguments. The generated sequence includes the start value but excludes the stop value.\n",
    "\n",
    "import numpy as np\n",
    "\n",
    "start = 0\n",
    "stop = 10\n",
    "step = 2\n",
    "\n",
    "arr35 = np.arange(start, stop, step)\n",
    "print(arr35)\n"
   ]
  },
  {
   "cell_type": "code",
   "execution_count": 35,
   "id": "502230bd",
   "metadata": {},
   "outputs": [
    {
     "name": "stdout",
     "output_type": "stream",
     "text": [
      "[ 0.   2.5  5.   7.5 10. ]\n"
     ]
    }
   ],
   "source": [
    "# example of Q 60 (cont.)\n",
    "\n",
    "# np.linspace generates a sequence of numbers with a specified start, stop, and number of elements. It takes the start,\n",
    "# stop, and the number of elements as arguments. The generated sequence includes both the start and stop values.\n",
    "  \n",
    "import numpy as np\n",
    "\n",
    "start = 0\n",
    "stop = 10\n",
    "num_elements = 5\n",
    "\n",
    "arr36 = np.linspace(start, stop, num_elements)\n",
    "print(arr36)"
   ]
  },
  {
   "cell_type": "markdown",
   "id": "bc6e1473",
   "metadata": {},
   "source": [
    "# Other Questions (Quiz)\n",
    "\n",
    "\n",
    "### Quiz 1:  Import the numpy package under the name np"
   ]
  },
  {
   "cell_type": "code",
   "execution_count": 1,
   "id": "f9fdfe2f",
   "metadata": {},
   "outputs": [],
   "source": [
    "import numpy as np \n",
    "\n",
    "#(np is the alias of Numpy)"
   ]
  },
  {
   "cell_type": "markdown",
   "id": "ee0dc814",
   "metadata": {},
   "source": [
    "### Quiz 2: Print the numpy version and the configuration "
   ]
  },
  {
   "cell_type": "code",
   "execution_count": 8,
   "id": "4b58e160",
   "metadata": {},
   "outputs": [
    {
     "data": {
      "text/plain": [
       "'1.24.3'"
      ]
     },
     "execution_count": 8,
     "metadata": {},
     "output_type": "execute_result"
    }
   ],
   "source": [
    "import numpy as np\n",
    "\n",
    "#(to show the version of Numpy library installed)\n",
    "np.__version__"
   ]
  },
  {
   "cell_type": "code",
   "execution_count": 10,
   "id": "54e84b20",
   "metadata": {},
   "outputs": [
    {
     "name": "stdout",
     "output_type": "stream",
     "text": [
      "blas_armpl_info:\n",
      "  NOT AVAILABLE\n",
      "blas_mkl_info:\n",
      "    libraries = ['mkl_rt']\n",
      "    library_dirs = ['C:/Users/Mubeen/anaconda3\\\\Library\\\\lib']\n",
      "    define_macros = [('SCIPY_MKL_H', None), ('HAVE_CBLAS', None)]\n",
      "    include_dirs = ['C:/Users/Mubeen/anaconda3\\\\Library\\\\include']\n",
      "blas_opt_info:\n",
      "    libraries = ['mkl_rt']\n",
      "    library_dirs = ['C:/Users/Mubeen/anaconda3\\\\Library\\\\lib']\n",
      "    define_macros = [('SCIPY_MKL_H', None), ('HAVE_CBLAS', None)]\n",
      "    include_dirs = ['C:/Users/Mubeen/anaconda3\\\\Library\\\\include']\n",
      "lapack_armpl_info:\n",
      "  NOT AVAILABLE\n",
      "lapack_mkl_info:\n",
      "    libraries = ['mkl_rt']\n",
      "    library_dirs = ['C:/Users/Mubeen/anaconda3\\\\Library\\\\lib']\n",
      "    define_macros = [('SCIPY_MKL_H', None), ('HAVE_CBLAS', None)]\n",
      "    include_dirs = ['C:/Users/Mubeen/anaconda3\\\\Library\\\\include']\n",
      "lapack_opt_info:\n",
      "    libraries = ['mkl_rt']\n",
      "    library_dirs = ['C:/Users/Mubeen/anaconda3\\\\Library\\\\lib']\n",
      "    define_macros = [('SCIPY_MKL_H', None), ('HAVE_CBLAS', None)]\n",
      "    include_dirs = ['C:/Users/Mubeen/anaconda3\\\\Library\\\\include']\n",
      "Supported SIMD extensions in this NumPy install:\n",
      "    baseline = SSE,SSE2,SSE3\n",
      "    found = SSSE3,SSE41,POPCNT,SSE42,AVX\n",
      "    not found = F16C,FMA3,AVX2,AVX512F,AVX512CD,AVX512_SKX,AVX512_CLX,AVX512_CNL,AVX512_ICL\n"
     ]
    }
   ],
   "source": [
    "# Quiz 2 continued\n",
    "\n",
    "#(to show the configuration of installed Numpy library )\n",
    "np.show_config()"
   ]
  },
  {
   "cell_type": "markdown",
   "id": "b4e6b249",
   "metadata": {},
   "source": [
    "### Quiz 3: Create a null vector of size 10 "
   ]
  },
  {
   "cell_type": "code",
   "execution_count": 20,
   "id": "9b0720b2",
   "metadata": {},
   "outputs": [
    {
     "name": "stdout",
     "output_type": "stream",
     "text": [
      "[0. 0. 0. 0. 0. 0. 0. 0. 0. 0.]\n"
     ]
    }
   ],
   "source": [
    "import numpy as np\n",
    "\n",
    "null_vector  = np.zeros(10)\n",
    "print(null_vector)"
   ]
  },
  {
   "cell_type": "markdown",
   "id": "d2fcc722",
   "metadata": {},
   "source": [
    "### Quiz 4: How to find the memory size of any array ?"
   ]
  },
  {
   "cell_type": "code",
   "execution_count": 21,
   "id": "6fce3cd7",
   "metadata": {},
   "outputs": [
    {
     "name": "stdout",
     "output_type": "stream",
     "text": [
      "Size of the array:  3\n",
      "Memory size of one array element in bytes:  4\n",
      "Memory size of numpy array in bytes: 12\n"
     ]
    }
   ],
   "source": [
    "# size and itemsize attributes will be used to find out the memory size of a numpy array\n",
    "import numpy as np\n",
    "\n",
    "# create a numpy 1d-array\n",
    "array1 = np.array([10,20,30])\n",
    "\n",
    "print(\"Size of the array: \", array1.size)\n",
    "\n",
    "print(\"Memory size of one array element in bytes: \",array1.itemsize)\n",
    "\n",
    "# memory size of numpy array in bytes\n",
    "print(\"Memory size of numpy array in bytes:\", array1.size * array1.itemsize)"
   ]
  },
  {
   "cell_type": "markdown",
   "id": "884f5e25",
   "metadata": {},
   "source": [
    "### Quiz 5: How to get the documentation of the numpy add function from the command line? "
   ]
  },
  {
   "cell_type": "code",
   "execution_count": 19,
   "id": "447b6290",
   "metadata": {},
   "outputs": [
    {
     "name": "stdout",
     "output_type": "stream",
     "text": [
      "add(x1, x2, /, out=None, *, where=True, casting='same_kind', order='K', dtype=None, subok=True[, signature, extobj])\n",
      "\n",
      "Add arguments element-wise.\n",
      "\n",
      "Parameters\n",
      "----------\n",
      "x1, x2 : array_like\n",
      "    The arrays to be added.\n",
      "    If ``x1.shape != x2.shape``, they must be broadcastable to a common\n",
      "    shape (which becomes the shape of the output).\n",
      "out : ndarray, None, or tuple of ndarray and None, optional\n",
      "    A location into which the result is stored. If provided, it must have\n",
      "    a shape that the inputs broadcast to. If not provided or None,\n",
      "    a freshly-allocated array is returned. A tuple (possible only as a\n",
      "    keyword argument) must have length equal to the number of outputs.\n",
      "where : array_like, optional\n",
      "    This condition is broadcast over the input. At locations where the\n",
      "    condition is True, the `out` array will be set to the ufunc result.\n",
      "    Elsewhere, the `out` array will retain its original value.\n",
      "    Note that if an uninitialized `out` array is created via the default\n",
      "    ``out=None``, locations within it where the condition is False will\n",
      "    remain uninitialized.\n",
      "**kwargs\n",
      "    For other keyword-only arguments, see the\n",
      "    :ref:`ufunc docs <ufuncs.kwargs>`.\n",
      "\n",
      "Returns\n",
      "-------\n",
      "add : ndarray or scalar\n",
      "    The sum of `x1` and `x2`, element-wise.\n",
      "    This is a scalar if both `x1` and `x2` are scalars.\n",
      "\n",
      "Notes\n",
      "-----\n",
      "Equivalent to `x1` + `x2` in terms of array broadcasting.\n",
      "\n",
      "Examples\n",
      "--------\n",
      ">>> np.add(1.0, 4.0)\n",
      "5.0\n",
      ">>> x1 = np.arange(9.0).reshape((3, 3))\n",
      ">>> x2 = np.arange(3.0)\n",
      ">>> np.add(x1, x2)\n",
      "array([[  0.,   2.,   4.],\n",
      "       [  3.,   5.,   7.],\n",
      "       [  6.,   8.,  10.]])\n",
      "\n",
      "The ``+`` operator can be used as a shorthand for ``np.add`` on ndarrays.\n",
      "\n",
      ">>> x1 = np.arange(9.0).reshape((3, 3))\n",
      ">>> x2 = np.arange(3.0)\n",
      ">>> x1 + x2\n",
      "array([[ 0.,  2.,  4.],\n",
      "       [ 3.,  5.,  7.],\n",
      "       [ 6.,  8., 10.]])\n",
      "None\n"
     ]
    }
   ],
   "source": [
    "print(np.info(np. add))"
   ]
  },
  {
   "cell_type": "markdown",
   "id": "d6ad8439",
   "metadata": {},
   "source": [
    "### Quiz 6:  Create a null vector of size 10 but the fifth value which is 1 "
   ]
  },
  {
   "cell_type": "code",
   "execution_count": 3,
   "id": "95b87e0d",
   "metadata": {},
   "outputs": [
    {
     "name": "stdout",
     "output_type": "stream",
     "text": [
      "[0. 0. 0. 0. 1. 0. 0. 0. 0. 0.]\n"
     ]
    }
   ],
   "source": [
    "import numpy as np\n",
    "\n",
    "null_vector = np.zeros(10)\n",
    "\n",
    "# fifth value will be on index 4 therefore,\n",
    "\n",
    "null_vector [4]= 1\n",
    "\n",
    "print (null_vector)"
   ]
  },
  {
   "cell_type": "markdown",
   "id": "e132735b",
   "metadata": {},
   "source": [
    "### Quiz 7: Create a vector with values ranging from 10 to 49"
   ]
  },
  {
   "cell_type": "code",
   "execution_count": 9,
   "id": "c419acdd",
   "metadata": {},
   "outputs": [
    {
     "name": "stdout",
     "output_type": "stream",
     "text": [
      "vector1:  [10 11 12 13 14 15 16 17 18 19 20 21 22 23 24 25 26 27 28 29 30 31 32 33\n",
      " 34 35 36 37 38 39 40 41 42 43 44 45 46 47 48]\n"
     ]
    }
   ],
   "source": [
    "import numpy as np\n",
    "\n",
    "vector1 = np.arange(10, 49)\n",
    "\n",
    "print (\"vector1: \", (vector1))"
   ]
  },
  {
   "cell_type": "markdown",
   "id": "06316a78",
   "metadata": {},
   "source": [
    "### Quiz 8: Reverse a vector (first element becomes last) "
   ]
  },
  {
   "cell_type": "code",
   "execution_count": 24,
   "id": "9697647e",
   "metadata": {},
   "outputs": [
    {
     "name": "stdout",
     "output_type": "stream",
     "text": [
      "Original vector:  [11 12 13 14 15 16 17 18 19 20 21 22 23 24 25 26 27 28 29]\n",
      "\n",
      "Reverse Vector:   [29 28 27 26 25 24 23 22 21 20 19 18 17 16 15 14 13 12 11]\n"
     ]
    }
   ],
   "source": [
    "import numpy as np\n",
    "\n",
    "vector2 = np.arange(11, 30)\n",
    "rev_vector = vector2[::-1]\n",
    "print (\"Original vector: \", (vector2))\n",
    "print()\n",
    "print (\"Reverse Vector:  \", (rev_vector))"
   ]
  },
  {
   "cell_type": "markdown",
   "id": "3121d3ee",
   "metadata": {},
   "source": [
    "### Quiz 9: Create a 3x3 matrix with values ranging from 0 to 8 "
   ]
  },
  {
   "cell_type": "code",
   "execution_count": 57,
   "id": "5690e5e2",
   "metadata": {},
   "outputs": [
    {
     "ename": "ValueError",
     "evalue": "cannot reshape array of size 8 into shape (3,3)",
     "output_type": "error",
     "traceback": [
      "\u001b[1;31m---------------------------------------------------------------------------\u001b[0m",
      "\u001b[1;31mValueError\u001b[0m                                Traceback (most recent call last)",
      "Cell \u001b[1;32mIn[57], line 5\u001b[0m\n\u001b[0;32m      1\u001b[0m \u001b[38;5;66;03m#Can not reshape array of size 8 into shape (3,3). Range should be 0 to 9 for matrix shape of 3 x 3\u001b[39;00m\n\u001b[0;32m      3\u001b[0m \u001b[38;5;28;01mimport\u001b[39;00m \u001b[38;5;21;01mnumpy\u001b[39;00m \u001b[38;5;28;01mas\u001b[39;00m \u001b[38;5;21;01mnp\u001b[39;00m\n\u001b[1;32m----> 5\u001b[0m matrix1 \u001b[38;5;241m=\u001b[39m np\u001b[38;5;241m.\u001b[39marange(\u001b[38;5;241m0\u001b[39m, \u001b[38;5;241m8\u001b[39m)\u001b[38;5;241m.\u001b[39m reshape (\u001b[38;5;241m3\u001b[39m, \u001b[38;5;241m3\u001b[39m)\n\u001b[0;32m      7\u001b[0m \u001b[38;5;28mprint\u001b[39m(matrix1)\n",
      "\u001b[1;31mValueError\u001b[0m: cannot reshape array of size 8 into shape (3,3)"
     ]
    }
   ],
   "source": [
    "#Can not reshape array of size 8 into shape (3,3). Range should be 0 to 9 for matrix shape of 3 x 3\n",
    "\n",
    "import numpy as np\n",
    "\n",
    "matrix1 = np.arange(0, 8). reshape (3, 3)\n",
    "\n",
    "print(matrix1)\n"
   ]
  },
  {
   "cell_type": "markdown",
   "id": "0c01c898",
   "metadata": {},
   "source": [
    "### Quiz 10: Find indices of non-zero elements from [1,2,0,0,4,0]  "
   ]
  },
  {
   "cell_type": "code",
   "execution_count": 54,
   "id": "2c65155e",
   "metadata": {},
   "outputs": [
    {
     "name": "stdout",
     "output_type": "stream",
     "text": [
      "Input array : [1 2 0 0 4 0]\n",
      "Indices of non zero elements :  (array([0, 1, 4], dtype=int64),)\n"
     ]
    }
   ],
   "source": [
    "import numpy as np\n",
    "\n",
    "array2 = np.array([1, 2, 0, 0, 4, 0]) \n",
    "\n",
    "print (\"Input array :\" , (array2)) \n",
    "\n",
    "indices = np.nonzero(array2) \n",
    "\n",
    "print (\"Indices of non zero elements : \", indices) "
   ]
  },
  {
   "cell_type": "markdown",
   "id": "42145dbb",
   "metadata": {},
   "source": [
    "### Quiz 11: Create a 3x3 identity matrix "
   ]
  },
  {
   "cell_type": "code",
   "execution_count": 61,
   "id": "9fe8f3a3",
   "metadata": {},
   "outputs": [
    {
     "name": "stdout",
     "output_type": "stream",
     "text": [
      "[[1. 0. 0.]\n",
      " [0. 1. 0.]\n",
      " [0. 0. 1.]]\n"
     ]
    }
   ],
   "source": [
    "import numpy as np\n",
    "matrix2 = np.identity(3)\n",
    "print (matrix2)"
   ]
  },
  {
   "cell_type": "markdown",
   "id": "9155be88",
   "metadata": {},
   "source": [
    "### Quiz 12: Create a 3x3x3 array with random values "
   ]
  },
  {
   "cell_type": "code",
   "execution_count": 65,
   "id": "917c1bec",
   "metadata": {},
   "outputs": [
    {
     "name": "stdout",
     "output_type": "stream",
     "text": [
      "[[[0.48214679 0.93776735 0.99166851]\n",
      "  [0.57406982 0.60187977 0.07788664]\n",
      "  [0.21917324 0.67163278 0.81697867]]\n",
      "\n",
      " [[0.39008683 0.69958762 0.4957395 ]\n",
      "  [0.40909946 0.81248078 0.19529959]\n",
      "  [0.87299866 0.24452431 0.45853045]]\n",
      "\n",
      " [[0.21630064 0.9920064  0.9648964 ]\n",
      "  [0.96132142 0.69710235 0.29066573]\n",
      "  [0.77217938 0.65115359 0.70014627]]]\n"
     ]
    }
   ],
   "source": [
    "import numpy as np\n",
    "array3 = np.random.random ((3, 3, 3))\n",
    "print (array3)"
   ]
  },
  {
   "cell_type": "markdown",
   "id": "0530f003",
   "metadata": {},
   "source": [
    "### Quiz 13: Create a 10x10 array with random values and find the minimum and maximum values "
   ]
  },
  {
   "cell_type": "code",
   "execution_count": 12,
   "id": "b9159288",
   "metadata": {},
   "outputs": [
    {
     "name": "stdout",
     "output_type": "stream",
     "text": [
      "Original Array: \n",
      "[[0.36723193 0.00242679 0.42793981 0.76057119 0.61773567 0.98939973\n",
      "  0.07206437 0.55003713 0.881906   0.47249193]\n",
      " [0.67549263 0.7630147  0.59314973 0.52308432 0.69047328 0.95132903\n",
      "  0.5055044  0.93839079 0.87468307 0.17087217]\n",
      " [0.19191169 0.19020075 0.82984946 0.48464603 0.81245471 0.96020455\n",
      "  0.83787348 0.9706474  0.04763088 0.12569336]\n",
      " [0.52312522 0.04243202 0.87778704 0.39023973 0.97827367 0.92976294\n",
      "  0.33321228 0.11643356 0.49338648 0.20910687]\n",
      " [0.37572384 0.53630133 0.11570356 0.46915547 0.28454265 0.8923324\n",
      "  0.6360535  0.23950695 0.38807026 0.10562587]\n",
      " [0.006855   0.25212761 0.0740757  0.2371244  0.66566931 0.73753286\n",
      "  0.05992966 0.17605992 0.22726609 0.47815664]\n",
      " [0.66052397 0.4215799  0.82595209 0.26795978 0.25215722 0.59525849\n",
      "  0.47843982 0.36817566 0.42887469 0.29230623]\n",
      " [0.72287545 0.65652992 0.06904537 0.02522004 0.2896668  0.51180451\n",
      "  0.44620163 0.83142649 0.6776593  0.26707299]\n",
      " [0.3047672  0.12271816 0.65568493 0.51169587 0.41361537 0.57320098\n",
      "  0.9770012  0.21600461 0.02428437 0.60142999]\n",
      " [0.9886446  0.73856961 0.72909706 0.77636342 0.11750078 0.78186921\n",
      "  0.81399453 0.36373827 0.79884102 0.16871475]]\n",
      "\n",
      "Minimum value & Maximum Value\n",
      "0.0024267860613664816 0.9893997282366336\n"
     ]
    }
   ],
   "source": [
    "import numpy as np\n",
    "array3 = np.random.random([10,10])\n",
    "print(\"Original Array: \" )\n",
    "print(array3)\n",
    "print()\n",
    "minimum, maximum = array3.min(), array3.max()\n",
    "print(\"Minimum value & Maximum Value\")\n",
    "print(minimum, maximum)"
   ]
  },
  {
   "cell_type": "markdown",
   "id": "557da450",
   "metadata": {},
   "source": [
    "### Quiz 14: Create a random vector of size 30 and find the mean value "
   ]
  },
  {
   "cell_type": "code",
   "execution_count": 16,
   "id": "e98cc7d1",
   "metadata": {},
   "outputs": [
    {
     "name": "stdout",
     "output_type": "stream",
     "text": [
      "Original Vector\n",
      "[5.72134758e-01 1.08877022e-01 7.90060476e-04 4.00729069e-01\n",
      " 3.27816035e-01 9.68843289e-01 5.40951901e-01 4.82314947e-01\n",
      " 9.04768442e-01 5.04130562e-01 3.83194500e-01 1.63395946e-01\n",
      " 6.51332351e-02 3.55413248e-01 4.31697866e-01 2.36276954e-02\n",
      " 4.68391203e-01 3.54660402e-01 3.32528520e-01 1.66498669e-01\n",
      " 5.21421723e-01 1.15482735e-01 4.11345143e-01 2.43603925e-01\n",
      " 5.62317286e-01 1.85814052e-01 5.66028961e-02 7.25529503e-01\n",
      " 3.46841726e-01 1.93557327e-01]\n",
      "Mean Value\n",
      "0.3639471228188897\n"
     ]
    }
   ],
   "source": [
    "import numpy as np\n",
    "vector3 = np.random.random(30)\n",
    "mean= vector3.mean()\n",
    "print (\"Original Vector\")\n",
    "print (vector3)\n",
    "print(\"Mean Value\")\n",
    "print (mean)"
   ]
  },
  {
   "cell_type": "markdown",
   "id": "3c183401",
   "metadata": {},
   "source": [
    "### Quiz 15: Create a 2d array with 1 on the border and 0 inside "
   ]
  },
  {
   "cell_type": "code",
   "execution_count": 25,
   "id": "8c53603b",
   "metadata": {},
   "outputs": [
    {
     "name": "stdout",
     "output_type": "stream",
     "text": [
      "[[1. 1. 1. 1. 1.]\n",
      " [1. 0. 0. 0. 1.]\n",
      " [1. 0. 0. 0. 1.]\n",
      " [1. 0. 0. 0. 1.]\n",
      " [1. 1. 1. 1. 1.]]\n"
     ]
    }
   ],
   "source": [
    "import numpy as np\n",
    "\n",
    "array4 = np.ones([5, 5])\n",
    "array4[1:-1, 1:-1]=0\n",
    "print (array4)"
   ]
  },
  {
   "cell_type": "markdown",
   "id": "70c4644f",
   "metadata": {},
   "source": [
    "### Quiz 16: How to add a border (filled with 0's) around an existing array?"
   ]
  },
  {
   "cell_type": "code",
   "execution_count": 46,
   "id": "72705984",
   "metadata": {},
   "outputs": [
    {
     "name": "stdout",
     "output_type": "stream",
     "text": [
      "[[0. 0. 0. 0. 0. 0. 0. 0.]\n",
      " [0. 1. 1. 1. 1. 1. 1. 0.]\n",
      " [0. 1. 1. 1. 1. 1. 1. 0.]\n",
      " [0. 1. 1. 1. 1. 1. 1. 0.]\n",
      " [0. 1. 1. 1. 1. 1. 1. 0.]\n",
      " [0. 1. 1. 1. 1. 1. 1. 0.]\n",
      " [0. 1. 1. 1. 1. 1. 1. 0.]\n",
      " [0. 0. 0. 0. 0. 0. 0. 0.]]\n"
     ]
    }
   ],
   "source": [
    "import numpy as np\n",
    "array5 = np.ones([6,6])\n",
    "array5 = np.pad(array5, pad_width=1, constant_values=0)\n",
    "print(array5)"
   ]
  },
  {
   "cell_type": "markdown",
   "id": "f511df44",
   "metadata": {},
   "source": [
    "### Quiz17: What is the result of the following expression?\n",
    "0 * np.nan\n",
    "\n",
    "np.nan == np.nan\n",
    "\n",
    "np.inf > np.nan\n",
    "\n",
    "np.nan - np.nan\n",
    "\n",
    "np.nan in set([np.nan])\n",
    "\n",
    "0.3 == 3 * 0.1"
   ]
  },
  {
   "cell_type": "code",
   "execution_count": 60,
   "id": "b53ffde1",
   "metadata": {},
   "outputs": [
    {
     "name": "stdout",
     "output_type": "stream",
     "text": [
      "Result of the expression 0*np.nan =  nan\n",
      "Result of the expression np.nan == np.nan =  False\n",
      "Result of the expression np.inf > np.nan =  False\n",
      "Result of the expression np.nan - np.nan =  nan\n",
      "Result of the expression np.nan in set([np.nan]) =  True\n",
      "Result of the expression 0.3 == 3 * 0.1 =  False\n"
     ]
    }
   ],
   "source": [
    "import numpy as np\n",
    "a = 0*np.nan\n",
    "print (\"Result of the expression 0*np.nan = \", (0*np.nan))\n",
    "print (\"Result of the expression np.nan == np.nan = \", (np.nan==np.nan))\n",
    "print (\"Result of the expression np.inf > np.nan = \", (np.inf > np.nan))    \n",
    "print (\"Result of the expression np.nan - np.nan = \", (np.nan - np.nan))\n",
    "print (\"Result of the expression np.nan in set([np.nan]) = \", (np.nan in set([np.nan])))\n",
    "print (\"Result of the expression 0.3 == 3 * 0.1 = \", (0.3 == 3 * 0.1))"
   ]
  },
  {
   "cell_type": "markdown",
   "id": "ed3df810",
   "metadata": {},
   "source": [
    "### Quiz 18: Create a 5x5 matrix with values 1,2,3,4 just below the diagonal "
   ]
  },
  {
   "cell_type": "code",
   "execution_count": 64,
   "id": "111eea05",
   "metadata": {},
   "outputs": [
    {
     "name": "stdout",
     "output_type": "stream",
     "text": [
      "[[0 0 0 0 0]\n",
      " [1 0 0 0 0]\n",
      " [0 2 0 0 0]\n",
      " [0 0 3 0 0]\n",
      " [0 0 0 4 0]]\n"
     ]
    }
   ],
   "source": [
    "import numpy as np\n",
    "matrix3 = np.diag(1+np.arange(4),k=-1)\n",
    "print (matrix3)"
   ]
  },
  {
   "cell_type": "markdown",
   "id": "7816792f",
   "metadata": {},
   "source": [
    "### Quiz 19: Create a 8x8 matrix and fill it with a checkerboard pattern"
   ]
  },
  {
   "cell_type": "code",
   "execution_count": 70,
   "id": "63afb07e",
   "metadata": {},
   "outputs": [
    {
     "name": "stdout",
     "output_type": "stream",
     "text": [
      "[[0 1 0 1 0 1 0 1]\n",
      " [1 0 1 0 1 0 1 0]\n",
      " [0 1 0 1 0 1 0 1]\n",
      " [1 0 1 0 1 0 1 0]\n",
      " [0 1 0 1 0 1 0 1]\n",
      " [1 0 1 0 1 0 1 0]\n",
      " [0 1 0 1 0 1 0 1]\n",
      " [1 0 1 0 1 0 1 0]]\n"
     ]
    }
   ],
   "source": [
    "import numpy as np\n",
    "matrix4 = np.zeros((8,8),dtype=int)\n",
    "matrix4[1::2,::2] = 1\n",
    "matrix4[::2,1::2] = 1\n",
    "print(matrix4)"
   ]
  },
  {
   "cell_type": "markdown",
   "id": "0da8ca13",
   "metadata": {},
   "source": [
    "### Quiz 20: Consider a (6,7,8) shape array, what is the index (x,y,z) of the 100th element? "
   ]
  },
  {
   "cell_type": "code",
   "execution_count": 75,
   "id": "a83879f8",
   "metadata": {},
   "outputs": [
    {
     "name": "stdout",
     "output_type": "stream",
     "text": [
      "(1, 5, 4)\n"
     ]
    }
   ],
   "source": [
    "#This quiz requires unravel_index() function to solve as per following parameters;\n",
    "#numpy.unravel_index(indices, shape, order='C')\n",
    "#Converts a flat index or array of flat indices into a tuple of coordinate arrays.\n",
    "import numpy as np\n",
    "array5 = np.unravel_index(100,(6,7,8))\n",
    "print (array5)\n"
   ]
  },
  {
   "cell_type": "markdown",
   "id": "b223a268",
   "metadata": {},
   "source": [
    "### Quiz 21: Create a checkerboard 8x8 matrix using the tile function "
   ]
  },
  {
   "cell_type": "code",
   "execution_count": 80,
   "id": "2a0f3f91",
   "metadata": {},
   "outputs": [
    {
     "name": "stdout",
     "output_type": "stream",
     "text": [
      "[[0 1 0 1 0 1 0 1]\n",
      " [1 0 1 0 1 0 1 0]\n",
      " [0 1 0 1 0 1 0 1]\n",
      " [1 0 1 0 1 0 1 0]\n",
      " [0 1 0 1 0 1 0 1]\n",
      " [1 0 1 0 1 0 1 0]\n",
      " [0 1 0 1 0 1 0 1]\n",
      " [1 0 1 0 1 0 1 0]]\n"
     ]
    }
   ],
   "source": [
    "import numpy as np\n",
    "\n",
    "matrix5 = np.tile(np.array([[0,1],[1,0]]), (4,4))\n",
    "print(matrix5)"
   ]
  },
  {
   "cell_type": "markdown",
   "id": "32b910b7",
   "metadata": {},
   "source": [
    "### Quiz 22: Normalize a 5x5 random matrix "
   ]
  },
  {
   "cell_type": "code",
   "execution_count": 88,
   "id": "8e606bf9",
   "metadata": {},
   "outputs": [
    {
     "name": "stdout",
     "output_type": "stream",
     "text": [
      "\n",
      " Original array elements :\n",
      "[[0.82170162 0.57391666 0.10288877 0.3209065  0.07093291]\n",
      " [0.87533005 0.93018268 0.30794689 0.84330363 0.17054214]\n",
      " [0.37173545 0.24228127 0.37222802 0.55993995 0.38776684]\n",
      " [0.78720874 0.34757338 0.45862874 0.75377755 0.64466593]\n",
      " [0.55364683 0.43673366 0.24683053 0.6911599  0.17611689]]\n",
      "\n",
      " Original Array :\n",
      "[[0.82170162 0.57391666 0.10288877 0.3209065  0.07093291]\n",
      " [0.87533005 0.93018268 0.30794689 0.84330363 0.17054214]\n",
      " [0.37173545 0.24228127 0.37222802 0.55993995 0.38776684]\n",
      " [0.78720874 0.34757338 0.45862874 0.75377755 0.64466593]\n",
      " [0.55364683 0.43673366 0.24683053 0.6911599  0.17611689]]\n",
      "\n",
      " Normalized Array (column-wise) :\n",
      "[[ 0.73526054  0.28440095 -1.62237717 -1.72286201 -1.06749853]\n",
      " [ 1.01735878  1.77929179  0.08529527  1.15341318 -0.58212071]\n",
      " [-1.63166803 -1.10713984  0.6206124  -0.40676371  0.47637609]\n",
      " [ 0.55381983 -0.66533455  1.34013585  0.66049007  1.72819909]\n",
      " [-0.67477112 -0.29121836 -0.42366635  0.31572247 -0.55495594]]\n"
     ]
    }
   ],
   "source": [
    "import numpy as np\n",
    "# create a 5x5 array with random values\n",
    "array6 = np.random.rand(5, 5)\n",
    "print(\"\\n Original array elements :\",)\n",
    "print(array6)\n",
    "# compute the mean of each column\n",
    "col_means = np.mean(array6, axis=0)\n",
    "# normalize each column by subtracting its mean and dividing by its standard deviation\n",
    "arr_normalized = (array6 - col_means) / np.std(array6, axis=0)\n",
    "print(\"\\n Original Array :\")\n",
    "print (array6)\n",
    "print(\"\\n Normalized Array (column-wise) :\")\n",
    "print(arr_normalized)"
   ]
  },
  {
   "cell_type": "markdown",
   "id": "8f295261",
   "metadata": {},
   "source": [
    "### Quiz 23: Create a custom dtype that describes a color as four unsigned bytes (RGBA) "
   ]
  },
  {
   "cell_type": "code",
   "execution_count": 97,
   "id": "51a216ff",
   "metadata": {},
   "outputs": [
    {
     "name": "stdout",
     "output_type": "stream",
     "text": [
      "[(255,   0,   0, 255) (  0, 255,   0, 255) (  0,   0, 255, 255)]\n"
     ]
    }
   ],
   "source": [
    "import numpy as np\n",
    "# Define the custom dtype for RGBA colors\n",
    "datatype = datatype_rgba = np.dtype([\n",
    "    ('R', np.uint8),\n",
    "    ('G', np.uint8),\n",
    "    ('B', np.uint8),\n",
    "    ('A', np.uint8)\n",
    "])\n",
    "# Create a Numpy array of RGBA colors using the custom dtype\n",
    "colors = np.array([(255, 0, 0, 255), (0, 255, 0, 255), (0, 0, 255, 255)], dtype=datatype_rgba)\n",
    "print(colors)"
   ]
  },
  {
   "cell_type": "markdown",
   "id": "4fe0b026",
   "metadata": {},
   "source": [
    "### Quiz 24:  Multiply a 5x3 matrix by a 3x2 matrix (real matrix product)"
   ]
  },
  {
   "cell_type": "code",
   "execution_count": 101,
   "id": "b1623ba9",
   "metadata": {},
   "outputs": [
    {
     "name": "stdout",
     "output_type": "stream",
     "text": [
      "\n",
      " First array:\n",
      "[[0.76443967 0.51089847 0.84553915]\n",
      " [0.36687004 0.04842627 0.91320925]\n",
      " [0.49236685 0.07876351 0.42509524]\n",
      " [0.09382993 0.02950711 0.72880397]\n",
      " [0.34737926 0.14273403 0.48575429]]\n",
      "\n",
      " Second array:\n",
      "[[0.52334042 0.96915099]\n",
      " [0.49144719 0.6209047 ]\n",
      " [0.24410745 0.48519572]]\n",
      "\n",
      " Dot product of two arrays:\n",
      "[[0.8575442  1.46832871]\n",
      " [0.43871806 0.82870578]\n",
      " [0.40015249 0.73233684]\n",
      " [0.24151266 0.46286904]\n",
      " [0.37052009 0.66097309]]\n"
     ]
    }
   ],
   "source": [
    "import numpy as np\n",
    "matrix6 = np.random.random((5,3))\n",
    "print(\"\\n First array:\")\n",
    "print(matrix6)\n",
    "matrix7 = np.random.random((3,2))\n",
    "print(\"\\n Second array:\")\n",
    "print(matrix7)\n",
    "matrix8 = np.dot(matrix6, matrix7)\n",
    "print(\"\\n Dot product of two arrays:\")\n",
    "print(matrix8)"
   ]
  },
  {
   "cell_type": "markdown",
   "id": "df9ecfe1",
   "metadata": {},
   "source": [
    "### Quiz 25: Given a 1D array, negate all elements which are between 3 and 8, in place "
   ]
  },
  {
   "cell_type": "code",
   "execution_count": 103,
   "id": "7890cc84",
   "metadata": {},
   "outputs": [
    {
     "data": {
      "text/plain": [
       "array([ 9, 10])"
      ]
     },
     "execution_count": 103,
     "metadata": {},
     "output_type": "execute_result"
    }
   ],
   "source": [
    "import numpy as np\n",
    "array6 = np.arange(11)\n",
    "array6[(3 < array6) & (array6 <= 8)] *= -1\n",
    "array6[array6 > 5]\n",
    "array6 = np.arange(11)\n",
    "array6[(3 < array6) & (array6 <= 8)] *= -1\n",
    "array6[array6 > 5]"
   ]
  },
  {
   "cell_type": "markdown",
   "id": "58992b68",
   "metadata": {},
   "source": [
    "# Quiz 26: What is the output of the following script?\n",
    "\n",
    "print(sum(range(5),-1))\n",
    "\n",
    "from numpy import *\n",
    "\n",
    "print(sum(range(5),-1))"
   ]
  },
  {
   "cell_type": "markdown",
   "id": "5a519d41",
   "metadata": {},
   "source": [
    "##### print(sum(range(5),-1)) = 9\n",
    "\n",
    "##### from numpy import *\n",
    "\n",
    "##### print(sum(range(5),-1)) =10"
   ]
  },
  {
   "cell_type": "markdown",
   "id": "abc7a886",
   "metadata": {},
   "source": [
    "### Quiz 27: Consider an integer vector Z, which of these expressions are legal? "
   ]
  },
  {
   "cell_type": "code",
   "execution_count": 141,
   "id": "dcc012d9",
   "metadata": {
    "scrolled": true
   },
   "outputs": [
    {
     "name": "stdout",
     "output_type": "stream",
     "text": [
      "Z = (Z**Z) =   [0 1 2]\n",
      "\n",
      " 2 << Z >> 2) =  [0 1 2]\n",
      "\n",
      " Z < - Z) =  [False False False]\n",
      "\n",
      " 1j * Z) =  [0.+0.j 0.+1.j 0.+2.j]\n",
      "\n",
      " Z / 1 / 1) =  [0. 1. 2.]\n"
     ]
    },
    {
     "ename": "ValueError",
     "evalue": "The truth value of an array with more than one element is ambiguous. Use a.any() or a.all()",
     "output_type": "error",
     "traceback": [
      "\u001b[1;31m---------------------------------------------------------------------------\u001b[0m",
      "\u001b[1;31mValueError\u001b[0m                                Traceback (most recent call last)",
      "Cell \u001b[1;32mIn[141], line 8\u001b[0m\n\u001b[0;32m      6\u001b[0m \u001b[38;5;28mprint\u001b[39m (\u001b[38;5;124m\"\u001b[39m\u001b[38;5;130;01m\\n\u001b[39;00m\u001b[38;5;124m 1j * Z) = \u001b[39m\u001b[38;5;124m\"\u001b[39m, (\u001b[38;5;241m1\u001b[39mj \u001b[38;5;241m*\u001b[39m Z))\n\u001b[0;32m      7\u001b[0m \u001b[38;5;28mprint\u001b[39m (\u001b[38;5;124m\"\u001b[39m\u001b[38;5;130;01m\\n\u001b[39;00m\u001b[38;5;124m Z / 1 / 1) = \u001b[39m\u001b[38;5;124m\"\u001b[39m, (Z \u001b[38;5;241m/\u001b[39m \u001b[38;5;241m1\u001b[39m \u001b[38;5;241m/\u001b[39m \u001b[38;5;241m1\u001b[39m))\n\u001b[1;32m----> 8\u001b[0m \u001b[38;5;28mprint\u001b[39m (\u001b[38;5;124m\"\u001b[39m\u001b[38;5;130;01m\\n\u001b[39;00m\u001b[38;5;124m Z < Z > Z) = \u001b[39m\u001b[38;5;124m\"\u001b[39m, (Z \u001b[38;5;241m<\u001b[39m Z \u001b[38;5;241m>\u001b[39m Z))\n",
      "\u001b[1;31mValueError\u001b[0m: The truth value of an array with more than one element is ambiguous. Use a.any() or a.all()"
     ]
    }
   ],
   "source": [
    "import numpy as np\n",
    "Z = np.arange(3)\n",
    "print (\"Z = (Z**Z) =  \", (Z))\n",
    "print (\"\\n 2 << Z >> 2) = \", (2 << Z >> 2))\n",
    "print (\"\\n Z < - Z) = \", (Z < - Z)) \n",
    "print (\"\\n 1j * Z) = \", (1j * Z))\n",
    "print (\"\\n Z / 1 / 1) = \", (Z / 1 / 1))\n",
    "\n",
    "print (\"\\n Z < Z > Z) = \", (Z < Z > Z)) # ValueError Traceback (most recent call last) Cell In[141], line 8\n",
    "                        # The truth value of an array with more than one element is ambiguous. Use a.any() or a.all()"
   ]
  },
  {
   "cell_type": "markdown",
   "id": "e1eadfb9",
   "metadata": {},
   "source": [
    "### Quiz 28: What are the result of the following expressions? \n",
    "\n",
    "np.array(0) / np.array(0)  \n",
    "Ans: nan\n",
    "\n",
    "np.array(0) // np.array(0)     \n",
    "Ans: 0\n",
    "\n",
    "np.array([np.nan]).astype(int).astype(float)      \n",
    "Ans: [-2.14748365e+09]"
   ]
  },
  {
   "cell_type": "code",
   "execution_count": 396,
   "id": "47a01599",
   "metadata": {},
   "outputs": [
    {
     "name": "stdout",
     "output_type": "stream",
     "text": [
      "nan\n"
     ]
    }
   ],
   "source": [
    "import numpy as np\n",
    "x = np.array(0) / np.array(0) \n",
    "print(x)"
   ]
  },
  {
   "cell_type": "code",
   "execution_count": 397,
   "id": "ac2b2c07",
   "metadata": {},
   "outputs": [
    {
     "name": "stdout",
     "output_type": "stream",
     "text": [
      "0\n"
     ]
    }
   ],
   "source": [
    "import numpy as np\n",
    "x = np.array(0) // np.array(0) \n",
    "print(x)"
   ]
  },
  {
   "cell_type": "code",
   "execution_count": 398,
   "id": "7006b562",
   "metadata": {},
   "outputs": [
    {
     "name": "stdout",
     "output_type": "stream",
     "text": [
      "[-2.14748365e+09]\n"
     ]
    }
   ],
   "source": [
    "import numpy as np\n",
    "x= np.array([np.nan]).astype(int).astype(float)\n",
    "print (x)"
   ]
  },
  {
   "cell_type": "markdown",
   "id": "1684c2fa",
   "metadata": {},
   "source": [
    "###  29: How to round away from zero a float array"
   ]
  },
  {
   "cell_type": "code",
   "execution_count": 163,
   "id": "789b238b",
   "metadata": {},
   "outputs": [
    {
     "name": "stdout",
     "output_type": "stream",
     "text": [
      "rounded_array =  [ 2. -3.  4. -5.]\n"
     ]
    }
   ],
   "source": [
    "#To round away from zero a float array in NumPy, you can use the `numpy.ceil()` and `numpy.floor()` functions.\n",
    "\n",
    "#Here's an example code snippet in Python:\n",
    "\n",
    "import numpy as np\n",
    "\n",
    "float_array = np.array([1.2, -2.5, 3.7, -4.9])\n",
    "\n",
    "rounded_array = np.where(float_array > 0, np.ceil(float_array), np.floor(float_array))\n",
    "\n",
    "print(\"rounded_array = \", (rounded_array))\n"
   ]
  },
  {
   "cell_type": "markdown",
   "id": "f649aed7",
   "metadata": {},
   "source": [
    "### Quiz 30:  How to find common values between two arrays?"
   ]
  },
  {
   "cell_type": "code",
   "execution_count": 165,
   "id": "d1349777",
   "metadata": {},
   "outputs": [
    {
     "name": "stdout",
     "output_type": "stream",
     "text": [
      "Common Values in two arrays are:  [1 3 4]\n"
     ]
    }
   ],
   "source": [
    "import numpy as np \n",
    "\n",
    "array7 = np.array([0, 1, 2, 3, 4]) \n",
    "array8 = [1, 3, 4] \n",
    "\n",
    "# Common values between two arrays \n",
    "print(\"Common Values in two arrays are: \", (np.intersect1d(array7, array8))) \n"
   ]
  },
  {
   "cell_type": "markdown",
   "id": "19fdccb0",
   "metadata": {},
   "source": [
    "### Quiz 31: How to ignore all numpy warnings (not recommended)? "
   ]
  },
  {
   "cell_type": "code",
   "execution_count": 180,
   "id": "ba4c4686",
   "metadata": {},
   "outputs": [],
   "source": [
    "# numpy.seterr(all=None, divide=None, over=None, under=None, invalid=None)\n",
    "import numpy as np\n",
    "defaults = np.seterr(all=\"ignore\")\n",
    "Z = np.ones(1) / 0"
   ]
  },
  {
   "cell_type": "markdown",
   "id": "cc03af4e",
   "metadata": {},
   "source": [
    "### Quiz 32 : Is the following expressions true?\n",
    "\n",
    "np.sqrt(-1) == np.emath.sqrt(-1)"
   ]
  },
  {
   "cell_type": "code",
   "execution_count": 181,
   "id": "b1b1f293",
   "metadata": {},
   "outputs": [
    {
     "name": "stdout",
     "output_type": "stream",
     "text": [
      "False\n"
     ]
    }
   ],
   "source": [
    "import numpy as np\n",
    "x = np.sqrt(-1) == np.emath.sqrt(-1)\n",
    "print (x)"
   ]
  },
  {
   "cell_type": "markdown",
   "id": "3fe9f7a5",
   "metadata": {},
   "source": [
    "### Quiz 33: How to get the dates of yesterday, today and tomorrow?"
   ]
  },
  {
   "cell_type": "code",
   "execution_count": 195,
   "id": "91683fc2",
   "metadata": {},
   "outputs": [
    {
     "name": "stdout",
     "output_type": "stream",
     "text": [
      "Today Date is:  2023-11-05\n",
      "Yesterday Date was:  2023-11-04\n",
      "Tomorrow Date will be:  2023-11-06\n"
     ]
    }
   ],
   "source": [
    "import numpy as np\n",
    "today = np.datetime64('today', 'D')\n",
    "yesterday = np.datetime64('today', 'D') - np.timedelta64(1, 'D')\n",
    "tomorrow =np.datetime64('today', 'D') + np.timedelta64(1, 'D') \n",
    "print (\"Today Date is: \", (today))\n",
    "print (\"Yesterday Date was: \", (yesterday))\n",
    "print (\"Tomorrow Date will be: \", (tomorrow))\n"
   ]
  },
  {
   "cell_type": "markdown",
   "id": "c251f85e",
   "metadata": {},
   "source": [
    "### Quiz 34: How to get all the dates corresponding to the month of July 2016? "
   ]
  },
  {
   "cell_type": "code",
   "execution_count": 199,
   "id": "77fd2090",
   "metadata": {},
   "outputs": [
    {
     "name": "stdout",
     "output_type": "stream",
     "text": [
      "Jul, 2016 \n",
      "\n",
      "['2016-07-01' '2016-07-02' '2016-07-03' '2016-07-04' '2016-07-05'\n",
      " '2016-07-06' '2016-07-07' '2016-07-08' '2016-07-09' '2016-07-10'\n",
      " '2016-07-11' '2016-07-12' '2016-07-13' '2016-07-14' '2016-07-15'\n",
      " '2016-07-16' '2016-07-17' '2016-07-18' '2016-07-19' '2016-07-20'\n",
      " '2016-07-21' '2016-07-22' '2016-07-23' '2016-07-24' '2016-07-25'\n",
      " '2016-07-26' '2016-07-27' '2016-07-28' '2016-07-29' '2016-07-30'\n",
      " '2016-07-31']\n"
     ]
    }
   ],
   "source": [
    "import numpy as np\n",
    "print(\"Jul, 2016 \\n\")\n",
    "print(np.arange('2016-07', '2016-08', dtype='datetime64[D]'))"
   ]
  },
  {
   "cell_type": "markdown",
   "id": "41d829c8",
   "metadata": {},
   "source": [
    "### Quiz 35: How to compute ((A+B)*(-A/2)) in place (without copy) "
   ]
  },
  {
   "cell_type": "code",
   "execution_count": 200,
   "id": "3436cb7d",
   "metadata": {},
   "outputs": [
    {
     "data": {
      "text/plain": [
       "array([-1.5, -1.5, -1.5])"
      ]
     },
     "execution_count": 200,
     "metadata": {},
     "output_type": "execute_result"
    }
   ],
   "source": [
    "import numpy as np\n",
    "\n",
    "A = np.ones(3) * 1\n",
    "B = np.ones(3) * 2\n",
    "C = np.ones(3) * 3\n",
    "np.add(A, B, out=B)\n",
    "np.divide(A, 2, out=A)\n",
    "np.negative(A, out=A)\n",
    "np.multiply(A, B, out=A)"
   ]
  },
  {
   "cell_type": "markdown",
   "id": "12513065",
   "metadata": {},
   "source": [
    "### Quiz 36: Extract the integer part of a random array of positive numbers using 4 different methods "
   ]
  },
  {
   "cell_type": "code",
   "execution_count": 235,
   "id": "c15e2857",
   "metadata": {},
   "outputs": [
    {
     "name": "stdout",
     "output_type": "stream",
     "text": [
      "Method 1: x= [7.39567041 0.50477672 9.17398702 0.44370156 0.01663713 9.77664191\n",
      " 1.27928774 8.0102734  5.09306648 4.6976366 ]\n",
      "\n",
      " Method 2: x= [7. 0. 9. 0. 0. 9. 1. 8. 5. 4.]\n",
      "\n",
      " Method 3: x=  [7. 0. 9. 0. 0. 9. 1. 8. 5. 4.]\n",
      "\n",
      " Method 4: x= [7 0 9 0 0 9 1 8 5 4]\n"
     ]
    }
   ],
   "source": [
    "import numpy as np\n",
    "x = np.random.uniform(0,10,10)\n",
    "\n",
    "print('Method 1: x=',x)\n",
    "print ('\\n Method 2: x=' ,x-x%1)\n",
    "print ('\\n Method 3: x= ' ,np.floor(x))\n",
    "print ('\\n Method 4: x=' ,x.astype(int))"
   ]
  },
  {
   "cell_type": "markdown",
   "id": "fc9b32f4",
   "metadata": {},
   "source": [
    "### Quiz 37: Create a 5x5 matrix with row values ranging from 0 to 4 "
   ]
  },
  {
   "cell_type": "code",
   "execution_count": 238,
   "id": "0daa355b",
   "metadata": {},
   "outputs": [
    {
     "name": "stdout",
     "output_type": "stream",
     "text": [
      "Original array: [[0. 0. 0. 0. 0.]\n",
      " [0. 0. 0. 0. 0.]\n",
      " [0. 0. 0. 0. 0.]\n",
      " [0. 0. 0. 0. 0.]\n",
      " [0. 0. 0. 0. 0.]]\n",
      "Row values ranging from 0 to 4.\n",
      "[[0. 1. 2. 3. 4.]\n",
      " [0. 1. 2. 3. 4.]\n",
      " [0. 1. 2. 3. 4.]\n",
      " [0. 1. 2. 3. 4.]\n",
      " [0. 1. 2. 3. 4.]]\n"
     ]
    }
   ],
   "source": [
    "import numpy as np\n",
    "matrix9 = np.zeros((5,5))\n",
    "print(\"Original array:\" , (matrix9))\n",
    "\n",
    "print(\"Row values ranging from 0 to 4.\")\n",
    "matrix9 += np.arange(5)\n",
    "print(matrix9)"
   ]
  },
  {
   "cell_type": "markdown",
   "id": "d3a03b07",
   "metadata": {},
   "source": [
    "### Quiz 38: Consider a generator function that generates 10 integers and use it to build an array"
   ]
  },
  {
   "cell_type": "code",
   "execution_count": 244,
   "id": "95f90fa9",
   "metadata": {},
   "outputs": [
    {
     "data": {
      "text/plain": [
       "array([0., 1., 2., 3., 4., 5., 6., 7., 8., 9.], dtype=float32)"
      ]
     },
     "execution_count": 244,
     "metadata": {},
     "output_type": "execute_result"
    }
   ],
   "source": [
    "def generate_integers():\n",
    "    for i in range(10):\n",
    "        yield i\n",
    "np.fromiter(generate_integers(), dtype=np.float32, count=-1)"
   ]
  },
  {
   "cell_type": "markdown",
   "id": "d5f9e174",
   "metadata": {},
   "source": [
    "### Quiz 39: Create a vector of size 10 with values ranging from 0 to 1, both excluded"
   ]
  },
  {
   "cell_type": "code",
   "execution_count": 245,
   "id": "7943d7b5",
   "metadata": {},
   "outputs": [
    {
     "name": "stdout",
     "output_type": "stream",
     "text": [
      "[0.09090909 0.18181818 0.27272727 0.36363636 0.45454545 0.54545455\n",
      " 0.63636364 0.72727273 0.81818182 0.90909091]\n"
     ]
    }
   ],
   "source": [
    "import numpy as np\n",
    "vector2 = np.linspace(0,1,12,endpoint=True)[1:-1]\n",
    "print(vector2)"
   ]
  },
  {
   "cell_type": "markdown",
   "id": "d2c490b3",
   "metadata": {},
   "source": [
    "### Quiz 40:  Create a random vector of size 10 and sort it"
   ]
  },
  {
   "cell_type": "code",
   "execution_count": 249,
   "id": "d8bd9654",
   "metadata": {},
   "outputs": [
    {
     "name": "stdout",
     "output_type": "stream",
     "text": [
      "Original array: \n",
      "  [0.78349006 0.3096257  0.96238133 0.19394706 0.43598964 0.21572406\n",
      " 0.58985231 0.58897112 0.18331582 0.36131723]\n",
      "\n",
      " Sorted array: \n",
      " [0.18331582 0.19394706 0.21572406 0.3096257  0.36131723 0.43598964\n",
      " 0.58897112 0.58985231 0.78349006 0.96238133]\n"
     ]
    }
   ],
   "source": [
    "import numpy as np\n",
    "vector3 = np.random.random(10)\n",
    "print(\"Original array: \\n \", (vector3))\n",
    "\n",
    "vector3.sort()\n",
    "print(\"\\n Sorted array: \\n\", (vector3))\n"
   ]
  },
  {
   "cell_type": "markdown",
   "id": "7ccd6fa4",
   "metadata": {},
   "source": [
    "### Quiz 41: How to sum a small array faster than np.sum? "
   ]
  },
  {
   "cell_type": "code",
   "execution_count": 251,
   "id": "f7ca5f9c",
   "metadata": {},
   "outputs": [
    {
     "name": "stdout",
     "output_type": "stream",
     "text": [
      "3.995180130004883\n",
      "4.000425338745117\n"
     ]
    }
   ],
   "source": [
    "import time\n",
    "begin_time = time.time()\n",
    "array10 = np.arange(1000000)\n",
    "np.sum(array10)\n",
    "end_time = time.time()\n",
    "print(str(1000*(end_time - begin_time)))\n",
    "\n",
    "begin_time2 = time.time()\n",
    "array10 = np.arange(1000000)\n",
    "np.add.reduce(array10)\n",
    "end_time2 = time.time()\n",
    "print(str(1000*(end_time2 - begin_time2)))"
   ]
  },
  {
   "cell_type": "markdown",
   "id": "2bda7404",
   "metadata": {},
   "source": [
    "### Quiz 42: Consider two random array A and B, check if they are equal"
   ]
  },
  {
   "cell_type": "code",
   "execution_count": 252,
   "id": "dadf134e",
   "metadata": {},
   "outputs": [
    {
     "name": "stdout",
     "output_type": "stream",
     "text": [
      "First array: [1 0 1 1 1 0]\n",
      "Second array: [0 0 0 0 0 1]\n",
      "Test above two arrays are equal or not!\n",
      "False\n"
     ]
    }
   ],
   "source": [
    "import numpy as np\n",
    "array11 = np.random.randint(0,2,6)\n",
    "print(\"First array:\", (array11))\n",
    "array12 = np.random.randint(0,2,6)\n",
    "print(\"Second array:\", (array12))\n",
    "print(\"Test above two arrays are equal or not!\")\n",
    "array_equal = np.allclose(array11, array12)\n",
    "print(array_equal)"
   ]
  },
  {
   "cell_type": "markdown",
   "id": "cfd44f97",
   "metadata": {},
   "source": [
    "### Quiz 43: Make an array immutable (read-only) "
   ]
  },
  {
   "cell_type": "code",
   "execution_count": 254,
   "id": "a8eedfe0",
   "metadata": {},
   "outputs": [
    {
     "name": "stdout",
     "output_type": "stream",
     "text": [
      "Read Only Array:  [0. 1. 0. 0. 0. 0. 0. 0. 0. 0.]\n"
     ]
    }
   ],
   "source": [
    "array13 = np.zeros(10)\n",
    "x.flags.writeable = False\n",
    "array13[1] = 1   # ValueError: assignment destination is read-only\n",
    "print(\"Read Only Array: \", (array13))"
   ]
  },
  {
   "cell_type": "markdown",
   "id": "8ea81f68",
   "metadata": {},
   "source": [
    "### Quiz 44: Consider a random 10x2 matrix representing cartesian coordinates, convert them to polar coordinates"
   ]
  },
  {
   "cell_type": "code",
   "execution_count": 256,
   "id": "92784f64",
   "metadata": {},
   "outputs": [
    {
     "name": "stdout",
     "output_type": "stream",
     "text": [
      "[0.92173735 0.95989679 0.35074401 1.06318199 0.19779621 0.26131632\n",
      " 0.6725045  0.83910874 0.61062873 0.38311656]\n",
      "[0.37872187 1.54010431 0.72957061 0.90215447 0.73925037 0.91613138\n",
      " 1.33877018 0.72683152 0.01776948 0.36933469]\n"
     ]
    }
   ],
   "source": [
    "z = np.random.random((10, 2))\n",
    "x, y = z[:, 0], z[:, 1]\n",
    "R = np.sqrt(x ** 2 + y ** 2)\n",
    "T = np.arctan2(y, x)\n",
    "print(R)\n",
    "print(T)"
   ]
  },
  {
   "cell_type": "markdown",
   "id": "69a87810",
   "metadata": {},
   "source": [
    "### Quiz 45: Create random vector of size 10 and replace the maximum value by 0 "
   ]
  },
  {
   "cell_type": "code",
   "execution_count": 258,
   "id": "99210500",
   "metadata": {},
   "outputs": [
    {
     "name": "stdout",
     "output_type": "stream",
     "text": [
      "Original array: [0.76520657 0.93909525 0.15548761 0.39242872 0.48947476 0.85758369\n",
      " 0.05963644 0.48757708 0.82976693 0.52296234]\n",
      "[0.76520657 0.         0.15548761 0.39242872 0.48947476 0.85758369\n",
      " 0.05963644 0.48757708 0.82976693 0.52296234]\n",
      "Maximum value replaced by 0: None\n"
     ]
    }
   ],
   "source": [
    "import numpy as np\n",
    "vector4 = np.random.random(10)\n",
    "print(\"Original array:\", (vector4))\n",
    "vector4[vector4.argmax()] = 0\n",
    "print(\"Maximum value replaced by 0:\", print (vector4))"
   ]
  },
  {
   "cell_type": "markdown",
   "id": "866984e5",
   "metadata": {},
   "source": [
    "### Quiz 46: Create a structured array with x and y coordinates covering the [0,1]x[0,1] area "
   ]
  },
  {
   "cell_type": "code",
   "execution_count": 261,
   "id": "02980814",
   "metadata": {},
   "outputs": [
    {
     "name": "stdout",
     "output_type": "stream",
     "text": [
      "[[(0.  , 0.  ) (0.25, 0.  ) (0.5 , 0.  ) (0.75, 0.  ) (1.  , 0.  )]\n",
      " [(0.  , 0.25) (0.25, 0.25) (0.5 , 0.25) (0.75, 0.25) (1.  , 0.25)]\n",
      " [(0.  , 0.5 ) (0.25, 0.5 ) (0.5 , 0.5 ) (0.75, 0.5 ) (1.  , 0.5 )]\n",
      " [(0.  , 0.75) (0.25, 0.75) (0.5 , 0.75) (0.75, 0.75) (1.  , 0.75)]\n",
      " [(0.  , 1.  ) (0.25, 1.  ) (0.5 , 1.  ) (0.75, 1.  ) (1.  , 1.  )]]\n"
     ]
    }
   ],
   "source": [
    "import numpy as np\n",
    "array14 = np.zeros((5, 5), [('x', float), ('y', float)])\n",
    "array14['x'], array14['y'] = np.meshgrid(np.linspace(0, 1, 5), np.linspace(0, 1, 5))\n",
    "print(array14)"
   ]
  },
  {
   "cell_type": "markdown",
   "id": "1855d184",
   "metadata": {},
   "source": [
    "### Quiz 47: Given two arrays, X and Y, construct the Cauchy matrix C (Cij =1/(xi - yj))"
   ]
  },
  {
   "cell_type": "code",
   "execution_count": 263,
   "id": "650c93b4",
   "metadata": {},
   "outputs": [
    {
     "data": {
      "text/plain": [
       "array([[-8.29428660e+06, -7.66855773e+05,  1.06125319e+05,\n",
       "        -1.38374082e+04, -1.46439109e+06],\n",
       "       [ 1.43138936e+03,  1.56456673e+06,  1.05086046e+05,\n",
       "        -1.96243029e+06, -1.38899595e+06],\n",
       "       [-2.29030046e+04,  8.83742987e+02, -3.52432395e+04,\n",
       "        -1.15288477e+05,  1.38107265e+08],\n",
       "       [ 7.35020516e+05, -1.79809384e+04, -1.68014463e+07,\n",
       "         2.12728004e+06,  2.44847621e+05],\n",
       "       [ 8.52732941e+02,  4.96787022e+07,  2.44250110e+08,\n",
       "        -1.42751396e+06,  2.05302015e+06]])"
      ]
     },
     "execution_count": 263,
     "metadata": {},
     "output_type": "execute_result"
    }
   ],
   "source": [
    "x = np.random.random((5, 5))\n",
    "y = np.random.random((5, 5))\n",
    "cm = 1 / (x - y)\n",
    "cm = 1 / np.subtract.outer(x, y)\n",
    "np.linalg.det(cm)"
   ]
  },
  {
   "cell_type": "markdown",
   "id": "691e8f28",
   "metadata": {},
   "source": [
    "### Quiz 48: Print the minimum and maximum representable value for each numpy scalar type "
   ]
  },
  {
   "cell_type": "markdown",
   "id": "d8c0ed0c",
   "metadata": {},
   "source": [
    "Here are the minimum and maximum representable values for each numpy scalar type:\n",
    "\n",
    "bool: minimum = False, maximum = True\n",
    "int8: minimum = -128, maximum = 127\n",
    "uint8: minimum = 0, maximum = 255\n",
    "int16: minimum = -32768, maximum = 32767\n",
    "uint16: minimum = 0, maximum = 65535\n",
    "int32: minimum = -2147483648, maximum = 2147483647\n",
    "uint32: minimum = 0, maximum = 4294967295\n",
    "int64: minimum = -9223372036854775808, maximum = 9223372036854775807\n",
    "uint64: minimum = 0, maximum = 18446744073709551615\n",
    "float16: minimum = -65504.0, maximum = 65504.0\n",
    "float32: minimum = -3.4028235e+38, maximum = 3.4028235e+38\n",
    "float64: minimum = -1.7976931348623157e+308, maximum = 1.7976931348623157e+308\n",
    "complex64: minimum = (-3.4028235e+38-3.4028235e+38j), maximum = (3.4028235e+38+3.4028235e+38j)\n",
    "complex128: minimum = (-1.7976931348623157e+308-1.7976931348623157e+308j), maximum = (1.7976931348623157e+308+1.7976931348623157e+308j)\n",
    "\n",
    "Note that the minimum and maximum values for floating point types are not exact due to the limitations of floating point arithmetic."
   ]
  },
  {
   "cell_type": "markdown",
   "id": "78f04f17",
   "metadata": {},
   "source": [
    "### Quiz 49: How to print all the values of an array?"
   ]
  },
  {
   "cell_type": "code",
   "execution_count": 270,
   "id": "12d53af0",
   "metadata": {},
   "outputs": [
    {
     "name": "stdout",
     "output_type": "stream",
     "text": [
      "1\n",
      "2\n",
      "3\n",
      "4\n",
      "5\n"
     ]
    }
   ],
   "source": [
    "#To print all the values of an array in Python, you can use a loop to iterate over each element and print it.\n",
    "\n",
    "import numpy as np\n",
    "\n",
    "# Create an example array\n",
    "array14 = np.array([1, 2, 3, 4, 5])\n",
    "\n",
    "# Print all the values of the array\n",
    "for value in array14:\n",
    "    print(value)"
   ]
  },
  {
   "cell_type": "markdown",
   "id": "fda9127b",
   "metadata": {},
   "source": [
    "### Quiz 50: How to find the closest value (to a given scalar) in a vector? "
   ]
  },
  {
   "cell_type": "code",
   "execution_count": 272,
   "id": "1b34bf55",
   "metadata": {},
   "outputs": [
    {
     "name": "stdout",
     "output_type": "stream",
     "text": [
      "Original array:\n",
      "[ 0  1  2  3  4  5  6  7  8  9 10 11 12 13 14 15 16 17 18 19 20 21 22 23\n",
      " 24 25 26 27 28 29 30 31 32 33 34 35 36 37 38 39 40 41 42 43 44 45 46 47\n",
      " 48 49 50 51 52 53 54 55 56 57 58 59 60 61 62 63 64 65 66 67 68 69 70 71\n",
      " 72 73 74 75 76 77 78 79 80 81 82 83 84 85 86 87 88 89 90 91 92 93 94 95\n",
      " 96 97 98 99]\n",
      "Value to compare:\n",
      "35.629006705303354\n",
      "36\n"
     ]
    }
   ],
   "source": [
    "import numpy as np\n",
    "array15 = np.arange(100)\n",
    "print(\"Original array:\")\n",
    "print(x)\n",
    "a = np.random.uniform(0,100)\n",
    "print(\"Value to compare:\")\n",
    "print(a)\n",
    "index = (np.abs(array15-a)).argmin()\n",
    "print(array15[index])"
   ]
  },
  {
   "cell_type": "markdown",
   "id": "cc6b4289",
   "metadata": {},
   "source": [
    "### Quiz 51:  Create a structured array representing a position (x,y) and a color (r,g,b) "
   ]
  },
  {
   "cell_type": "code",
   "execution_count": 279,
   "id": "c1bd9597",
   "metadata": {},
   "outputs": [
    {
     "name": "stdout",
     "output_type": "stream",
     "text": [
      "[((1. , 2. ), (255,   0,   0)) ((3.5, 4.5), (  0, 255,   0))\n",
      " ((6. , 7. ), (  0,   0, 255))]\n"
     ]
    }
   ],
   "source": [
    "#To create a structured array representing a position (x, y) and \n",
    "#a color (r, g, b), you can use the `numpy.dtype` \n",
    "#function to define the data types and names for each field. Here's an example:\n",
    "\n",
    "import numpy as np\n",
    "\n",
    "# Define the data types and names for each field\n",
    "dtype = np.dtype([('position', [('x', float), ('y', float)]),\n",
    "                 ('color', [('r', int), ('g', int), ('b', int)])])\n",
    "\n",
    "# Create an example structured array\n",
    "array16 = np.array([((1.0, 2.0), (255, 0, 0)),\n",
    "                ((3.5, 4.5), (0, 255, 0)),\n",
    "                ((6.0, 7.0), (0, 0, 255))], dtype=dtype)\n",
    "\n",
    "# Print the structured array\n",
    "print(array16)"
   ]
  },
  {
   "cell_type": "markdown",
   "id": "1825adc8",
   "metadata": {},
   "source": [
    "### Quiz 52: Consider a random vector with shape (100, 2) representing coordinates, find point by point distances "
   ]
  },
  {
   "cell_type": "code",
   "execution_count": 283,
   "id": "2a8a3fd6",
   "metadata": {},
   "outputs": [
    {
     "name": "stdout",
     "output_type": "stream",
     "text": [
      "[0.33253447 0.43287151 0.79731931 0.40524766 0.57151385 0.7548722\n",
      " 0.27702423 0.60591162 0.83026401 0.82931894 0.64789693 0.3160286\n",
      " 0.3428311  0.50251525 0.45486016 0.51536583 0.52004615 0.6951081\n",
      " 0.5503586  0.2394057  0.33728177 0.49308437 0.04171154 0.44744392\n",
      " 0.39846554 0.48247953 0.09477425 0.9045143  0.50519166 0.72559242\n",
      " 0.30339761 0.5342774  0.50698951 0.41611168 0.30671623 0.54067322\n",
      " 0.33425161 0.67665228 0.67548487 0.3835762  0.62264175 0.74088137\n",
      " 0.45058945 0.40784332 0.82092251 0.2023214  0.50650689 0.28451526\n",
      " 0.88970485 0.69106797 0.43865971 0.39732254 0.21883899 0.57198363\n",
      " 0.58325565 0.62901004 0.8570607  0.81334843 0.80642954 0.5401138\n",
      " 0.59672513 0.58727691 0.35300928 0.19759603 0.36271722 0.64889216\n",
      " 0.35433215 0.34018656 0.6303254  0.43983888 0.06967555 0.46691008\n",
      " 0.18336031 0.20638381 0.34632066 0.81026086 0.19674054 0.72391867\n",
      " 0.23137819 0.65568826 0.51331313 0.23689162 0.16212674 0.65966816\n",
      " 0.58737407 0.72981948 0.27998007 0.32848628 0.68879001 0.46497588\n",
      " 0.56205279 0.24840844 0.26250191 0.77466689 0.45321877 0.2078069\n",
      " 0.12272003 0.59805344 0.62028038]\n"
     ]
    }
   ],
   "source": [
    "import numpy as np\n",
    "\n",
    "from scipy.spatial.distance import cdist\n",
    "\n",
    "# Create an example random vector with shape (100,2)\n",
    "coords = np.random.rand(100, 2)\n",
    "\n",
    "# Calculate the pairwise distances between all points\n",
    "distances = cdist(coords, coords)\n",
    "\n",
    "import numpy as np\n",
    "\n",
    "# Create an example random vector with shape (100,2)\n",
    "coords = np.random.rand(100, 2)\n",
    "\n",
    "# Calculate the pairwise distances between adjacent points\n",
    "deltas = np.diff(coords, axis=0)\n",
    "distances = np.linalg.norm(deltas, axis=1)\n",
    "\n",
    "# Print the resulting distances array\n",
    "print(distances)"
   ]
  },
  {
   "cell_type": "markdown",
   "id": "e2fa418a",
   "metadata": {},
   "source": [
    "### Quiz 53: How to convert a float (32 bits) array into an integer (32 bits) in place?"
   ]
  },
  {
   "cell_type": "code",
   "execution_count": 287,
   "id": "2e450b7b",
   "metadata": {},
   "outputs": [
    {
     "name": "stdout",
     "output_type": "stream",
     "text": [
      "[1 3 5]\n"
     ]
    }
   ],
   "source": [
    "from numpy  import *\n",
    "\n",
    "float_data_list = [1.2, 3.5, 5.1]\n",
    "\n",
    "matrice = array(float_data_list, dtype ='int32' ) # define dtype\n",
    "print (matrice)"
   ]
  },
  {
   "cell_type": "markdown",
   "id": "43ca5ec2",
   "metadata": {},
   "source": [
    "### Quiz 54: How to read the following file?\n",
    "\n",
    "1, 2, 3, 4, 5\n",
    "\n",
    "6,  ,  , 7, 8\n",
    "\n",
    " ,  , 9,10,11 \n",
    " \n",
    " \n",
    " It will be read as follows\n",
    " \n",
    " [[ 1.  2.  3.  4.  5.]\n",
    " \n",
    " [ 6. nan nan  7.  8.]\n",
    " \n",
    " [nan nan  9. 10. 11.]]"
   ]
  },
  {
   "cell_type": "markdown",
   "id": "49cd577f",
   "metadata": {},
   "source": [
    "### Quiz 55: What is the equivalent of enumerate for numpy arrays? "
   ]
  },
  {
   "cell_type": "code",
   "execution_count": 297,
   "id": "7464ed8d",
   "metadata": {},
   "outputs": [
    {
     "name": "stdout",
     "output_type": "stream",
     "text": [
      "(0, 0) 0\n",
      "(0, 1) 1\n",
      "(0, 2) 2\n",
      "(1, 0) 3\n",
      "(1, 1) 4\n",
      "(1, 2) 5\n",
      "(2, 0) 6\n",
      "(2, 1) 7\n",
      "(2, 2) 8\n",
      "(0, 0) 0\n",
      "(0, 1) 1\n",
      "(0, 2) 2\n",
      "(1, 0) 3\n",
      "(1, 1) 4\n",
      "(1, 2) 5\n",
      "(2, 0) 6\n",
      "(2, 1) 7\n",
      "(2, 2) 8\n"
     ]
    }
   ],
   "source": [
    "array17 = np.arange(9).reshape(3,3)\n",
    "for index, value in np.ndenumerate(array17):\n",
    "    print(index, value)\n",
    "for index in np.ndindex(array17.shape):\n",
    "    print(index, array17[index])"
   ]
  },
  {
   "cell_type": "markdown",
   "id": "6d4d1fb6",
   "metadata": {},
   "source": [
    "### Quiz 56:  Generate a generic 2D Gaussian-like array "
   ]
  },
  {
   "cell_type": "code",
   "execution_count": 298,
   "id": "b0c1d7a6",
   "metadata": {},
   "outputs": [
    {
     "name": "stdout",
     "output_type": "stream",
     "text": [
      "[[0.36787944 0.44822088 0.51979489 0.57375342 0.60279818 0.60279818\n",
      "  0.57375342 0.51979489 0.44822088 0.36787944]\n",
      " [0.44822088 0.54610814 0.63331324 0.69905581 0.73444367 0.73444367\n",
      "  0.69905581 0.63331324 0.54610814 0.44822088]\n",
      " [0.51979489 0.63331324 0.73444367 0.81068432 0.85172308 0.85172308\n",
      "  0.81068432 0.73444367 0.63331324 0.51979489]\n",
      " [0.57375342 0.69905581 0.81068432 0.89483932 0.9401382  0.9401382\n",
      "  0.89483932 0.81068432 0.69905581 0.57375342]\n",
      " [0.60279818 0.73444367 0.85172308 0.9401382  0.98773022 0.98773022\n",
      "  0.9401382  0.85172308 0.73444367 0.60279818]\n",
      " [0.60279818 0.73444367 0.85172308 0.9401382  0.98773022 0.98773022\n",
      "  0.9401382  0.85172308 0.73444367 0.60279818]\n",
      " [0.57375342 0.69905581 0.81068432 0.89483932 0.9401382  0.9401382\n",
      "  0.89483932 0.81068432 0.69905581 0.57375342]\n",
      " [0.51979489 0.63331324 0.73444367 0.81068432 0.85172308 0.85172308\n",
      "  0.81068432 0.73444367 0.63331324 0.51979489]\n",
      " [0.44822088 0.54610814 0.63331324 0.69905581 0.73444367 0.73444367\n",
      "  0.69905581 0.63331324 0.54610814 0.44822088]\n",
      " [0.36787944 0.44822088 0.51979489 0.57375342 0.60279818 0.60279818\n",
      "  0.57375342 0.51979489 0.44822088 0.36787944]]\n"
     ]
    }
   ],
   "source": [
    "X, Y = np.meshgrid(np.linspace(-1,1,10), np.linspace(-1,1,10))\n",
    "D = np.sqrt(X*X+Y*Y)\n",
    "sigma, mu = 1.0, 0.0\n",
    "G = np.exp(-( (D-mu)**2 / ( 2.0 * sigma**2 ) ) )\n",
    "print(G)"
   ]
  },
  {
   "cell_type": "markdown",
   "id": "04792283",
   "metadata": {},
   "source": [
    "### Quiz 57: How to randomly place p elements in a 2D array?  "
   ]
  },
  {
   "cell_type": "code",
   "execution_count": 300,
   "id": "1273c4cf",
   "metadata": {},
   "outputs": [
    {
     "name": "stdout",
     "output_type": "stream",
     "text": [
      "[[0. 0. 0. 0. 0. 0. 1. 0. 0. 0.]\n",
      " [0. 0. 0. 0. 0. 0. 0. 0. 0. 0.]\n",
      " [0. 0. 0. 0. 1. 0. 0. 0. 0. 0.]\n",
      " [0. 0. 0. 0. 0. 0. 0. 0. 0. 0.]\n",
      " [0. 0. 0. 0. 0. 0. 0. 0. 0. 0.]\n",
      " [0. 0. 0. 0. 0. 0. 0. 0. 0. 0.]\n",
      " [0. 0. 0. 0. 0. 0. 0. 0. 0. 0.]\n",
      " [0. 0. 0. 0. 0. 0. 0. 0. 0. 0.]\n",
      " [0. 0. 0. 0. 0. 0. 0. 0. 0. 0.]\n",
      " [0. 0. 0. 0. 0. 1. 0. 0. 0. 0.]]\n"
     ]
    }
   ],
   "source": [
    "import numpy as np\n",
    "n = 10\n",
    "p = 3\n",
    "array18 = np.zeros((n,n))\n",
    "np.put(array18, np.random.choice(range(n*n), p, replace=False),1)\n",
    "print(array18)"
   ]
  },
  {
   "cell_type": "markdown",
   "id": "ee31d3be",
   "metadata": {},
   "source": [
    "### Quiz 58: Subtract the mean of each row of a matrix "
   ]
  },
  {
   "cell_type": "code",
   "execution_count": 304,
   "id": "f2814f19",
   "metadata": {},
   "outputs": [
    {
     "name": "stdout",
     "output_type": "stream",
     "text": [
      "[[-0.41790352  0.39098263 -0.29392489 -0.32388686 -0.18288209  0.16523552\n",
      "   0.02369946  0.18343993  0.17972692  0.27551291]\n",
      " [ 0.28182002 -0.30443237 -0.30271376 -0.48359588  0.22649599 -0.07416779\n",
      "   0.20410501  0.29134384  0.29808116 -0.13693622]\n",
      " [ 0.06511669 -0.36412485  0.1014824   0.072855    0.37135894 -0.08134384\n",
      "  -0.43193971  0.06727797  0.44793041 -0.24861301]\n",
      " [-0.35595281  0.40170946  0.37236952 -0.43490692  0.31594964 -0.17576696\n",
      "  -0.26389217  0.21967911 -0.30759035  0.22840149]\n",
      " [ 0.20824944  0.12218819 -0.27468383 -0.29960233 -0.08982748  0.10001923\n",
      "   0.04848351  0.00466818 -0.0392642   0.2197693 ]]\n"
     ]
    }
   ],
   "source": [
    "import numpy as np\n",
    "X = np.random.rand(5, 10)\n",
    "\n",
    "Y = X - X.mean(axis=1, keepdims=True)\n",
    "\n",
    "print(Y)"
   ]
  },
  {
   "cell_type": "markdown",
   "id": "b1dccb96",
   "metadata": {},
   "source": [
    "### Quiz 59: How to sort an array by the nth column? "
   ]
  },
  {
   "cell_type": "code",
   "execution_count": 305,
   "id": "bf3d9807",
   "metadata": {},
   "outputs": [
    {
     "name": "stdout",
     "output_type": "stream",
     "text": [
      "[[3 0 6]\n",
      " [2 0 6]\n",
      " [6 4 8]]\n",
      "[[3 0 6]\n",
      " [2 0 6]\n",
      " [6 4 8]]\n"
     ]
    }
   ],
   "source": [
    "import numpy as np\n",
    "array19 = np.random.randint(0,10,(3,3))\n",
    "print(array19)\n",
    "print(array19[array19[:,1].argsort()])"
   ]
  },
  {
   "cell_type": "markdown",
   "id": "c387a7d2",
   "metadata": {},
   "source": [
    "### Quiz 60: How to tell if a given 2D array has null columns?"
   ]
  },
  {
   "cell_type": "code",
   "execution_count": 307,
   "id": "5d1d5944",
   "metadata": {},
   "outputs": [
    {
     "name": "stdout",
     "output_type": "stream",
     "text": [
      "True\n",
      "[False False  True]\n"
     ]
    }
   ],
   "source": [
    "import numpy as np\n",
    "\n",
    "array20 = np.random.randint(0,3,(3,10))\n",
    "print((~array20.any(axis=0)).any())\n",
    "\n",
    "# null : np.nan\n",
    "array20=np.array([\n",
    "    [0,1,np.nan],\n",
    "    [1,2,np.nan],\n",
    "    [4,5,np.nan]\n",
    "])\n",
    "print(np.isnan(array20).all(axis=0))"
   ]
  },
  {
   "cell_type": "markdown",
   "id": "e2d46681",
   "metadata": {},
   "source": [
    "### Quiz 61: Find the nearest value from a given value in an array "
   ]
  },
  {
   "cell_type": "code",
   "execution_count": 308,
   "id": "9308ba84",
   "metadata": {},
   "outputs": [
    {
     "name": "stdout",
     "output_type": "stream",
     "text": [
      "0.5690794196056335\n"
     ]
    }
   ],
   "source": [
    "import numpy as np\n",
    "\n",
    "array21 = np.random.uniform(0,1,10)\n",
    "n = 0.5\n",
    "m = array21.flat[np.abs(array21 - n).argmin()]\n",
    "print(m)"
   ]
  },
  {
   "cell_type": "markdown",
   "id": "9a1ca9b4",
   "metadata": {},
   "source": [
    "### Quiz 62: Considering two arrays with shape (1,3) and (3,1), how to compute their sum using an iterator?"
   ]
  },
  {
   "cell_type": "code",
   "execution_count": 309,
   "id": "ecf5747e",
   "metadata": {},
   "outputs": [
    {
     "name": "stdout",
     "output_type": "stream",
     "text": [
      "[[0 1 2]\n",
      " [1 2 3]\n",
      " [2 3 4]]\n"
     ]
    }
   ],
   "source": [
    "import numpy as np\n",
    "array22 = np.arange(3).reshape(3,1)\n",
    "array23 = np.arange(3).reshape(1,3)\n",
    "it = np.nditer([array22, array23, None])\n",
    "for x,y,z in it: z[...] = x + y\n",
    "print(it.operands[2])"
   ]
  },
  {
   "cell_type": "markdown",
   "id": "e41b479f",
   "metadata": {},
   "source": [
    "### Quiz 63: Create an array class that has a name attribute "
   ]
  },
  {
   "cell_type": "code",
   "execution_count": 317,
   "id": "3af98823",
   "metadata": {},
   "outputs": [
    {
     "name": "stdout",
     "output_type": "stream",
     "text": [
      "MyArray\n"
     ]
    }
   ],
   "source": [
    "import numpy as np\n",
    "\n",
    "class NamedArray(np.ndarray):\n",
    "    def __new__(cls, input_array, name=None):\n",
    "        obj = np.asarray(input_array).view(cls)\n",
    "        obj.name = name\n",
    "        return obj\n",
    "    \n",
    "    def __array_finalize__(self, obj):\n",
    "        if obj is None: return\n",
    "        self.name = getattr(obj, 'name', None)\n",
    "\n",
    "# Create an example NamedArray\n",
    "array24 = NamedArray([1, 2, 3, 4, 5], name='MyArray')\n",
    "\n",
    "# Access the name attribute\n",
    "print(array24. name)\n"
   ]
  },
  {
   "cell_type": "markdown",
   "id": "eaa832d2",
   "metadata": {},
   "source": [
    "### Quiz 64: Consider a given vector, how to add 1 to each element indexed by a second vector (be careful with repeated indices)? "
   ]
  },
  {
   "cell_type": "code",
   "execution_count": 318,
   "id": "92966b9c",
   "metadata": {},
   "outputs": [
    {
     "name": "stdout",
     "output_type": "stream",
     "text": [
      "[1. 1. 1. 1. 1. 1. 1. 1. 1. 1.]\n",
      "[3. 3. 4. 4. 5. 2. 3. 3. 2. 1.]\n"
     ]
    }
   ],
   "source": [
    "import numpy as np\n",
    "vector5 = np.ones(10)\n",
    "I = np.random.randint(0,len(vector5),20)\n",
    "Z += np.bincount(I, minlength=len(vector5))\n",
    "print(vector5)\n",
    "np.add.at(vector5, I, 1)\n",
    "print(vector5)"
   ]
  },
  {
   "cell_type": "markdown",
   "id": "e33c9527",
   "metadata": {},
   "source": [
    "### Quiz 65: How to accumulate elements of a vector (X) to an array (F) based on an index list (I)? "
   ]
  },
  {
   "cell_type": "code",
   "execution_count": 319,
   "id": "2e825834",
   "metadata": {},
   "outputs": [
    {
     "name": "stdout",
     "output_type": "stream",
     "text": [
      "[0. 7. 0. 6. 5. 0. 0. 0. 0. 3.]\n"
     ]
    }
   ],
   "source": [
    "import numpy as np\n",
    "X = [1,2,3,4,5,6]\n",
    "I = [1,3,9,3,4,1]\n",
    "F = np.bincount(I,X)\n",
    "print(F)"
   ]
  },
  {
   "cell_type": "markdown",
   "id": "a4245d4f",
   "metadata": {},
   "source": [
    "### Quiz 66: Considering a (w,h,3) image of (dtype=ubyte), compute the number of unique colors "
   ]
  },
  {
   "cell_type": "code",
   "execution_count": 321,
   "id": "3195ad77",
   "metadata": {},
   "outputs": [
    {
     "name": "stdout",
     "output_type": "stream",
     "text": [
      "64\n",
      "64\n"
     ]
    }
   ],
   "source": [
    "w, h = 256, 256\n",
    "I = np.random.randint(0, 4, (h, w, 3)).astype(np.ubyte)\n",
    "colors = np.unique(I.reshape(-1, 3), axis=0)\n",
    "n = len(colors)\n",
    "print(n)\n",
    "\n",
    "w, h = 256, 256\n",
    "I = np.random.randint(0,4,(h,w,3), dtype=np.uint8)\n",
    "# View each pixel as a single 24-bit integer, rather than three 8-bit bytes\n",
    "I24 = np.dot(I.astype(np.uint32),[1,256,65536])\n",
    "\n",
    "n = len(np.unique(I24))\n",
    "print(n)"
   ]
  },
  {
   "cell_type": "markdown",
   "id": "9048baf5",
   "metadata": {},
   "source": [
    "### Quiz 67: Considering a four dimensions array, how to get sum over the last two axis at once "
   ]
  },
  {
   "cell_type": "code",
   "execution_count": 322,
   "id": "d68c01ee",
   "metadata": {},
   "outputs": [
    {
     "name": "stdout",
     "output_type": "stream",
     "text": [
      "[[38 74 58 50]\n",
      " [51 59 56 54]\n",
      " [57 40 55 49]]\n",
      "[[38 74 58 50]\n",
      " [51 59 56 54]\n",
      " [57 40 55 49]]\n"
     ]
    }
   ],
   "source": [
    "import numpy as np\n",
    "array25 = np.random.randint(0,10,(3,4,3,4))\n",
    "# solution by passing a tuple of axes (introduced in numpy 1.7.0)\n",
    "sum = array25.sum(axis=(-2,-1))\n",
    "print(sum)\n",
    "# solution by flattening the last two dimensions into one\n",
    "# (useful for functions that don't accept tuples for axis argument)\n",
    "sum = array25.reshape(array25.shape[:-2] + (-1,)).sum(axis=-1)\n",
    "print(sum)"
   ]
  },
  {
   "cell_type": "markdown",
   "id": "d7fb6901",
   "metadata": {},
   "source": [
    "### Quiz 68: Considering a one-dimensional vector D, how to compute means of subsets of D using a vector S of same size describing subset indices?"
   ]
  },
  {
   "cell_type": "code",
   "execution_count": 324,
   "id": "d299e1e5",
   "metadata": {},
   "outputs": [
    {
     "name": "stdout",
     "output_type": "stream",
     "text": [
      "[0.45273176 0.35419173 0.57587125 0.5178094  0.47457242 0.61590684\n",
      " 0.30564429 0.5484933  0.59811248 0.58108665]\n",
      "0    0.452732\n",
      "1    0.354192\n",
      "2    0.575871\n",
      "3    0.517809\n",
      "4    0.474572\n",
      "5    0.615907\n",
      "6    0.305644\n",
      "7    0.548493\n",
      "8    0.598112\n",
      "9    0.581087\n",
      "dtype: float64\n"
     ]
    }
   ],
   "source": [
    "import numpy as np\n",
    "import pandas as pd\n",
    "\n",
    "D = np.random.uniform(0,1,100)\n",
    "S = np.random.randint(0,10,100)\n",
    "D_sums = np.bincount(S, weights=D)\n",
    "D_counts = np.bincount(S)\n",
    "D_means = D_sums / D_counts\n",
    "print(D_means)\n",
    "\n",
    "print(pd.Series(D).groupby(S).mean())"
   ]
  },
  {
   "cell_type": "markdown",
   "id": "21cd9024",
   "metadata": {},
   "source": [
    "### Quiz 69: How to get the diagonal of a dot product?"
   ]
  },
  {
   "cell_type": "code",
   "execution_count": 335,
   "id": "1d947e9b",
   "metadata": {},
   "outputs": [
    {
     "data": {
      "text/plain": [
       "array([0.82872807, 1.19974471, 0.27808441, 1.06043833, 0.8772623 ])"
      ]
     },
     "execution_count": 335,
     "metadata": {},
     "output_type": "execute_result"
    }
   ],
   "source": [
    "import numpy as np\n",
    "\n",
    "A = np.random.uniform(0,1,(5,5))\n",
    "B = np.random.uniform(0,1,(5,5))\n",
    "\n",
    "np.diag(np.dot(A, B))"
   ]
  },
  {
   "cell_type": "markdown",
   "id": "3c38e4c7",
   "metadata": {},
   "source": [
    "### Quiz 70: Consider the vector [1, 2, 3, 4, 5], how to build a new vector with 3 consecutive zeros interleaved between each value? "
   ]
  },
  {
   "cell_type": "code",
   "execution_count": 336,
   "id": "025fcad8",
   "metadata": {},
   "outputs": [
    {
     "name": "stdout",
     "output_type": "stream",
     "text": [
      "[1. 0. 0. 0. 2. 0. 0. 0. 3. 0. 0. 0. 4. 0. 0. 0. 5.]\n"
     ]
    }
   ],
   "source": [
    "import numpy as np\n",
    "Z = np.array([1,2,3,4,5])\n",
    "nz = 3\n",
    "Z0 = np.zeros(len(Z) + (len(Z)-1)*(nz))\n",
    "Z0[::nz+1] = Z\n",
    "print(Z0)"
   ]
  },
  {
   "cell_type": "markdown",
   "id": "753a48de",
   "metadata": {},
   "source": [
    "### Quiz 71: Consider an array of dimension (5,5,3), how to mulitply it by an array with dimensions (5,5)? "
   ]
  },
  {
   "cell_type": "code",
   "execution_count": 337,
   "id": "16f63e78",
   "metadata": {},
   "outputs": [
    {
     "name": "stdout",
     "output_type": "stream",
     "text": [
      "[[[2. 2. 2.]\n",
      "  [2. 2. 2.]\n",
      "  [2. 2. 2.]\n",
      "  [2. 2. 2.]\n",
      "  [2. 2. 2.]]\n",
      "\n",
      " [[2. 2. 2.]\n",
      "  [2. 2. 2.]\n",
      "  [2. 2. 2.]\n",
      "  [2. 2. 2.]\n",
      "  [2. 2. 2.]]\n",
      "\n",
      " [[2. 2. 2.]\n",
      "  [2. 2. 2.]\n",
      "  [2. 2. 2.]\n",
      "  [2. 2. 2.]\n",
      "  [2. 2. 2.]]\n",
      "\n",
      " [[2. 2. 2.]\n",
      "  [2. 2. 2.]\n",
      "  [2. 2. 2.]\n",
      "  [2. 2. 2.]\n",
      "  [2. 2. 2.]]\n",
      "\n",
      " [[2. 2. 2.]\n",
      "  [2. 2. 2.]\n",
      "  [2. 2. 2.]\n",
      "  [2. 2. 2.]\n",
      "  [2. 2. 2.]]]\n"
     ]
    }
   ],
   "source": [
    "import numpy as np\n",
    "array26 = np.ones((5,5,3))\n",
    "array27 = 2*np.ones((5,5))\n",
    "print(array26 * array27[:,:,None])"
   ]
  },
  {
   "cell_type": "markdown",
   "id": "312469b9",
   "metadata": {},
   "source": [
    "### Quiz 72: How to swap two rows of an array? "
   ]
  },
  {
   "cell_type": "code",
   "execution_count": 340,
   "id": "833a20d3",
   "metadata": {},
   "outputs": [
    {
     "name": "stdout",
     "output_type": "stream",
     "text": [
      "[[ 5  6  7  8  9]\n",
      " [ 0  1  2  3  4]\n",
      " [10 11 12 13 14]\n",
      " [15 16 17 18 19]\n",
      " [20 21 22 23 24]]\n"
     ]
    }
   ],
   "source": [
    "import numpy as np\n",
    "array28 = np.arange(25).reshape(5,5)\n",
    "array28[[0,1]] = array28[[1,0]]\n",
    "print(array28)"
   ]
  },
  {
   "cell_type": "markdown",
   "id": "13a05295",
   "metadata": {},
   "source": [
    "### Quiz 73: Consider a set of 10 triplets describing 10 triangles (with shared vertices), find the set of unique line segments composing all the triangles "
   ]
  },
  {
   "cell_type": "code",
   "execution_count": 341,
   "id": "f1b2661a",
   "metadata": {},
   "outputs": [
    {
     "name": "stdout",
     "output_type": "stream",
     "text": [
      "[( 0,  4) ( 0, 24) ( 4, 24) (13, 84) (13, 88) (18, 39) (18, 61) (18, 64)\n",
      " (18, 98) (33, 36) (33, 74) (35, 83) (35, 85) (36, 74) (37, 42) (37, 85)\n",
      " (39, 98) (42, 85) (45, 62) (45, 98) (61, 64) (62, 98) (64, 81) (64, 97)\n",
      " (68, 90) (68, 98) (81, 97) (83, 85) (84, 88) (90, 98)]\n"
     ]
    }
   ],
   "source": [
    "import numpy as np\n",
    "faces = np.random.randint(0,100,(10,3))\n",
    "F = np.roll(faces.repeat(2,axis=1),-1,axis=1)\n",
    "F = F.reshape(len(F)*3,2)\n",
    "F = np.sort(F,axis=1)\n",
    "G = F.view( dtype=[('p0',F.dtype),('p1',F.dtype)] )\n",
    "G = np.unique(G)\n",
    "print(G)"
   ]
  },
  {
   "cell_type": "markdown",
   "id": "c04d528a",
   "metadata": {},
   "source": [
    "### Quiz 74: Given an array C that is a bincount, how to produce an array A such that np.bincount(A) == C? "
   ]
  },
  {
   "cell_type": "code",
   "execution_count": 342,
   "id": "8fab0615",
   "metadata": {},
   "outputs": [
    {
     "name": "stdout",
     "output_type": "stream",
     "text": [
      "[1 1 2 3 4 4 6]\n"
     ]
    }
   ],
   "source": [
    "import numpy as np\n",
    "C = np.bincount([1,1,2,3,4,4,6])\n",
    "A = np.repeat(np.arange(len(C)), C)\n",
    "print(A)"
   ]
  },
  {
   "cell_type": "markdown",
   "id": "d40ea8e1",
   "metadata": {},
   "source": [
    "### Quiz 75: How to compute averages using a sliding window over an array? "
   ]
  },
  {
   "cell_type": "code",
   "execution_count": 343,
   "id": "0cc99e03",
   "metadata": {},
   "outputs": [
    {
     "name": "stdout",
     "output_type": "stream",
     "text": [
      "[2. 3. 4.]\n",
      "[ 1.  2.  3.  4.  5.  6.  7.  8.  9. 10. 11. 12. 13. 14. 15. 16. 17. 18.]\n"
     ]
    }
   ],
   "source": [
    "def moving_average(a, n=3) :\n",
    "    ret = np.cumsum(a, dtype=float)\n",
    "    ret[n:] = ret[n:] - ret[:-n]\n",
    "    return ret[n - 1:] / n\n",
    "array29 = np.arange(20)\n",
    "print(moving_average(Z, n=3))\n",
    "\n",
    "from numpy.lib.stride_tricks import sliding_window_view\n",
    "\n",
    "array29 = np.arange(20)\n",
    "print(sliding_window_view(array29, window_shape=3).mean(axis=-1))\n"
   ]
  },
  {
   "cell_type": "markdown",
   "id": "620524fe",
   "metadata": {},
   "source": [
    "### Quiz 76: Consider a one-dimensional array Z, build a two-dimensional array whose first row is (Z[0],Z[1],Z[2]) and each subsequent row is shifted by 1 (last row should be (Z[-3],Z[-2],Z[-1])"
   ]
  },
  {
   "cell_type": "code",
   "execution_count": 344,
   "id": "1494d687",
   "metadata": {},
   "outputs": [
    {
     "name": "stdout",
     "output_type": "stream",
     "text": [
      "[[0 1 2]\n",
      " [1 2 3]\n",
      " [2 3 4]\n",
      " [3 4 5]\n",
      " [4 5 6]\n",
      " [5 6 7]\n",
      " [6 7 8]\n",
      " [7 8 9]]\n"
     ]
    }
   ],
   "source": [
    "from numpy.lib import stride_tricks\n",
    "\n",
    "def rolling(a, window):\n",
    "    shape = (a.size - window + 1, window)\n",
    "    strides = (a.strides[0], a.strides[0])\n",
    "    return stride_tricks.as_strided(a, shape=shape, strides=strides)\n",
    "Z = rolling(np.arange(10), 3)\n",
    "print(Z)"
   ]
  },
  {
   "cell_type": "markdown",
   "id": "6bd01fdf",
   "metadata": {},
   "source": [
    "### Quiz 77: How to negate a boolean, or to change the sign of a float inplace? "
   ]
  },
  {
   "cell_type": "code",
   "execution_count": 345,
   "id": "b6089a52",
   "metadata": {},
   "outputs": [
    {
     "data": {
      "text/plain": [
       "array([-0.36662506,  0.46117117,  0.17674238,  0.01840489, -0.88349412,\n",
       "       -0.39718989,  0.08967133, -0.15646221, -0.03479724, -0.77414631,\n",
       "        0.49412452,  0.72738168,  0.46095952, -0.85191135,  0.1814234 ,\n",
       "        0.10120001,  0.90274322, -0.72969906,  0.26498992, -0.70580905,\n",
       "       -0.19658044, -0.30555221,  0.42583936, -0.33691762, -0.6198395 ,\n",
       "       -0.76043991,  0.55874269, -0.64709582, -0.15750502, -0.47025267,\n",
       "        0.7845259 ,  0.93246218, -0.23728018,  0.05220111,  0.3184704 ,\n",
       "       -0.97943022, -0.52952828,  0.64941383, -0.40372335, -0.37848146,\n",
       "        0.39805462, -0.17867912,  0.57018675, -0.23882137, -0.38864866,\n",
       "       -0.09542671,  0.57405908,  0.09741601, -0.08091588,  0.91337653,\n",
       "       -0.53302195, -0.49878183,  0.39517443,  0.89421489,  0.14456346,\n",
       "       -0.07999518, -0.16859701,  0.9135971 , -0.72982442, -0.26079605,\n",
       "        0.41185387,  0.18048439,  0.17472156,  0.57527895,  0.42806216,\n",
       "       -0.05624081, -0.22727829,  0.47655947, -0.75615257,  0.44809604,\n",
       "       -0.66709732,  0.90746429,  0.80949144,  0.47226187,  0.21922399,\n",
       "       -0.83194391, -0.05664424, -0.23380105, -0.16200905, -0.20783408,\n",
       "        0.52274463, -0.98450295,  0.78638303, -0.07637309, -0.23976885,\n",
       "       -0.38501718, -0.62187092,  0.64566544, -0.34734692, -0.8696714 ,\n",
       "       -0.35005435,  0.15880812, -0.0971717 , -0.46936345, -0.51684426,\n",
       "       -0.20400703,  0.88746158, -0.99049473, -0.81523585,  0.28025726])"
      ]
     },
     "execution_count": 345,
     "metadata": {},
     "output_type": "execute_result"
    }
   ],
   "source": [
    "Z = np.random.randint(0,2,100)\n",
    "np.logical_not(Z, out=Z)\n",
    "\n",
    "Z = np.random.uniform(-1.0,1.0,100)\n",
    "np.negative(Z, out=Z)"
   ]
  },
  {
   "cell_type": "markdown",
   "id": "de4a25eb",
   "metadata": {},
   "source": [
    "### Quiz 78: Consider 2 sets of points P0,P1 describing lines (2d) and a point p, how to compute distance from p to each line i (P0[i],P1[i])? "
   ]
  },
  {
   "cell_type": "code",
   "execution_count": 346,
   "id": "e252d50b",
   "metadata": {},
   "outputs": [
    {
     "name": "stdout",
     "output_type": "stream",
     "text": [
      "[ 5.40161446  2.20333549  9.99185694 14.02831102  5.93452456  7.84616071\n",
      "  9.94401762 10.42001932  6.61853884  7.34813925]\n"
     ]
    }
   ],
   "source": [
    "import numpy as np\n",
    "def distance(P0, P1, p):\n",
    "    T = P1 - P0\n",
    "    L = (T**2).sum(axis=1)\n",
    "    U = -((P0[:,0]-p[...,0])*T[:,0] + (P0[:,1]-p[...,1])*T[:,1]) / L\n",
    "    U = U.reshape(len(U),1)\n",
    "    D = P0 + U*T - p\n",
    "    return np.sqrt((D**2).sum(axis=1))\n",
    "\n",
    "P0 = np.random.uniform(-10,10,(10,2))\n",
    "P1 = np.random.uniform(-10,10,(10,2))\n",
    "p  = np.random.uniform(-10,10,( 1,2))\n",
    "print(distance(P0, P1, p))"
   ]
  },
  {
   "cell_type": "markdown",
   "id": "80158f1c",
   "metadata": {},
   "source": [
    "### Quiz 79: Consider 2 sets of points P0,P1 describing lines (2d) and a set of points P, how to compute distance from each point j (P[j]) to each line i (P0[i],P1[i])? "
   ]
  },
  {
   "cell_type": "code",
   "execution_count": 347,
   "id": "322321af",
   "metadata": {},
   "outputs": [
    {
     "name": "stdout",
     "output_type": "stream",
     "text": [
      "[[ 7.93816434  1.83619223  4.03012754  3.78092235  7.08644625  8.45072165\n",
      "   2.65363429  1.20591059  0.68843196  3.5583797 ]\n",
      " [10.19642524  5.87766161  1.29945515  1.80762247  1.81665916  0.77060559\n",
      "   2.11197847  6.38300984  0.39577966  5.3324091 ]\n",
      " [ 7.75998654  5.86121286  4.5112066   6.19078352 12.34819395 12.44761405\n",
      "   4.48837907  6.41270048  0.35454797  9.01818009]\n",
      " [ 6.49316813  8.54915112 18.1695877  14.95354455  7.15416747 15.26549415\n",
      "  14.9263366   7.73201668 15.84617911  1.06673925]\n",
      " [ 6.3248651   7.47129776  5.99058431  7.84502999 13.61274641 14.06079813\n",
      "   6.11127236  6.79513192  0.85870385 10.08312419]\n",
      " [13.6652482   8.48443604  2.17643321  5.06555302  3.15839134  1.85323809\n",
      "   5.48601352  5.57424414  2.93772698  6.1168134 ]\n",
      " [ 5.82890775  0.21412664  5.89432194  3.91361518  3.62226394  6.86294173\n",
      "   3.33586409  3.61165319  3.71618271  0.43152652]\n",
      " [ 8.43838085  0.05788942  3.41085263  2.43616843  4.86690919  6.56549526\n",
      "   1.51885421  0.72517258  0.68146837  1.33076889]\n",
      " [15.65775324  2.27485986  3.57377675  2.49530115  6.35604362  4.28908495\n",
      "   4.13336379  5.28537759  7.25741451  4.16672476]\n",
      " [ 3.54312386  0.77632131  8.09491717  5.39447426  2.96429178  7.44499777\n",
      "   5.06579295  5.70318061  6.27338134  1.52406726]]\n"
     ]
    }
   ],
   "source": [
    "P0 = np.random.uniform(-10, 10, (10,2))\n",
    "P1 = np.random.uniform(-10,10,(10,2))\n",
    "p = np.random.uniform(-10, 10, (10,2))\n",
    "print(np.array([distance(P0,P1,p_i) for p_i in p]))"
   ]
  },
  {
   "cell_type": "markdown",
   "id": "9d59ef8e",
   "metadata": {},
   "source": [
    "### Quiz 80: Consider an arbitrary array, write a function that extract a subpart with a fixed shape and centered on a given element (pad with a fill value when necessary) "
   ]
  },
  {
   "cell_type": "code",
   "execution_count": 350,
   "id": "1498559d",
   "metadata": {},
   "outputs": [
    {
     "name": "stdout",
     "output_type": "stream",
     "text": [
      "[[7 3 1 0 9 8 7 1 3 6]\n",
      " [1 0 0 5 4 4 2 3 5 8]\n",
      " [3 3 0 9 2 3 6 3 0 5]\n",
      " [1 2 1 7 8 5 5 9 3 6]\n",
      " [1 1 9 7 7 5 2 6 1 0]\n",
      " [3 5 7 9 6 8 2 2 0 1]\n",
      " [5 0 3 8 5 6 6 7 3 7]\n",
      " [7 5 6 0 2 2 4 3 8 4]\n",
      " [0 6 5 8 3 4 0 0 9 2]\n",
      " [0 0 3 4 7 5 7 2 7 4]]\n",
      "[[0 0 0 0 0]\n",
      " [0 0 0 0 0]\n",
      " [0 0 0 0 0]\n",
      " [0 0 0 0 0]\n",
      " [0 0 0 0 0]]\n"
     ]
    }
   ],
   "source": [
    "import numpy as np\n",
    "Z = np.random.randint(0,10,(10,10))\n",
    "shape = (5,5)\n",
    "fill  = 0\n",
    "position = (1,1)\n",
    "\n",
    "R = np.ones(shape, dtype=Z.dtype)*fill\n",
    "P  = np.array(list(position)).astype(int)\n",
    "Rs = np.array(list(R.shape)).astype(int)\n",
    "Zs = np.array(list(Z.shape)).astype(int)\n",
    "\n",
    "R_start = np.zeros((len(shape),)).astype(int)\n",
    "R_stop  = np.array(list(shape)).astype(int)\n",
    "Z_start = (P-Rs//2)\n",
    "Z_stop  = (P+Rs//2)+Rs%2\n",
    "\n",
    "R_start = (R_start - np.minimum(Z_start,0)).tolist()\n",
    "Z_start = (np.maximum(Z_start,0)).tolist()\n",
    "R_stop = np.maximum(R_start, (R_stop - np.maximum(Z_stop-Zs,0))).tolist()\n",
    "Z_stop = (np.minimum(Z_stop,Zs)).tolist()\n",
    "\n",
    "r = [slice(start,stop) for start,stop in zip(R_start,R_stop)]\n",
    "z = [slice(start,stop) for start,stop in zip(Z_start,Z_stop)]\n",
    "\n",
    "print(Z)\n",
    "print(R)"
   ]
  },
  {
   "cell_type": "markdown",
   "id": "c9fba88d",
   "metadata": {},
   "source": [
    "### Quiz 81: Consider an array Z = [1,2,3,4,5,6,7,8,9,10,11,12,13,14], how to generate an array R = [[1,2,3,4], [2,3,4,5], [3,4,5,6], ..., [11,12,13,14]]? "
   ]
  },
  {
   "cell_type": "code",
   "execution_count": 351,
   "id": "3ec873fc",
   "metadata": {},
   "outputs": [
    {
     "name": "stdout",
     "output_type": "stream",
     "text": [
      "[[ 1  2  3  4]\n",
      " [ 2  3  4  5]\n",
      " [ 3  4  5  6]\n",
      " [ 4  5  6  7]\n",
      " [ 5  6  7  8]\n",
      " [ 6  7  8  9]\n",
      " [ 7  8  9 10]\n",
      " [ 8  9 10 11]\n",
      " [ 9 10 11 12]\n",
      " [10 11 12 13]\n",
      " [11 12 13 14]]\n",
      "[[ 1  2  3  4]\n",
      " [ 2  3  4  5]\n",
      " [ 3  4  5  6]\n",
      " [ 4  5  6  7]\n",
      " [ 5  6  7  8]\n",
      " [ 6  7  8  9]\n",
      " [ 7  8  9 10]\n",
      " [ 8  9 10 11]\n",
      " [ 9 10 11 12]\n",
      " [10 11 12 13]\n",
      " [11 12 13 14]]\n"
     ]
    }
   ],
   "source": [
    "import numpy as np\n",
    "Z = np.arange(1,15,dtype=np.uint32)\n",
    "R = stride_tricks.as_strided(Z,(11,4),(4,4))\n",
    "print(R)\n",
    "Z = np.arange(1, 15, dtype=np.uint32)\n",
    "print(sliding_window_view(Z, window_shape=4))\n"
   ]
  },
  {
   "cell_type": "markdown",
   "id": "d0bf3414",
   "metadata": {},
   "source": [
    "### Quiz 82: Compute a matrix rank "
   ]
  },
  {
   "cell_type": "code",
   "execution_count": 352,
   "id": "5b978c6d",
   "metadata": {},
   "outputs": [
    {
     "name": "stdout",
     "output_type": "stream",
     "text": [
      "10\n"
     ]
    }
   ],
   "source": [
    "import numpy as np\n",
    "Z = np.random.uniform(0,1,(10,10))\n",
    "U, S, V = np.linalg.svd(Z)\n",
    "rank = np.sum(S > 1e-10)\n",
    "print(rank)"
   ]
  },
  {
   "cell_type": "markdown",
   "id": "04241473",
   "metadata": {},
   "source": [
    "### Quiz 83: How to find the most frequent value in an array? "
   ]
  },
  {
   "cell_type": "code",
   "execution_count": 358,
   "id": "48d11f0b",
   "metadata": {},
   "outputs": [
    {
     "name": "stdout",
     "output_type": "stream",
     "text": [
      "3\n"
     ]
    }
   ],
   "source": [
    "import numpy as np\n",
    "array30 = np.random.randint(0,10,50)\n",
    "print(np.bincount(array30).argmax())"
   ]
  },
  {
   "cell_type": "markdown",
   "id": "6cd1d33a",
   "metadata": {},
   "source": [
    "### Quiz 84: Extract all the contiguous 3x3 blocks from a random 10x10 matrix "
   ]
  },
  {
   "cell_type": "code",
   "execution_count": 363,
   "id": "255c9ebb",
   "metadata": {},
   "outputs": [
    {
     "name": "stdout",
     "output_type": "stream",
     "text": [
      "[[[[4 2 4]\n",
      "   [3 3 3]\n",
      "   [2 0 1]]\n",
      "\n",
      "  [[2 4 1]\n",
      "   [3 3 3]\n",
      "   [0 1 4]]\n",
      "\n",
      "  [[4 1 3]\n",
      "   [3 3 1]\n",
      "   [1 4 3]]\n",
      "\n",
      "  [[1 3 1]\n",
      "   [3 1 3]\n",
      "   [4 3 4]]\n",
      "\n",
      "  [[3 1 3]\n",
      "   [1 3 4]\n",
      "   [3 4 2]]\n",
      "\n",
      "  [[1 3 3]\n",
      "   [3 4 1]\n",
      "   [4 2 3]]\n",
      "\n",
      "  [[3 3 2]\n",
      "   [4 1 0]\n",
      "   [2 3 4]]\n",
      "\n",
      "  [[3 2 4]\n",
      "   [1 0 4]\n",
      "   [3 4 1]]]\n",
      "\n",
      "\n",
      " [[[3 3 3]\n",
      "   [2 0 1]\n",
      "   [1 0 1]]\n",
      "\n",
      "  [[3 3 3]\n",
      "   [0 1 4]\n",
      "   [0 1 1]]\n",
      "\n",
      "  [[3 3 1]\n",
      "   [1 4 3]\n",
      "   [1 1 0]]\n",
      "\n",
      "  [[3 1 3]\n",
      "   [4 3 4]\n",
      "   [1 0 0]]\n",
      "\n",
      "  [[1 3 4]\n",
      "   [3 4 2]\n",
      "   [0 0 3]]\n",
      "\n",
      "  [[3 4 1]\n",
      "   [4 2 3]\n",
      "   [0 3 1]]\n",
      "\n",
      "  [[4 1 0]\n",
      "   [2 3 4]\n",
      "   [3 1 1]]\n",
      "\n",
      "  [[1 0 4]\n",
      "   [3 4 1]\n",
      "   [1 1 4]]]\n",
      "\n",
      "\n",
      " [[[2 0 1]\n",
      "   [1 0 1]\n",
      "   [3 4 4]]\n",
      "\n",
      "  [[0 1 4]\n",
      "   [0 1 1]\n",
      "   [4 4 0]]\n",
      "\n",
      "  [[1 4 3]\n",
      "   [1 1 0]\n",
      "   [4 0 0]]\n",
      "\n",
      "  [[4 3 4]\n",
      "   [1 0 0]\n",
      "   [0 0 1]]\n",
      "\n",
      "  [[3 4 2]\n",
      "   [0 0 3]\n",
      "   [0 1 0]]\n",
      "\n",
      "  [[4 2 3]\n",
      "   [0 3 1]\n",
      "   [1 0 2]]\n",
      "\n",
      "  [[2 3 4]\n",
      "   [3 1 1]\n",
      "   [0 2 2]]\n",
      "\n",
      "  [[3 4 1]\n",
      "   [1 1 4]\n",
      "   [2 2 3]]]\n",
      "\n",
      "\n",
      " [[[1 0 1]\n",
      "   [3 4 4]\n",
      "   [0 2 4]]\n",
      "\n",
      "  [[0 1 1]\n",
      "   [4 4 0]\n",
      "   [2 4 1]]\n",
      "\n",
      "  [[1 1 0]\n",
      "   [4 0 0]\n",
      "   [4 1 2]]\n",
      "\n",
      "  [[1 0 0]\n",
      "   [0 0 1]\n",
      "   [1 2 2]]\n",
      "\n",
      "  [[0 0 3]\n",
      "   [0 1 0]\n",
      "   [2 2 1]]\n",
      "\n",
      "  [[0 3 1]\n",
      "   [1 0 2]\n",
      "   [2 1 2]]\n",
      "\n",
      "  [[3 1 1]\n",
      "   [0 2 2]\n",
      "   [1 2 2]]\n",
      "\n",
      "  [[1 1 4]\n",
      "   [2 2 3]\n",
      "   [2 2 4]]]\n",
      "\n",
      "\n",
      " [[[3 4 4]\n",
      "   [0 2 4]\n",
      "   [3 1 4]]\n",
      "\n",
      "  [[4 4 0]\n",
      "   [2 4 1]\n",
      "   [1 4 3]]\n",
      "\n",
      "  [[4 0 0]\n",
      "   [4 1 2]\n",
      "   [4 3 1]]\n",
      "\n",
      "  [[0 0 1]\n",
      "   [1 2 2]\n",
      "   [3 1 3]]\n",
      "\n",
      "  [[0 1 0]\n",
      "   [2 2 1]\n",
      "   [1 3 2]]\n",
      "\n",
      "  [[1 0 2]\n",
      "   [2 1 2]\n",
      "   [3 2 1]]\n",
      "\n",
      "  [[0 2 2]\n",
      "   [1 2 2]\n",
      "   [2 1 3]]\n",
      "\n",
      "  [[2 2 3]\n",
      "   [2 2 4]\n",
      "   [1 3 3]]]\n",
      "\n",
      "\n",
      " [[[0 2 4]\n",
      "   [3 1 4]\n",
      "   [2 0 0]]\n",
      "\n",
      "  [[2 4 1]\n",
      "   [1 4 3]\n",
      "   [0 0 4]]\n",
      "\n",
      "  [[4 1 2]\n",
      "   [4 3 1]\n",
      "   [0 4 4]]\n",
      "\n",
      "  [[1 2 2]\n",
      "   [3 1 3]\n",
      "   [4 4 0]]\n",
      "\n",
      "  [[2 2 1]\n",
      "   [1 3 2]\n",
      "   [4 0 4]]\n",
      "\n",
      "  [[2 1 2]\n",
      "   [3 2 1]\n",
      "   [0 4 4]]\n",
      "\n",
      "  [[1 2 2]\n",
      "   [2 1 3]\n",
      "   [4 4 4]]\n",
      "\n",
      "  [[2 2 4]\n",
      "   [1 3 3]\n",
      "   [4 4 3]]]\n",
      "\n",
      "\n",
      " [[[3 1 4]\n",
      "   [2 0 0]\n",
      "   [3 3 0]]\n",
      "\n",
      "  [[1 4 3]\n",
      "   [0 0 4]\n",
      "   [3 0 1]]\n",
      "\n",
      "  [[4 3 1]\n",
      "   [0 4 4]\n",
      "   [0 1 3]]\n",
      "\n",
      "  [[3 1 3]\n",
      "   [4 4 0]\n",
      "   [1 3 1]]\n",
      "\n",
      "  [[1 3 2]\n",
      "   [4 0 4]\n",
      "   [3 1 0]]\n",
      "\n",
      "  [[3 2 1]\n",
      "   [0 4 4]\n",
      "   [1 0 0]]\n",
      "\n",
      "  [[2 1 3]\n",
      "   [4 4 4]\n",
      "   [0 0 4]]\n",
      "\n",
      "  [[1 3 3]\n",
      "   [4 4 3]\n",
      "   [0 4 1]]]\n",
      "\n",
      "\n",
      " [[[2 0 0]\n",
      "   [3 3 0]\n",
      "   [1 0 3]]\n",
      "\n",
      "  [[0 0 4]\n",
      "   [3 0 1]\n",
      "   [0 3 0]]\n",
      "\n",
      "  [[0 4 4]\n",
      "   [0 1 3]\n",
      "   [3 0 0]]\n",
      "\n",
      "  [[4 4 0]\n",
      "   [1 3 1]\n",
      "   [0 0 1]]\n",
      "\n",
      "  [[4 0 4]\n",
      "   [3 1 0]\n",
      "   [0 1 0]]\n",
      "\n",
      "  [[0 4 4]\n",
      "   [1 0 0]\n",
      "   [1 0 0]]\n",
      "\n",
      "  [[4 4 4]\n",
      "   [0 0 4]\n",
      "   [0 0 4]]\n",
      "\n",
      "  [[4 4 3]\n",
      "   [0 4 1]\n",
      "   [0 4 0]]]]\n"
     ]
    }
   ],
   "source": [
    "import numpy as np\n",
    "\n",
    "Z = np.random.randint(0,5,(10,10))\n",
    "n = 3\n",
    "i = 1 + (Z.shape[0]-3)\n",
    "j = 1 + (Z.shape[1]-3)\n",
    "C = stride_tricks.as_strided(Z, shape=(i, j, n, n), strides=Z.strides + Z.strides)\n",
    "print(C)"
   ]
  },
  {
   "cell_type": "markdown",
   "id": "466186d1",
   "metadata": {},
   "source": [
    "### Quiz 85:Create a 2D array subclass such that Z[i,j] == Z[j,i] "
   ]
  },
  {
   "cell_type": "code",
   "execution_count": 369,
   "id": "49ae4ea5",
   "metadata": {},
   "outputs": [
    {
     "name": "stdout",
     "output_type": "stream",
     "text": [
      "[[ 0  1  8 13 14]\n",
      " [ 1  6 10 12  4]\n",
      " [ 8 10  9 42 14]\n",
      " [13 12 42  7 13]\n",
      " [14  4 14 13  7]]\n"
     ]
    }
   ],
   "source": [
    "import numpy as np\n",
    "    \n",
    "class Symetric(np.ndarray):\n",
    "    def __setitem__(self, index, value):\n",
    "        i,j = index\n",
    "        super(Symetric, self).__setitem__((i,j), value)\n",
    "        super(Symetric, self).__setitem__((j,i), value)\n",
    "\n",
    "def symetric(Z):\n",
    "    return np.asarray(Z + Z.T - np.diag(Z.diagonal())).view(Symetric)\n",
    "\n",
    "S = symetric(np.random.randint(0,10,(5,5)))\n",
    "S[2,3] = 42\n",
    "print(S)"
   ]
  },
  {
   "cell_type": "markdown",
   "id": "3c51edc1",
   "metadata": {},
   "source": [
    "### Quiz 86: Consider a set of p matrices wich shape (n,n) and a set of p vectors with shape (n,1). How to compute the sum of of the p matrix products at once? (result has shape (n,1))"
   ]
  },
  {
   "cell_type": "code",
   "execution_count": 370,
   "id": "d416ee8a",
   "metadata": {},
   "outputs": [
    {
     "name": "stdout",
     "output_type": "stream",
     "text": [
      "[[200.]\n",
      " [200.]\n",
      " [200.]\n",
      " [200.]\n",
      " [200.]\n",
      " [200.]\n",
      " [200.]\n",
      " [200.]\n",
      " [200.]\n",
      " [200.]\n",
      " [200.]\n",
      " [200.]\n",
      " [200.]\n",
      " [200.]\n",
      " [200.]\n",
      " [200.]\n",
      " [200.]\n",
      " [200.]\n",
      " [200.]\n",
      " [200.]]\n"
     ]
    }
   ],
   "source": [
    "import numpy as np\n",
    "p, n = 10, 20\n",
    "M = np.ones((p,n,n))\n",
    "V = np.ones((p,n,1))\n",
    "S = np.tensordot(M, V, axes=[[0, 2], [0, 1]])\n",
    "print(S)"
   ]
  },
  {
   "cell_type": "markdown",
   "id": "ebe1f089",
   "metadata": {},
   "source": [
    "### quiz 87: Consider a 16x16 array, how to get the block-sum (block size is 4x4)? "
   ]
  },
  {
   "cell_type": "code",
   "execution_count": 373,
   "id": "9aba4bec",
   "metadata": {},
   "outputs": [
    {
     "name": "stdout",
     "output_type": "stream",
     "text": [
      "[[16. 16. 16. 16.]\n",
      " [16. 16. 16. 16.]\n",
      " [16. 16. 16. 16.]\n",
      " [16. 16. 16. 16.]]\n"
     ]
    }
   ],
   "source": [
    "import numpy as np\n",
    "\n",
    "Z = np.ones((16,16))\n",
    "k = 4\n",
    "S = np.add.reduceat(np.add.reduceat(Z, np.arange(0, Z.shape[0], k), axis=0),\n",
    "                                       np.arange(0, Z.shape[1], k), axis=1)\n",
    "print(S)\n",
    "Z = np.ones((16,16))\n",
    "k = 4\n",
    "\n",
    "windows = np.lib.stride_tricks.sliding_window_view(Z, (k, k))\n",
    "S = windows[::k, ::k, ...].sum(axis=(-2, -1))"
   ]
  },
  {
   "cell_type": "markdown",
   "id": "0ab13977",
   "metadata": {},
   "source": [
    "### Quiz 88: How to implement the Game of Life using numpy arrays? "
   ]
  },
  {
   "cell_type": "code",
   "execution_count": 374,
   "id": "165c5133",
   "metadata": {},
   "outputs": [
    {
     "name": "stdout",
     "output_type": "stream",
     "text": [
      "[[0 0 0 ... 0 0 0]\n",
      " [0 0 0 ... 0 0 0]\n",
      " [0 0 0 ... 1 0 0]\n",
      " ...\n",
      " [0 1 1 ... 0 0 0]\n",
      " [0 0 0 ... 0 0 0]\n",
      " [0 0 0 ... 0 0 0]]\n"
     ]
    }
   ],
   "source": [
    "def iterate(Z):\n",
    "    # Count neighbours\n",
    "    N = (Z[0:-2,0:-2] + Z[0:-2,1:-1] + Z[0:-2,2:] +\n",
    "         Z[1:-1,0:-2]                + Z[1:-1,2:] +\n",
    "         Z[2:  ,0:-2] + Z[2:  ,1:-1] + Z[2:  ,2:])\n",
    "\n",
    "    # Apply rules\n",
    "    birth = (N==3) & (Z[1:-1,1:-1]==0)\n",
    "    survive = ((N==2) | (N==3)) & (Z[1:-1,1:-1]==1)\n",
    "    Z[...] = 0\n",
    "    Z[1:-1,1:-1][birth | survive] = 1\n",
    "    return Z\n",
    "import numpy as np\n",
    "Z = np.random.randint(0,2,(50,50))\n",
    "for i in range(100): Z = iterate(Z)\n",
    "print(Z)\n"
   ]
  },
  {
   "cell_type": "markdown",
   "id": "3da2f3dd",
   "metadata": {},
   "source": [
    "### Quiz 89: How to get the n largest values of an array "
   ]
  },
  {
   "cell_type": "code",
   "execution_count": 377,
   "id": "179ccf08",
   "metadata": {},
   "outputs": [
    {
     "name": "stdout",
     "output_type": "stream",
     "text": [
      "[9995 9996 9997 9998 9999]\n"
     ]
    }
   ],
   "source": [
    "import numpy as np\n",
    "array31 = np.arange(10000)\n",
    "np.random.shuffle(array31)\n",
    "n = 5\n",
    "print (array31[np.argsort(array31)[-n:]])"
   ]
  },
  {
   "cell_type": "markdown",
   "id": "87c2ecec",
   "metadata": {},
   "source": [
    "### Quoz 90: Given an arbitrary number of vectors, build the cartesian product (every combinations of every item) "
   ]
  },
  {
   "cell_type": "code",
   "execution_count": 378,
   "id": "997a9139",
   "metadata": {},
   "outputs": [
    {
     "name": "stdout",
     "output_type": "stream",
     "text": [
      "[[1 4 6]\n",
      " [1 4 7]\n",
      " [1 5 6]\n",
      " [1 5 7]\n",
      " [2 4 6]\n",
      " [2 4 7]\n",
      " [2 5 6]\n",
      " [2 5 7]\n",
      " [3 4 6]\n",
      " [3 4 7]\n",
      " [3 5 6]\n",
      " [3 5 7]]\n"
     ]
    }
   ],
   "source": [
    "import numpy as np\n",
    "def cartesian(arrays):\n",
    "    arrays = [np.asarray(a) for a in arrays]\n",
    "    shape = (len(x) for x in arrays)\n",
    "\n",
    "    ix = np.indices(shape, dtype=int)\n",
    "    ix = ix.reshape(len(arrays), -1).T\n",
    "\n",
    "    for n, arr in enumerate(arrays):\n",
    "        ix[:, n] = arrays[n][ix[:, n]]\n",
    "\n",
    "    return ix\n",
    "\n",
    "print (cartesian(([1, 2, 3], [4, 5], [6, 7])))"
   ]
  },
  {
   "cell_type": "markdown",
   "id": "1e29d12b",
   "metadata": {},
   "source": [
    "### Quiz 91: How to create a record array from a regular array?  "
   ]
  },
  {
   "cell_type": "code",
   "execution_count": 379,
   "id": "444558b6",
   "metadata": {},
   "outputs": [
    {
     "name": "stdout",
     "output_type": "stream",
     "text": [
      "[(b'Hello', 2.5, 3) (b'World', 3.6, 2)]\n"
     ]
    }
   ],
   "source": [
    "import numpy as np\n",
    "array32 = np.array([(\"Hello\", 2.5, 3),\n",
    "              (\"World\", 3.6, 2)])\n",
    "Record = np.core.records.fromarrays(array32.T,\n",
    "                               names='col1, col2, col3',\n",
    "                               formats = 'S8, f8, i8')\n",
    "print(Record)"
   ]
  },
  {
   "cell_type": "markdown",
   "id": "dd0a79d4",
   "metadata": {},
   "source": [
    "### Quiz 92: Consider a large vector Z, compute Z to the power of 3 using 3 different methods"
   ]
  },
  {
   "cell_type": "code",
   "execution_count": 381,
   "id": "1acc74e6",
   "metadata": {},
   "outputs": [
    {
     "name": "stdout",
     "output_type": "stream",
     "text": [
      "4.24 s ± 139 ms per loop (mean ± std. dev. of 7 runs, 1 loop each)\n",
      "466 ms ± 65.8 ms per loop (mean ± std. dev. of 7 runs, 1 loop each)\n",
      "266 ms ± 18.1 ms per loop (mean ± std. dev. of 7 runs, 1 loop each)\n"
     ]
    }
   ],
   "source": [
    "import numpy as np\n",
    "x = np.random.rand(int(5e7))\n",
    "\n",
    "%timeit np.power(x,3)\n",
    "%timeit x*x*x\n",
    "%timeit np.einsum('i,i,i->i',x,x,x)"
   ]
  },
  {
   "cell_type": "markdown",
   "id": "b5411f55",
   "metadata": {},
   "source": [
    "### Quiz 93: Consider two arrays A and B of shape (8,3) and (2,2). How to find rows of A that contain elements of each row of B regardless of the order of the elements in B?  "
   ]
  },
  {
   "cell_type": "code",
   "execution_count": 382,
   "id": "80fab406",
   "metadata": {},
   "outputs": [
    {
     "name": "stdout",
     "output_type": "stream",
     "text": [
      "[0 1 3 4 6 7]\n"
     ]
    }
   ],
   "source": [
    "import numpy as np\n",
    "A = np.random.randint(0,5,(8,3))\n",
    "B = np.random.randint(0,5,(2,2))\n",
    "\n",
    "C = (A[..., np.newaxis, np.newaxis] == B)\n",
    "rows = np.where(C.any((3,1)).all(1))[0]\n",
    "print(rows)"
   ]
  },
  {
   "cell_type": "markdown",
   "id": "3bc4c5d6",
   "metadata": {},
   "source": [
    "### Quiz 94: Considering a 10x3 matrix, extract rows with unequal values (e.g. [2,2,3]) "
   ]
  },
  {
   "cell_type": "code",
   "execution_count": 383,
   "id": "328e8a9b",
   "metadata": {},
   "outputs": [
    {
     "name": "stdout",
     "output_type": "stream",
     "text": [
      "[[4 0 0]\n",
      " [3 4 2]\n",
      " [1 2 0]\n",
      " [2 2 3]\n",
      " [3 2 2]\n",
      " [1 3 2]\n",
      " [3 4 3]\n",
      " [4 1 4]\n",
      " [4 3 0]\n",
      " [0 3 2]]\n",
      "[[4 0 0]\n",
      " [3 4 2]\n",
      " [1 2 0]\n",
      " [2 2 3]\n",
      " [3 2 2]\n",
      " [1 3 2]\n",
      " [3 4 3]\n",
      " [4 1 4]\n",
      " [4 3 0]\n",
      " [0 3 2]]\n",
      "[[4 0 0]\n",
      " [3 4 2]\n",
      " [1 2 0]\n",
      " [2 2 3]\n",
      " [3 2 2]\n",
      " [1 3 2]\n",
      " [3 4 3]\n",
      " [4 1 4]\n",
      " [4 3 0]\n",
      " [0 3 2]]\n"
     ]
    }
   ],
   "source": [
    "import numpy as np\n",
    "Z = np.random.randint(0,5,(10,3))\n",
    "print(Z)\n",
    "# solution for arrays of all dtypes (including string arrays and record arrays)\n",
    "E = np.all(Z[:,1:] == Z[:,:-1], axis=1)\n",
    "U = Z[~E]\n",
    "print(U)\n",
    "# soluiton for numerical arrays only, will work for any number of columns in Z\n",
    "U = Z[Z.max(axis=1) != Z.min(axis=1),:]\n",
    "print(U)"
   ]
  },
  {
   "cell_type": "markdown",
   "id": "7b2485ee",
   "metadata": {},
   "source": [
    "### Quiz 95: Convert a vector of ints into a matrix binary representation "
   ]
  },
  {
   "cell_type": "code",
   "execution_count": 384,
   "id": "464004c5",
   "metadata": {},
   "outputs": [
    {
     "name": "stdout",
     "output_type": "stream",
     "text": [
      "[[0 0 0 0 0 0 0 0]\n",
      " [0 0 0 0 0 0 0 1]\n",
      " [0 0 0 0 0 0 1 0]\n",
      " [0 0 0 0 0 0 1 1]\n",
      " [0 0 0 0 1 1 1 1]\n",
      " [0 0 0 1 0 0 0 0]\n",
      " [0 0 1 0 0 0 0 0]\n",
      " [0 1 0 0 0 0 0 0]\n",
      " [1 0 0 0 0 0 0 0]]\n",
      "[[0 0 0 0 0 0 0 0]\n",
      " [0 0 0 0 0 0 0 1]\n",
      " [0 0 0 0 0 0 1 0]\n",
      " [0 0 0 0 0 0 1 1]\n",
      " [0 0 0 0 1 1 1 1]\n",
      " [0 0 0 1 0 0 0 0]\n",
      " [0 0 1 0 0 0 0 0]\n",
      " [0 1 0 0 0 0 0 0]\n",
      " [1 0 0 0 0 0 0 0]]\n"
     ]
    }
   ],
   "source": [
    "import numpy as np\n",
    "I = np.array([0, 1, 2, 3, 15, 16, 32, 64, 128])\n",
    "B = ((I.reshape(-1,1) & (2**np.arange(8))) != 0).astype(int)\n",
    "print(B[:,::-1])\n",
    "\n",
    "I = np.array([0, 1, 2, 3, 15, 16, 32, 64, 128], dtype=np.uint8)\n",
    "print(np.unpackbits(I[:, np.newaxis], axis=1))"
   ]
  },
  {
   "cell_type": "markdown",
   "id": "4e1d07dc",
   "metadata": {},
   "source": [
    "### Quiz 96: Given a two dimensional array, how to extract unique rows? "
   ]
  },
  {
   "cell_type": "code",
   "execution_count": 385,
   "id": "54487813",
   "metadata": {},
   "outputs": [
    {
     "name": "stdout",
     "output_type": "stream",
     "text": [
      "[[0 0 0]\n",
      " [0 0 1]\n",
      " [0 1 0]\n",
      " [0 1 1]\n",
      " [1 0 1]\n",
      " [1 1 1]]\n",
      "[[0 0 0]\n",
      " [0 0 1]\n",
      " [0 1 0]\n",
      " [0 1 1]\n",
      " [1 0 1]\n",
      " [1 1 1]]\n"
     ]
    }
   ],
   "source": [
    "Z = np.random.randint(0,2,(6,3))\n",
    "T = np.ascontiguousarray(Z).view(np.dtype((np.void, Z.dtype.itemsize * Z.shape[1])))\n",
    "_, idx = np.unique(T, return_index=True)\n",
    "uZ = Z[idx]\n",
    "print(uZ)\n",
    "uZ = np.unique(Z, axis=0)\n",
    "print(uZ)"
   ]
  },
  {
   "cell_type": "markdown",
   "id": "3a397119",
   "metadata": {},
   "source": [
    "### Quiz 97: Considering 2 vectors A & B, write the einsum equivalent of inner, outer, sum, and mul function "
   ]
  },
  {
   "cell_type": "code",
   "execution_count": 387,
   "id": "1d589e46",
   "metadata": {},
   "outputs": [
    {
     "data": {
      "text/plain": [
       "array([[0.42613617, 0.21944824, 0.45996961, 0.34637208, 0.37346658,\n",
       "        0.07166681, 0.32119539, 0.28672516, 0.0913998 , 0.25902181],\n",
       "       [0.39478591, 0.20330373, 0.42613027, 0.32088996, 0.34599115,\n",
       "        0.06639438, 0.29756548, 0.26563118, 0.08467564, 0.23996593],\n",
       "       [0.59027346, 0.30397437, 0.63713871, 0.47978619, 0.51731682,\n",
       "        0.09927113, 0.44491205, 0.39716472, 0.12660478, 0.35879071],\n",
       "       [0.61125947, 0.31478158, 0.65979093, 0.49684404, 0.53570901,\n",
       "        0.10280052, 0.46073002, 0.41128513, 0.13110596, 0.37154681],\n",
       "       [0.18717872, 0.09639182, 0.20203993, 0.15214264, 0.1640438 ,\n",
       "        0.03147938, 0.14108387, 0.12594295, 0.04014702, 0.11377436],\n",
       "       [0.6530858 , 0.33632097, 0.70493809, 0.53084133, 0.57236568,\n",
       "        0.10983479, 0.49225615, 0.43942792, 0.14007708, 0.39697045],\n",
       "       [0.59657737, 0.30722071, 0.64394313, 0.48491014, 0.52284158,\n",
       "        0.10033131, 0.44966355, 0.4014063 , 0.12795687, 0.36262247],\n",
       "       [0.28014633, 0.14426755, 0.30238879, 0.2277086 , 0.2455208 ,\n",
       "        0.0471145 , 0.21115718, 0.18849609, 0.06008717, 0.17028362],\n",
       "       [0.20629507, 0.10623621, 0.22267404, 0.1676808 , 0.18079741,\n",
       "        0.03469433, 0.15549261, 0.13880537, 0.04424719, 0.12539401],\n",
       "       [0.05373463, 0.02767184, 0.05800094, 0.04367659, 0.04709314,\n",
       "        0.00903699, 0.04050188, 0.03615528, 0.01152527, 0.03266196]])"
      ]
     },
     "execution_count": 387,
     "metadata": {},
     "output_type": "execute_result"
    }
   ],
   "source": [
    "import numpy as np\n",
    "A = np.random.uniform(0,1,10)\n",
    "B = np.random.uniform(0,1,10)\n",
    "\n",
    "np.einsum('i->', A)       \n",
    "np.einsum('i,i->i', A, B) \n",
    "np.einsum('i,i', A, B)   \n",
    "np.einsum('i,j->ij', A, B)   \n"
   ]
  },
  {
   "cell_type": "markdown",
   "id": "e7aed1d1",
   "metadata": {},
   "source": [
    "### Quiz 98: Considering a path described by two vectors (X,Y), how to sample it using equidistant samples  "
   ]
  },
  {
   "cell_type": "code",
   "execution_count": 393,
   "id": "9387ef3b",
   "metadata": {},
   "outputs": [
    {
     "name": "stdout",
     "output_type": "stream",
     "text": [
      "[1 1 1 2 2 3 3 4 4 5]\n",
      "[ 6  6  6  7  7  8  8  9  9 10]\n"
     ]
    }
   ],
   "source": [
    "import numpy as np\n",
    "\n",
    "# Example vectors describing the path\n",
    "X = np.array([1, 2, 3, 4, 5])\n",
    "Y = np.array([6, 7, 8, 9, 10])\n",
    "\n",
    "# Number of equidistant samples\n",
    "num_samples = 10\n",
    "\n",
    "# Calculate the step size between samples\n",
    "step_size = len(X) / (num_samples - 1)\n",
    "\n",
    "# Generate the indices for sampling\n",
    "indices = np.linspace(0, len(X)-1, num_samples, dtype=int)\n",
    "\n",
    "# Sample the path using the indices\n",
    "sampled_X = X[indices]\n",
    "sampled_Y = Y[indices]\n",
    "\n",
    "# Print the sampled coordinates\n",
    "print(sampled_X)\n",
    "print(sampled_Y)"
   ]
  },
  {
   "cell_type": "markdown",
   "id": "ca6c78fb",
   "metadata": {},
   "source": [
    "### Quiz 99: Given an integer n and a 2D array X, select from X the rows which can be interpreted as draws from a multinomial distribution with n degrees, i.e., the rows which only contain integers and which sum to n. "
   ]
  },
  {
   "cell_type": "code",
   "execution_count": 394,
   "id": "0ad83287",
   "metadata": {},
   "outputs": [
    {
     "name": "stdout",
     "output_type": "stream",
     "text": [
      "[[2. 0. 1. 1.]]\n"
     ]
    }
   ],
   "source": [
    "import numpy as np\n",
    "X = np.asarray([[1.0, 0.0, 3.0, 8.0],\n",
    "                [2.0, 0.0, 1.0, 1.0],\n",
    "                [1.5, 2.5, 1.0, 0.0]])\n",
    "n = 4\n",
    "M = np.logical_and.reduce(np.mod(X, 1) == 0, axis=-1)\n",
    "M &= (X.sum(axis=-1) == n)\n",
    "print(X[M])"
   ]
  },
  {
   "cell_type": "markdown",
   "id": "6a2ec895",
   "metadata": {},
   "source": [
    "### Quiz 100: Compute bootstrapped 95% confidence intervals for the mean of a 1D array X (i.e., resample the elements of an array with replacement N times, compute the mean of each sample, and then compute percentiles over the means). "
   ]
  },
  {
   "cell_type": "code",
   "execution_count": 395,
   "id": "2fd8036d",
   "metadata": {},
   "outputs": [
    {
     "name": "stdout",
     "output_type": "stream",
     "text": [
      "[-0.21314711  0.17921626]\n"
     ]
    }
   ],
   "source": [
    "import numpy as np\n",
    "X = np.random.randn(100) # random 1D array\n",
    "N = 1000 # number of bootstrap samples\n",
    "idx = np.random.randint(0, X.size, (N, X.size))\n",
    "means = X[idx].mean(axis=1)\n",
    "confint = np.percentile(means, [2.5, 97.5])\n",
    "print(confint)"
   ]
  },
  {
   "cell_type": "code",
   "execution_count": null,
   "id": "e0016427",
   "metadata": {},
   "outputs": [],
   "source": []
  }
 ],
 "metadata": {
  "kernelspec": {
   "display_name": "Python 3 (ipykernel)",
   "language": "python",
   "name": "python3"
  },
  "language_info": {
   "codemirror_mode": {
    "name": "ipython",
    "version": 3
   },
   "file_extension": ".py",
   "mimetype": "text/x-python",
   "name": "python",
   "nbconvert_exporter": "python",
   "pygments_lexer": "ipython3",
   "version": "3.11.5"
  }
 },
 "nbformat": 4,
 "nbformat_minor": 5
}
